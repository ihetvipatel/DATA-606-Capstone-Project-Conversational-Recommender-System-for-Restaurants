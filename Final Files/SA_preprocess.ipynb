{
 "cells": [
  {
   "cell_type": "code",
   "execution_count": 37,
   "metadata": {},
   "outputs": [],
   "source": [
    "import pandas as pd\n",
    "import re\n",
    "import spacy\n",
    "import nltk\n",
    "from nltk.corpus import stopwords\n",
    "from nltk.stem import WordNetLemmatizer, PorterStemmer\n",
    "from nltk import pos_tag, ne_chunk\n",
    "from nltk.tokenize import word_tokenize\n",
    "from transformers import AutoTokenizer, AutoConfig\n"
   ]
  },
  {
   "cell_type": "code",
   "execution_count": 38,
   "metadata": {},
   "outputs": [],
   "source": [
    "filename = 'yelp_reviews_food_tenth.parquet'\n",
    "\n",
    "# Load the dataset into a Pandas DataFrame\n",
    "df = pd.read_parquet(filename)"
   ]
  },
  {
   "cell_type": "code",
   "execution_count": 39,
   "metadata": {},
   "outputs": [],
   "source": [
    "# Drop any rows with missing values\n",
    "df.dropna(inplace=True)"
   ]
  },
  {
   "cell_type": "code",
   "execution_count": 40,
   "metadata": {},
   "outputs": [],
   "source": [
    "# Remove any URLs and mentions (@username) from the text\n",
    "df['text'] = df['text'].apply(lambda x: re.sub(r\"http\\S+\", \"\", x))\n",
    "df['text'] = df['text'].apply(lambda x: re.sub(r\"@\\S+\", \"\", x))\n",
    "\n",
    "# Remove any non-alphanumeric characters and convert to lowercase\n",
    "df['text'] = df['text'].apply(lambda x: re.sub(r\"[^a-zA-Z0-9\\s]\", \"\", x.lower()))\n",
    "\n",
    "# Remove any leading or trailing whitespaces\n",
    "df['text'] = df['text'].apply(lambda x: x.strip())\n",
    "\n"
   ]
  },
  {
   "cell_type": "code",
   "execution_count": 41,
   "metadata": {},
   "outputs": [
    {
     "data": {
      "text/plain": [
       "'love going here for happy hour or dinner  great patio with fans to beat the stl heat   alsovery accomodating at this location  i like the veal milanese but with mixed greens instead of pasta  theyll modify the menu to suit your taste'"
      ]
     },
     "execution_count": 41,
     "metadata": {},
     "output_type": "execute_result"
    }
   ],
   "source": [
    "df['text'][0]"
   ]
  },
  {
   "cell_type": "code",
   "execution_count": 42,
   "metadata": {},
   "outputs": [],
   "source": [
    "stop_words = stopwords.words('english')\n",
    "\n",
    "def clean_text(text):\n",
    "    \n",
    "    text = ''.join(text)\n",
    "    \n",
    "    # Remove stopwords\n",
    "    words = text.split()\n",
    "    words = [w for w in words if w not in stop_words]\n",
    "\n",
    "        # Join back the words\n",
    "    text = \" \".join(words)\n",
    "    return text"
   ]
  },
  {
   "cell_type": "code",
   "execution_count": 43,
   "metadata": {},
   "outputs": [
    {
     "data": {
      "text/plain": [
       "'love going happy hour dinner great patio fans beat stl heat alsovery accomodating location like veal milanese mixed greens instead pasta theyll modify menu suit taste'"
      ]
     },
     "execution_count": 43,
     "metadata": {},
     "output_type": "execute_result"
    }
   ],
   "source": [
    "clean_text(df['text'][0])"
   ]
  },
  {
   "cell_type": "code",
   "execution_count": 44,
   "metadata": {},
   "outputs": [],
   "source": [
    "# Apply the function to the text column\n",
    "df['text_cleaned'] = df['text'].apply(clean_text)\n"
   ]
  },
  {
   "cell_type": "code",
   "execution_count": 45,
   "metadata": {},
   "outputs": [],
   "source": [
    "# Save as checkpoint\n",
    "df.to_parquet('yelp_food_reviews_cleaned.parquet', index=False)"
   ]
  },
  {
   "cell_type": "code",
   "execution_count": 46,
   "metadata": {},
   "outputs": [],
   "source": [
    "# Define preprocessing functions\n",
    "\n",
    "def remove_stopwords(tokens):\n",
    "    return [token for token in tokens if token not in stopwords.words('english')]\n",
    "\n",
    "def lemmatize(tokens):\n",
    "    lemmatizer = WordNetLemmatizer()\n",
    "    return [lemmatizer.lemmatize(token) for token in tokens]\n",
    "\n",
    "def stem(tokens):\n",
    "    stemmer = PorterStemmer()\n",
    "    return [stemmer.stem(token) for token in tokens]\n",
    "\n",
    "nlp = spacy.load('en_core_web_sm', disable=['parser', 'ner'])\n",
    "\n",
    "def pos_tagger(tokens):\n",
    "    doc = spacy.tokens.Doc(nlp.vocab, words=tokens)\n",
    "    pos_tagged_tokens = [(token.text, token.pos_) for token in doc]\n",
    "    return pos_tagged_tokens\n",
    "\n",
    "def ner(text):\n",
    "    doc = nlp(text)\n",
    "    ner_results = [(ent.text, ent.label_) for ent in doc.ents]\n",
    "    return ner_results\n"
   ]
  },
  {
   "cell_type": "code",
   "execution_count": 48,
   "metadata": {},
   "outputs": [
    {
     "name": "stderr",
     "output_type": "stream",
     "text": [
      "Token indices sequence length is longer than the specified maximum sequence length for this model (587 > 512). Running this sequence through the model will result in indexing errors\n"
     ]
    }
   ],
   "source": [
    "# Tokenize the text using the sentiment_pipeline tokenizer\n",
    "tokenizer = AutoTokenizer.from_pretrained(\"bert-base-uncased\", config=AutoConfig.from_pretrained(\"potatobunny/results-yelp\"))\n",
    "\n",
    "# tokenizer = sentiment_pipeline.tokenizer\n",
    "df[\"tokens\"] = df['text'].apply(tokenizer.tokenize)"
   ]
  },
  {
   "cell_type": "code",
   "execution_count": 49,
   "metadata": {},
   "outputs": [],
   "source": [
    "df['tokens'] = df['tokens'].apply(lemmatize)"
   ]
  },
  {
   "cell_type": "code",
   "execution_count": 50,
   "metadata": {},
   "outputs": [],
   "source": [
    "df['tokens'] = df['tokens'].apply(stem)"
   ]
  },
  {
   "cell_type": "code",
   "execution_count": 51,
   "metadata": {},
   "outputs": [],
   "source": [
    "df['pos_tags'] = df['tokens'].apply(lambda x: pos_tagger(x))"
   ]
  },
  {
   "cell_type": "code",
   "execution_count": 52,
   "metadata": {},
   "outputs": [],
   "source": [
    "df['ner'] = df['tokens'].apply(lambda x: ner(' '.join(x)))"
   ]
  },
  {
   "cell_type": "code",
   "execution_count": 53,
   "metadata": {},
   "outputs": [],
   "source": [
    "# create a mapping of star ratings to sentiment categories\n",
    "sentiment_map = {1: 'Negative', 2: 'Neutral', 3: 'Neutral', 4: 'Neutral', 5: 'Positive'}\n",
    "\n",
    "# apply the mapping to the 'stars' column of the dataframe\n",
    "df['label'] = df['stars'].map(sentiment_map)"
   ]
  },
  {
   "cell_type": "code",
   "execution_count": 54,
   "metadata": {},
   "outputs": [],
   "source": [
    "# Save the preprocessed data to a new CSV file\n",
    "df.to_csv('sentiment_data_preprocessed.csv', index=False)\n"
   ]
  },
  {
   "cell_type": "code",
   "execution_count": null,
   "metadata": {},
   "outputs": [],
   "source": [
    "import pandas as pd\n",
    "\n",
    "df = pd.read_csv('sentiment_data_preprocessed.csv')\n",
    "\n",
    "df = df[['text_cleaned', 'stars']]\n",
    "df.rename(columns={'text_cleaned': 'text', 'stars':'labels'}, inplace=True)\n",
    "df"
   ]
  },
  {
   "cell_type": "code",
   "execution_count": null,
   "metadata": {},
   "outputs": [],
   "source": [
    "df.to_parquet('sentiment_data_preprocessed.parquet')"
   ]
  }
 ],
 "metadata": {
  "kernelspec": {
   "display_name": "Python 3",
   "language": "python",
   "name": "python3"
  },
  "language_info": {
   "codemirror_mode": {
    "name": "ipython",
    "version": 3
   },
   "file_extension": ".py",
   "mimetype": "text/x-python",
   "name": "python",
   "nbconvert_exporter": "python",
   "pygments_lexer": "ipython3",
   "version": "3.9.13"
  },
  "orig_nbformat": 4
 },
 "nbformat": 4,
 "nbformat_minor": 2
}
