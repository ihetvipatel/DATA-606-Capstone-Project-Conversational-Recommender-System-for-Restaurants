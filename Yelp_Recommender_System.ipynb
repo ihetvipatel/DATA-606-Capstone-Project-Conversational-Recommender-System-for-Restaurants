{
  "nbformat": 4,
  "nbformat_minor": 0,
  "metadata": {
    "colab": {
      "provenance": [],
      "collapsed_sections": [
        "65qhZ8My-anO"
      ]
    },
    "kernelspec": {
      "name": "python3",
      "display_name": "Python 3"
    },
    "language_info": {
      "name": "python"
    }
  },
  "cells": [
    {
      "cell_type": "markdown",
      "source": [
        "#### **Collaborative Filtering Recommender Model**"
      ],
      "metadata": {
        "id": "OZ-wRkT63aUX"
      }
    },
    {
      "cell_type": "code",
      "source": [
        "import pandas as pd\n",
        "import matplotlib.pyplot as plt\n",
        "import numpy as np\n",
        "import seaborn as sns\n",
        "from scipy import sparse\n",
        "from surprise import Reader\n",
        "from surprise import Dataset\n",
        "from surprise import BaselineOnly\n",
        "from surprise import KNNBaseline\n",
        "from surprise import SVD\n",
        "from surprise import SVDpp\n",
        "from surprise.model_selection import GridSearchCV\n",
        "from surprise.model_selection import cross_validate, train_test_split\n",
        "from surprise.model_selection import KFold\n",
        "from surprise import KNNBasic\n",
        "from surprise import accuracy"
      ],
      "metadata": {
        "id": "DO1hP3DW0KZE"
      },
      "execution_count": 2,
      "outputs": []
    },
    {
      "cell_type": "markdown",
      "source": [
        "## Data Pre-Processing"
      ],
      "metadata": {
        "id": "zqLtt9ZDOh2t"
      }
    },
    {
      "cell_type": "code",
      "source": [
        "yelp_ratings = pd.read_csv('/Users/hetvipatel/Documents/GRAD SCHOOL/DATA 606/yelp_reviews_food_categories.csv', \n",
        "                           usecols = ['user_id', 'business_id', 'stars_y', 'date'])"
      ],
      "metadata": {
        "id": "M3i59lBUHLaU"
      },
      "execution_count": 186,
      "outputs": []
    },
    {
      "cell_type": "code",
      "source": [
        "yelp_ratings.dtypes"
      ],
      "metadata": {
        "colab": {
          "base_uri": "https://localhost:8080/"
        },
        "id": "3rt32Sx_NGuq",
        "outputId": "b2ae77de-b964-48f2-9f8e-5c749a1adad6"
      },
      "execution_count": 187,
      "outputs": [
        {
          "output_type": "execute_result",
          "data": {
            "text/plain": [
              "business_id     object\n",
              "user_id         object\n",
              "stars_y        float64\n",
              "date            object\n",
              "dtype: object"
            ]
          },
          "metadata": {},
          "execution_count": 187
        }
      ]
    },
    {
      "cell_type": "code",
      "source": [
        "yelp_ratings.isna().sum()"
      ],
      "metadata": {
        "colab": {
          "base_uri": "https://localhost:8080/"
        },
        "id": "5xZFQu2rOOjt",
        "outputId": "93dee4b4-16ef-4b8d-ac0f-8cbedd7880b5"
      },
      "execution_count": 188,
      "outputs": [
        {
          "output_type": "execute_result",
          "data": {
            "text/plain": [
              "business_id    0\n",
              "user_id        2\n",
              "stars_y        2\n",
              "date           3\n",
              "dtype: int64"
            ]
          },
          "metadata": {},
          "execution_count": 188
        }
      ]
    },
    {
      "cell_type": "code",
      "source": [
        "yelp_ratings = yelp_ratings.dropna()\n",
        "yelp_ratings.isna().sum()"
      ],
      "metadata": {
        "colab": {
          "base_uri": "https://localhost:8080/"
        },
        "id": "-YAVcM-ZOYx8",
        "outputId": "9d3fa93e-b133-44a1-f541-9b413459e466"
      },
      "execution_count": 189,
      "outputs": [
        {
          "output_type": "execute_result",
          "data": {
            "text/plain": [
              "business_id    0\n",
              "user_id        0\n",
              "stars_y        0\n",
              "date           0\n",
              "dtype: int64"
            ]
          },
          "metadata": {},
          "execution_count": 189
        }
      ]
    },
    {
      "cell_type": "code",
      "source": [
        "yelp_ratings['stars_y'] = yelp_ratings['stars_y'].astype('int64')\n",
        "yelp_ratings['user_id'] = yelp_ratings['user_id'].astype('str')\n",
        "yelp_ratings['business_id'] = yelp_ratings['business_id'].astype('str')"
      ],
      "metadata": {
        "id": "AP5CsMdvNyzL"
      },
      "execution_count": 190,
      "outputs": []
    },
    {
      "cell_type": "code",
      "source": [
        "yelp_ratings.dtypes"
      ],
      "metadata": {
        "colab": {
          "base_uri": "https://localhost:8080/"
        },
        "id": "kVhfWl8EO6H8",
        "outputId": "5925777a-3b91-47af-e271-bc391f9ada98"
      },
      "execution_count": 191,
      "outputs": [
        {
          "output_type": "execute_result",
          "data": {
            "text/plain": [
              "business_id    object\n",
              "user_id        object\n",
              "stars_y         int64\n",
              "date           object\n",
              "dtype: object"
            ]
          },
          "metadata": {},
          "execution_count": 191
        }
      ]
    },
    {
      "cell_type": "markdown",
      "source": [
        "## Collab Filtering With SVD #1 (work in progress)"
      ],
      "metadata": {
        "id": "6NFbITGk-0na"
      }
    },
    {
      "cell_type": "code",
      "source": [
        "yelp_ratings"
      ],
      "metadata": {
        "colab": {
          "base_uri": "https://localhost:8080/",
          "height": 771
        },
        "id": "XFOMMdannWKM",
        "outputId": "2e97d7ff-fbf5-4d2d-b419-b574cadb57b2"
      },
      "execution_count": 200,
      "outputs": [
        {
          "output_type": "execute_result",
          "data": {
            "text/plain": [
              "                    business_id                 user_id  stars_y  \\\n",
              "0        2AwhlMOMsYXJvskZKKG2GA  jBzITjfkC7M99oN6a5HErQ        4   \n",
              "1        2AwhlMOMsYXJvskZKKG2GA  R9AkporqiO758oEz_g9kxQ        3   \n",
              "2        2AwhlMOMsYXJvskZKKG2GA  -Z97B_kIy1-w3nifW1PQZg        5   \n",
              "3        2AwhlMOMsYXJvskZKKG2GA  9m9mkjkyo4HGFUWgugewHA        5   \n",
              "4        2AwhlMOMsYXJvskZKKG2GA  KE2en6iTCiCtqVS9hq50sg        5   \n",
              "...                         ...                     ...      ...   \n",
              "3584005  2O2K6SXPWv56amqxCECd4w  eWz12w7dzYlfrGnhTQ82Fg        5   \n",
              "3584006  2O2K6SXPWv56amqxCECd4w  lDyhGApbGZ0_BoeJzRQq7g        5   \n",
              "3584007  2O2K6SXPWv56amqxCECd4w  -TTJ75--0NEAjvFCOV7rBg        5   \n",
              "3584008  2O2K6SXPWv56amqxCECd4w  8yFNNU7UmQcfzmcTvzTlOA        1   \n",
              "3584009  2O2K6SXPWv56amqxCECd4w  uvBkI-2pOW0gg8yee7YvdA        4   \n",
              "\n",
              "                        date  \n",
              "0        2017-09-18 17:29:03  \n",
              "1        2018-07-04 01:02:30  \n",
              "2        2016-10-13 02:00:28  \n",
              "3        2016-07-12 15:05:25  \n",
              "4        2018-07-03 23:28:02  \n",
              "...                      ...  \n",
              "3584005  2019-07-14 14:25:35  \n",
              "3584006  2021-06-25 23:22:26  \n",
              "3584007  2016-12-09 21:38:05  \n",
              "3584008  2020-02-19 22:59:06  \n",
              "3584009  2021-06-07 02:55:04  \n",
              "\n",
              "[3584007 rows x 4 columns]"
            ],
            "text/html": [
              "<div>\n",
              "<style scoped>\n",
              "    .dataframe tbody tr th:only-of-type {\n",
              "        vertical-align: middle;\n",
              "    }\n",
              "\n",
              "    .dataframe tbody tr th {\n",
              "        vertical-align: top;\n",
              "    }\n",
              "\n",
              "    .dataframe thead th {\n",
              "        text-align: right;\n",
              "    }\n",
              "</style>\n",
              "<table border=\"1\" class=\"dataframe\">\n",
              "  <thead>\n",
              "    <tr style=\"text-align: right;\">\n",
              "      <th></th>\n",
              "      <th>business_id</th>\n",
              "      <th>user_id</th>\n",
              "      <th>stars_y</th>\n",
              "      <th>date</th>\n",
              "    </tr>\n",
              "  </thead>\n",
              "  <tbody>\n",
              "    <tr>\n",
              "      <th>0</th>\n",
              "      <td>2AwhlMOMsYXJvskZKKG2GA</td>\n",
              "      <td>jBzITjfkC7M99oN6a5HErQ</td>\n",
              "      <td>4</td>\n",
              "      <td>2017-09-18 17:29:03</td>\n",
              "    </tr>\n",
              "    <tr>\n",
              "      <th>1</th>\n",
              "      <td>2AwhlMOMsYXJvskZKKG2GA</td>\n",
              "      <td>R9AkporqiO758oEz_g9kxQ</td>\n",
              "      <td>3</td>\n",
              "      <td>2018-07-04 01:02:30</td>\n",
              "    </tr>\n",
              "    <tr>\n",
              "      <th>2</th>\n",
              "      <td>2AwhlMOMsYXJvskZKKG2GA</td>\n",
              "      <td>-Z97B_kIy1-w3nifW1PQZg</td>\n",
              "      <td>5</td>\n",
              "      <td>2016-10-13 02:00:28</td>\n",
              "    </tr>\n",
              "    <tr>\n",
              "      <th>3</th>\n",
              "      <td>2AwhlMOMsYXJvskZKKG2GA</td>\n",
              "      <td>9m9mkjkyo4HGFUWgugewHA</td>\n",
              "      <td>5</td>\n",
              "      <td>2016-07-12 15:05:25</td>\n",
              "    </tr>\n",
              "    <tr>\n",
              "      <th>4</th>\n",
              "      <td>2AwhlMOMsYXJvskZKKG2GA</td>\n",
              "      <td>KE2en6iTCiCtqVS9hq50sg</td>\n",
              "      <td>5</td>\n",
              "      <td>2018-07-03 23:28:02</td>\n",
              "    </tr>\n",
              "    <tr>\n",
              "      <th>...</th>\n",
              "      <td>...</td>\n",
              "      <td>...</td>\n",
              "      <td>...</td>\n",
              "      <td>...</td>\n",
              "    </tr>\n",
              "    <tr>\n",
              "      <th>3584005</th>\n",
              "      <td>2O2K6SXPWv56amqxCECd4w</td>\n",
              "      <td>eWz12w7dzYlfrGnhTQ82Fg</td>\n",
              "      <td>5</td>\n",
              "      <td>2019-07-14 14:25:35</td>\n",
              "    </tr>\n",
              "    <tr>\n",
              "      <th>3584006</th>\n",
              "      <td>2O2K6SXPWv56amqxCECd4w</td>\n",
              "      <td>lDyhGApbGZ0_BoeJzRQq7g</td>\n",
              "      <td>5</td>\n",
              "      <td>2021-06-25 23:22:26</td>\n",
              "    </tr>\n",
              "    <tr>\n",
              "      <th>3584007</th>\n",
              "      <td>2O2K6SXPWv56amqxCECd4w</td>\n",
              "      <td>-TTJ75--0NEAjvFCOV7rBg</td>\n",
              "      <td>5</td>\n",
              "      <td>2016-12-09 21:38:05</td>\n",
              "    </tr>\n",
              "    <tr>\n",
              "      <th>3584008</th>\n",
              "      <td>2O2K6SXPWv56amqxCECd4w</td>\n",
              "      <td>8yFNNU7UmQcfzmcTvzTlOA</td>\n",
              "      <td>1</td>\n",
              "      <td>2020-02-19 22:59:06</td>\n",
              "    </tr>\n",
              "    <tr>\n",
              "      <th>3584009</th>\n",
              "      <td>2O2K6SXPWv56amqxCECd4w</td>\n",
              "      <td>uvBkI-2pOW0gg8yee7YvdA</td>\n",
              "      <td>4</td>\n",
              "      <td>2021-06-07 02:55:04</td>\n",
              "    </tr>\n",
              "  </tbody>\n",
              "</table>\n",
              "<p>3584007 rows × 4 columns</p>\n",
              "</div>"
            ]
          },
          "metadata": {},
          "execution_count": 200
        }
      ]
    },
    {
      "cell_type": "code",
      "source": [
        "reader = Reader()\n",
        "\n",
        "yelp_rating_data = Dataset.load_from_df(yelp_ratings[['user_id', \n",
        "                                                      'business_id',\n",
        "                                                      'stars_y']], \n",
        "                                                      reader)"
      ],
      "metadata": {
        "id": "KvllCYHPq2Je"
      },
      "execution_count": 194,
      "outputs": []
    },
    {
      "cell_type": "code",
      "source": [
        "train_df, test_df = train_test_split(yelp_rating_data, \n",
        "                                     test_size=.2)\n",
        "\n",
        "#80-20 split"
      ],
      "metadata": {
        "id": "qTgqqYsArWqQ"
      },
      "execution_count": 195,
      "outputs": []
    },
    {
      "cell_type": "code",
      "source": [
        "# 1.24 RSME -- not completely accurate\n",
        "\n",
        "svd = SVD()\n",
        "\n",
        "cross_validate(svd, yelp_rating_data, measures=['RMSE', 'MAE'], cv=5)"
      ],
      "metadata": {
        "colab": {
          "base_uri": "https://localhost:8080/"
        },
        "id": "86KYais0xqYW",
        "outputId": "d5590697-1db5-4639-fd16-c2048c045514"
      },
      "execution_count": 196,
      "outputs": [
        {
          "output_type": "execute_result",
          "data": {
            "text/plain": [
              "{'test_rmse': array([1.24407796, 1.24431662, 1.24327169, 1.24184461, 1.24325441]),\n",
              " 'test_mae': array([0.99078718, 0.99055997, 0.98961275, 0.98867901, 0.9899433 ]),\n",
              " 'fit_time': (247.75840187072754,\n",
              "  259.9934890270233,\n",
              "  241.4818778038025,\n",
              "  234.46741724014282,\n",
              "  254.79769682884216),\n",
              " 'test_time': (18.17107605934143,\n",
              "  10.219706296920776,\n",
              "  6.18735408782959,\n",
              "  14.499445915222168,\n",
              "  16.45994782447815)}"
            ]
          },
          "metadata": {},
          "execution_count": 196
        }
      ]
    },
    {
      "cell_type": "code",
      "source": [
        "svd_model_trained = svd.fit(train_df)"
      ],
      "metadata": {
        "id": "TJ7r17nruj3P"
      },
      "execution_count": 197,
      "outputs": []
    },
    {
      "cell_type": "code",
      "source": [
        "# user_id, business_id that the user might rate, rating given by the user based on what other's have rated\n",
        "# we can see that this user gave 4.0 for this restaurant\n",
        "\n",
        "\n",
        "svd_model_trained.predict('9m9mkjkyo4HGFUWgugewHA', \n",
        "                          '2O2K6SXPWv56amqxCECd4w', \n",
        "                          5.0)"
      ],
      "metadata": {
        "colab": {
          "base_uri": "https://localhost:8080/"
        },
        "id": "3r2UHBW30ToR",
        "outputId": "dcd52233-7c55-4dde-95e9-e69768e5609e"
      },
      "execution_count": 204,
      "outputs": [
        {
          "output_type": "execute_result",
          "data": {
            "text/plain": [
              "Prediction(uid='9m9mkjkyo4HGFUWgugewHA', iid='2O2K6SXPWv56amqxCECd4w', r_ui=5.0, est=4.704478704922286, details={'was_impossible': False})"
            ]
          },
          "metadata": {},
          "execution_count": 204
        }
      ]
    },
    {
      "cell_type": "markdown",
      "source": [
        "## Collab Filtering with SVD #2 (work in progress)"
      ],
      "metadata": {
        "id": "3wjK8a-6f8Mx"
      }
    },
    {
      "cell_type": "code",
      "source": [
        "yelp_ratings = pd.read_csv('/Users/hetvipatel/Documents/GRAD SCHOOL/DATA 606/yelp_reviews_food_categories.csv')                        "
      ],
      "metadata": {
        "id": "q16zJcaLgFmr"
      },
      "execution_count": 206,
      "outputs": []
    },
    {
      "cell_type": "code",
      "source": [
        "yelp_ratings.info()"
      ],
      "metadata": {
        "colab": {
          "base_uri": "https://localhost:8080/"
        },
        "id": "-OxmehBSgQsr",
        "outputId": "60857fb4-ffa9-4acc-8aa7-1d901c819f9b"
      },
      "execution_count": 207,
      "outputs": [
        {
          "output_type": "stream",
          "name": "stdout",
          "text": [
            "<class 'pandas.core.frame.DataFrame'>\n",
            "RangeIndex: 3584010 entries, 0 to 3584009\n",
            "Data columns (total 21 columns):\n",
            " #   Column        Dtype  \n",
            "---  ------        -----  \n",
            " 0   business_id   object \n",
            " 1   name          object \n",
            " 2   address       object \n",
            " 3   city          object \n",
            " 4   state         object \n",
            " 5   postal_code   object \n",
            " 6   latitude      float64\n",
            " 7   longitude     float64\n",
            " 8   stars_x       float64\n",
            " 9   review_count  float64\n",
            " 10  is_open       float64\n",
            " 11  attributes    object \n",
            " 12  categories    object \n",
            " 13  review_id     object \n",
            " 14  user_id       object \n",
            " 15  stars_y       float64\n",
            " 16  useful        float64\n",
            " 17  funny         float64\n",
            " 18  cool          float64\n",
            " 19  text          object \n",
            " 20  date          object \n",
            "dtypes: float64(9), object(12)\n",
            "memory usage: 574.2+ MB\n"
          ]
        }
      ]
    },
    {
      "cell_type": "code",
      "source": [
        "yelp_ratings.isna().sum()"
      ],
      "metadata": {
        "colab": {
          "base_uri": "https://localhost:8080/"
        },
        "id": "Weq6OyeDgQqL",
        "outputId": "05f60995-17c4-4ef5-e6b8-3e4734077d41"
      },
      "execution_count": 208,
      "outputs": [
        {
          "output_type": "execute_result",
          "data": {
            "text/plain": [
              "business_id         0\n",
              "name                1\n",
              "address         10783\n",
              "city                2\n",
              "state               2\n",
              "postal_code        38\n",
              "latitude            2\n",
              "longitude           2\n",
              "stars_x             2\n",
              "review_count        2\n",
              "is_open             2\n",
              "attributes       6192\n",
              "categories          2\n",
              "review_id           2\n",
              "user_id             2\n",
              "stars_y             2\n",
              "useful              2\n",
              "funny               2\n",
              "cool                2\n",
              "text                2\n",
              "date                3\n",
              "dtype: int64"
            ]
          },
          "metadata": {},
          "execution_count": 208
        }
      ]
    },
    {
      "cell_type": "code",
      "source": [
        "yelp_ratings = yelp_ratings.dropna()\n",
        "yelp_ratings.isna().sum()"
      ],
      "metadata": {
        "colab": {
          "base_uri": "https://localhost:8080/"
        },
        "id": "7O4wJ8jUgQnk",
        "outputId": "c584dff1-6b2d-4692-d7b4-5be3c79216b4"
      },
      "execution_count": 209,
      "outputs": [
        {
          "output_type": "execute_result",
          "data": {
            "text/plain": [
              "business_id     0\n",
              "name            0\n",
              "address         0\n",
              "city            0\n",
              "state           0\n",
              "postal_code     0\n",
              "latitude        0\n",
              "longitude       0\n",
              "stars_x         0\n",
              "review_count    0\n",
              "is_open         0\n",
              "attributes      0\n",
              "categories      0\n",
              "review_id       0\n",
              "user_id         0\n",
              "stars_y         0\n",
              "useful          0\n",
              "funny           0\n",
              "cool            0\n",
              "text            0\n",
              "date            0\n",
              "dtype: int64"
            ]
          },
          "metadata": {},
          "execution_count": 209
        }
      ]
    },
    {
      "cell_type": "markdown",
      "source": [
        "#### SVD and KNN"
      ],
      "metadata": {
        "id": "FkJCkZCmgU34"
      }
    },
    {
      "cell_type": "code",
      "source": [
        "yelp_kNN = yelp_ratings[['user_id', 'business_id', 'stars_y']]"
      ],
      "metadata": {
        "id": "Sg6Mlfo1gQlG"
      },
      "execution_count": 210,
      "outputs": []
    },
    {
      "cell_type": "code",
      "source": [
        "reader = Reader()\n",
        "\n",
        "data = Dataset.load_from_df(yelp_kNN, reader)"
      ],
      "metadata": {
        "id": "k1GU3VkIgQiU"
      },
      "execution_count": 211,
      "outputs": []
    },
    {
      "cell_type": "code",
      "source": [
        "train, test = train_test_split(data, test_size=0.20, random_state=46)"
      ],
      "metadata": {
        "id": "B-LvEokcgQfc"
      },
      "execution_count": 212,
      "outputs": []
    },
    {
      "cell_type": "code",
      "source": [
        "algo_svd = SVD()\n",
        "\n",
        "prediction_mf = algo_svd.fit(train).test(test)\n",
        "prediction_mf[:5]"
      ],
      "metadata": {
        "colab": {
          "base_uri": "https://localhost:8080/"
        },
        "id": "7sKaXQDHgQXp",
        "outputId": "87a15283-89a5-4f96-9000-93d61992db08"
      },
      "execution_count": 213,
      "outputs": [
        {
          "output_type": "execute_result",
          "data": {
            "text/plain": [
              "[Prediction(uid='duRjOU7ubkjflrFGffr5Rg', iid='ouqfnrUwbfsVMIPV4u1U2w', r_ui=3.0, est=2.7380578047405737, details={'was_impossible': False}),\n",
              " Prediction(uid='FVCA50C8hAZpwaAKQegcZA', iid='CQgupIpIbkyiVLUEcMIRCA', r_ui=5.0, est=4.297675493583616, details={'was_impossible': False}),\n",
              " Prediction(uid='xvXmyeBUvBBUZUpagEBxRQ', iid='MIjXkp8I_DWiCsC6lUeGdw', r_ui=5.0, est=5, details={'was_impossible': False}),\n",
              " Prediction(uid='IFM9VzljyIE-z8WNs0lMwg', iid='ZyoQIM7cVOekqWYfwZ1sNg', r_ui=2.0, est=3.753526264052625, details={'was_impossible': False}),\n",
              " Prediction(uid='M1fk_IYOyZBKIw6ov8Q9hg', iid='6Bf5KwuT9iZlFrUlcP7RHg', r_ui=4.0, est=4.7075609098550535, details={'was_impossible': False})]"
            ]
          },
          "metadata": {},
          "execution_count": 213
        }
      ]
    },
    {
      "cell_type": "markdown",
      "source": [
        "######### crashes\n",
        "\n",
        "sim_options = {'name': 'pearson_baseline','shrinkage': 0}\n",
        "algo = KNNBasic(sim_options=sim_options)\n",
        "algo_knn = KNNBasic(k=75, sim_options=sim_options)\n",
        "prediction_knn = algo_knn.fit(train).test(test)\n",
        "\n",
        "\n",
        "prediction_knn[:5]"
      ],
      "metadata": {
        "id": "x8ZCiv3Xgeru"
      }
    },
    {
      "cell_type": "code",
      "source": [
        "accuracy.mae(prediction_mf)\n",
        "accuracy.fcp(prediction_mf)\n",
        "accuracy.rmse(prediction_mf)"
      ],
      "metadata": {
        "colab": {
          "base_uri": "https://localhost:8080/",
          "height": 240
        },
        "id": "X7k2Temhgiq-",
        "outputId": "db21d20c-c47d-4380-fed4-5f1abd104a27"
      },
      "execution_count": 3,
      "outputs": [
        {
          "output_type": "error",
          "ename": "NameError",
          "evalue": "ignored",
          "traceback": [
            "\u001b[0;31m---------------------------------------------------------------------------\u001b[0m",
            "\u001b[0;31mNameError\u001b[0m                                 Traceback (most recent call last)",
            "\u001b[0;32m<ipython-input-3-012e3fed38d2>\u001b[0m in \u001b[0;36m<module>\u001b[0;34m\u001b[0m\n\u001b[0;32m----> 1\u001b[0;31m \u001b[0maccuracy\u001b[0m\u001b[0;34m.\u001b[0m\u001b[0mmae\u001b[0m\u001b[0;34m(\u001b[0m\u001b[0mprediction_mf\u001b[0m\u001b[0;34m)\u001b[0m\u001b[0;34m\u001b[0m\u001b[0;34m\u001b[0m\u001b[0m\n\u001b[0m\u001b[1;32m      2\u001b[0m \u001b[0maccuracy\u001b[0m\u001b[0;34m.\u001b[0m\u001b[0mfcp\u001b[0m\u001b[0;34m(\u001b[0m\u001b[0mprediction_mf\u001b[0m\u001b[0;34m)\u001b[0m\u001b[0;34m\u001b[0m\u001b[0;34m\u001b[0m\u001b[0m\n\u001b[1;32m      3\u001b[0m \u001b[0maccuracy\u001b[0m\u001b[0;34m.\u001b[0m\u001b[0mrmse\u001b[0m\u001b[0;34m(\u001b[0m\u001b[0mprediction_mf\u001b[0m\u001b[0;34m)\u001b[0m\u001b[0;34m\u001b[0m\u001b[0;34m\u001b[0m\u001b[0m\n",
            "\u001b[0;31mNameError\u001b[0m: name 'prediction_mf' is not defined"
          ]
        }
      ]
    },
    {
      "cell_type": "markdown",
      "source": [
        "## Collab Filtering: User-Based (k-NN Collaborative Filtering)"
      ],
      "metadata": {
        "id": "ao2ekhzg_5fl"
      }
    },
    {
      "cell_type": "code",
      "source": [
        "reader = Reader()\n",
        "\n",
        "yelp_ratings = pd.read_csv('/Users/hetvipatel/Documents/GRAD SCHOOL/DATA 606/yelp_reviews_food_categories.csv', \n",
        "                           usecols = ['user_id', 'business_id', 'stars_y', 'date'])"
      ],
      "metadata": {
        "id": "AC4iaunA3Q47"
      },
      "execution_count": null,
      "outputs": []
    },
    {
      "cell_type": "code",
      "source": [
        "yelp_ratings.head()"
      ],
      "metadata": {
        "colab": {
          "base_uri": "https://localhost:8080/",
          "height": 293
        },
        "id": "SMLpVvtoupsj",
        "outputId": "e7158853-80d6-4fe5-c5c7-e26639dd4024"
      },
      "execution_count": 136,
      "outputs": [
        {
          "output_type": "execute_result",
          "data": {
            "text/plain": [
              "              business_id                 user_id  stars_y  \\\n",
              "0  2AwhlMOMsYXJvskZKKG2GA  jBzITjfkC7M99oN6a5HErQ      4.0   \n",
              "1  2AwhlMOMsYXJvskZKKG2GA  R9AkporqiO758oEz_g9kxQ      3.0   \n",
              "2  2AwhlMOMsYXJvskZKKG2GA  -Z97B_kIy1-w3nifW1PQZg      5.0   \n",
              "3  2AwhlMOMsYXJvskZKKG2GA  9m9mkjkyo4HGFUWgugewHA      5.0   \n",
              "4  2AwhlMOMsYXJvskZKKG2GA  KE2en6iTCiCtqVS9hq50sg      5.0   \n",
              "\n",
              "                  date  \n",
              "0  2017-09-18 17:29:03  \n",
              "1  2018-07-04 01:02:30  \n",
              "2  2016-10-13 02:00:28  \n",
              "3  2016-07-12 15:05:25  \n",
              "4  2018-07-03 23:28:02  "
            ],
            "text/html": [
              "<div>\n",
              "<style scoped>\n",
              "    .dataframe tbody tr th:only-of-type {\n",
              "        vertical-align: middle;\n",
              "    }\n",
              "\n",
              "    .dataframe tbody tr th {\n",
              "        vertical-align: top;\n",
              "    }\n",
              "\n",
              "    .dataframe thead th {\n",
              "        text-align: right;\n",
              "    }\n",
              "</style>\n",
              "<table border=\"1\" class=\"dataframe\">\n",
              "  <thead>\n",
              "    <tr style=\"text-align: right;\">\n",
              "      <th></th>\n",
              "      <th>business_id</th>\n",
              "      <th>user_id</th>\n",
              "      <th>stars_y</th>\n",
              "      <th>date</th>\n",
              "    </tr>\n",
              "  </thead>\n",
              "  <tbody>\n",
              "    <tr>\n",
              "      <th>0</th>\n",
              "      <td>2AwhlMOMsYXJvskZKKG2GA</td>\n",
              "      <td>jBzITjfkC7M99oN6a5HErQ</td>\n",
              "      <td>4.0</td>\n",
              "      <td>2017-09-18 17:29:03</td>\n",
              "    </tr>\n",
              "    <tr>\n",
              "      <th>1</th>\n",
              "      <td>2AwhlMOMsYXJvskZKKG2GA</td>\n",
              "      <td>R9AkporqiO758oEz_g9kxQ</td>\n",
              "      <td>3.0</td>\n",
              "      <td>2018-07-04 01:02:30</td>\n",
              "    </tr>\n",
              "    <tr>\n",
              "      <th>2</th>\n",
              "      <td>2AwhlMOMsYXJvskZKKG2GA</td>\n",
              "      <td>-Z97B_kIy1-w3nifW1PQZg</td>\n",
              "      <td>5.0</td>\n",
              "      <td>2016-10-13 02:00:28</td>\n",
              "    </tr>\n",
              "    <tr>\n",
              "      <th>3</th>\n",
              "      <td>2AwhlMOMsYXJvskZKKG2GA</td>\n",
              "      <td>9m9mkjkyo4HGFUWgugewHA</td>\n",
              "      <td>5.0</td>\n",
              "      <td>2016-07-12 15:05:25</td>\n",
              "    </tr>\n",
              "    <tr>\n",
              "      <th>4</th>\n",
              "      <td>2AwhlMOMsYXJvskZKKG2GA</td>\n",
              "      <td>KE2en6iTCiCtqVS9hq50sg</td>\n",
              "      <td>5.0</td>\n",
              "      <td>2018-07-03 23:28:02</td>\n",
              "    </tr>\n",
              "  </tbody>\n",
              "</table>\n",
              "</div>"
            ]
          },
          "metadata": {},
          "execution_count": 136
        }
      ]
    },
    {
      "cell_type": "code",
      "source": [
        "yelp_ratings.duplicated(['user_id', 'business_id', 'stars_y', 'date']).sum()"
      ],
      "metadata": {
        "colab": {
          "base_uri": "https://localhost:8080/"
        },
        "id": "izg8xOvf1Z74",
        "outputId": "0b7fc6b2-6449-43f5-e034-1ebe6e419aa1"
      },
      "execution_count": 137,
      "outputs": [
        {
          "output_type": "execute_result",
          "data": {
            "text/plain": [
              "7"
            ]
          },
          "metadata": {},
          "execution_count": 137
        }
      ]
    },
    {
      "cell_type": "code",
      "source": [
        "split_value = int(len(yelp_ratings) * 0.80) # 80-20 split\n",
        "train_data = yelp_ratings[:split_value]\n",
        "test_data = yelp_ratings[split_value:]"
      ],
      "metadata": {
        "id": "dAzKd83c2DZT"
      },
      "execution_count": 138,
      "outputs": []
    },
    {
      "cell_type": "code",
      "source": [
        "plt.figure(figsize = (12, 8))\n",
        "ax = sns.countplot(x=\"stars_y\", data=train_data)\n",
        "\n",
        "ax.set_yticklabels([num for num in ax.get_yticks()])\n",
        "\n",
        "plt.tick_params(labelsize = 15)\n",
        "plt.title(\"Count Ratings in train data\", fontsize = 20)\n",
        "plt.xlabel(\"Ratings\", fontsize = 20)\n",
        "plt.ylabel(\"Number of Ratings\", fontsize = 20)\n",
        "plt.show()"
      ],
      "metadata": {
        "colab": {
          "base_uri": "https://localhost:8080/",
          "height": 481
        },
        "id": "XvIjUPg32XBb",
        "outputId": "99e2b0f3-6782-47a3-874f-65ec4ed98112"
      },
      "execution_count": 139,
      "outputs": [
        {
          "output_type": "stream",
          "name": "stderr",
          "text": [
            "<ipython-input-139-0df561a0f965>:4: UserWarning: FixedFormatter should only be used together with FixedLocator\n",
            "  ax.set_yticklabels([num for num in ax.get_yticks()])\n"
          ]
        },
        {
          "output_type": "display_data",
          "data": {
            "text/plain": [
              "<Figure size 864x576 with 1 Axes>"
            ],
            "image/png": "[encoded data removed]"
          },
          "metadata": {
            "needs_background": "light"
          }
        }
      ]
    },
    {
      "cell_type": "code",
      "source": [
        "number_rated_reviews_per_user = train_data.groupby(by = \"user_id\")[\"stars_y\"].count().sort_values(ascending = False)\n",
        "number_rated_reviews_per_user.head()"
      ],
      "metadata": {
        "colab": {
          "base_uri": "https://localhost:8080/"
        },
        "id": "CLNyL9P-2cFZ",
        "outputId": "d8ac62de-aaaf-4348-fb9c-85b9b198e139"
      },
      "execution_count": 140,
      "outputs": [
        {
          "output_type": "execute_result",
          "data": {
            "text/plain": [
              "user_id\n",
              "_BcWyKQL16ndpBdggh2kNA    1020\n",
              "-G7Zkl1wIWBBmD0KRy_sCw     838\n",
              "fr1Hz2acAb3OaL3l6DyKNg     684\n",
              "Xw7ZjaGfr0WNVt6s_5KZfA     652\n",
              "1HM81n6n4iPIFU5d2Lokhw     649\n",
              "Name: stars_y, dtype: int64"
            ]
          },
          "metadata": {},
          "execution_count": 140
        }
      ]
    },
    {
      "cell_type": "code",
      "source": [
        "number_rating_per_biz = train_data.groupby(by = \"business_id\")[\"stars_y\"].count().sort_values(ascending = False)\n",
        "number_rating_per_biz.head()"
      ],
      "metadata": {
        "colab": {
          "base_uri": "https://localhost:8080/"
        },
        "id": "bWK7b6Kr4I-O",
        "outputId": "e23d87cf-a7a8-4e99-c242-c3a8112cd90b"
      },
      "execution_count": 141,
      "outputs": [
        {
          "output_type": "execute_result",
          "data": {
            "text/plain": [
              "user_id\n",
              "_BcWyKQL16ndpBdggh2kNA    1020\n",
              "-G7Zkl1wIWBBmD0KRy_sCw     838\n",
              "fr1Hz2acAb3OaL3l6DyKNg     684\n",
              "Xw7ZjaGfr0WNVt6s_5KZfA     652\n",
              "1HM81n6n4iPIFU5d2Lokhw     649\n",
              "Name: stars_y, dtype: int64"
            ]
          },
          "metadata": {},
          "execution_count": 141
        }
      ]
    },
    {
      "cell_type": "markdown",
      "source": [
        "##### User-Item Sparse Matrix"
      ],
      "metadata": {
        "id": "BWwQIjC-DoZm"
      }
    },
    {
      "cell_type": "code",
      "source": [
        "def get_user_item_sparse_matrix(df):\n",
        "    sparse_data = sparse.csr_matrix((df.stars_y, (df.user_id, df.business_id)))\n",
        "    return sparse_data"
      ],
      "metadata": {
        "id": "UKptFlRh4YZm"
      },
      "execution_count": 142,
      "outputs": []
    },
    {
      "cell_type": "code",
      "source": [
        "train_sparse_data = get_user_item_sparse_matrix(train_data)"
      ],
      "metadata": {
        "colab": {
          "base_uri": "https://localhost:8080/",
          "height": 389
        },
        "id": "oD1Cuq1sD-E0",
        "outputId": "bbf415f8-7344-4055-e85c-509b3993f69b"
      },
      "execution_count": 143,
      "outputs": [
        {
          "output_type": "error",
          "ename": "TypeError",
          "evalue": "ignored",
          "traceback": [
            "\u001b[0;31m---------------------------------------------------------------------------\u001b[0m",
            "\u001b[0;31mTypeError\u001b[0m                                 Traceback (most recent call last)",
            "\u001b[0;32m<ipython-input-143-e17250639e7f>\u001b[0m in \u001b[0;36m<module>\u001b[0;34m\u001b[0m\n\u001b[0;32m----> 1\u001b[0;31m \u001b[0mtrain_sparse_data\u001b[0m \u001b[0;34m=\u001b[0m \u001b[0mget_user_item_sparse_matrix\u001b[0m\u001b[0;34m(\u001b[0m\u001b[0mtrain_data\u001b[0m\u001b[0;34m)\u001b[0m\u001b[0;34m\u001b[0m\u001b[0;34m\u001b[0m\u001b[0m\n\u001b[0m",
            "\u001b[0;32m<ipython-input-142-c240a77fd6dd>\u001b[0m in \u001b[0;36mget_user_item_sparse_matrix\u001b[0;34m(df)\u001b[0m\n\u001b[1;32m      1\u001b[0m \u001b[0;32mdef\u001b[0m \u001b[0mget_user_item_sparse_matrix\u001b[0m\u001b[0;34m(\u001b[0m\u001b[0mdf\u001b[0m\u001b[0;34m)\u001b[0m\u001b[0;34m:\u001b[0m\u001b[0;34m\u001b[0m\u001b[0;34m\u001b[0m\u001b[0m\n\u001b[0;32m----> 2\u001b[0;31m     \u001b[0msparse_data\u001b[0m \u001b[0;34m=\u001b[0m \u001b[0msparse\u001b[0m\u001b[0;34m.\u001b[0m\u001b[0mcsr_matrix\u001b[0m\u001b[0;34m(\u001b[0m\u001b[0;34m(\u001b[0m\u001b[0mdf\u001b[0m\u001b[0;34m.\u001b[0m\u001b[0mstars_y\u001b[0m\u001b[0;34m,\u001b[0m \u001b[0;34m(\u001b[0m\u001b[0mdf\u001b[0m\u001b[0;34m.\u001b[0m\u001b[0muser_id\u001b[0m\u001b[0;34m,\u001b[0m \u001b[0mdf\u001b[0m\u001b[0;34m.\u001b[0m\u001b[0mbusiness_id\u001b[0m\u001b[0;34m)\u001b[0m\u001b[0;34m)\u001b[0m\u001b[0;34m)\u001b[0m\u001b[0;34m\u001b[0m\u001b[0;34m\u001b[0m\u001b[0m\n\u001b[0m\u001b[1;32m      3\u001b[0m     \u001b[0;32mreturn\u001b[0m \u001b[0msparse_data\u001b[0m\u001b[0;34m\u001b[0m\u001b[0;34m\u001b[0m\u001b[0m\n",
            "\u001b[0;32m~/opt/anaconda3/lib/python3.8/site-packages/scipy/sparse/_compressed.py\u001b[0m in \u001b[0;36m__init__\u001b[0;34m(self, arg1, shape, dtype, copy)\u001b[0m\n\u001b[1;32m     51\u001b[0m                     \u001b[0;31m# (data, ij) format\u001b[0m\u001b[0;34m\u001b[0m\u001b[0;34m\u001b[0m\u001b[0;34m\u001b[0m\u001b[0m\n\u001b[1;32m     52\u001b[0m                     other = self.__class__(\n\u001b[0;32m---> 53\u001b[0;31m                         \u001b[0mself\u001b[0m\u001b[0;34m.\u001b[0m\u001b[0m_coo_container\u001b[0m\u001b[0;34m(\u001b[0m\u001b[0marg1\u001b[0m\u001b[0;34m,\u001b[0m \u001b[0mshape\u001b[0m\u001b[0;34m=\u001b[0m\u001b[0mshape\u001b[0m\u001b[0;34m,\u001b[0m \u001b[0mdtype\u001b[0m\u001b[0;34m=\u001b[0m\u001b[0mdtype\u001b[0m\u001b[0;34m)\u001b[0m\u001b[0;34m\u001b[0m\u001b[0;34m\u001b[0m\u001b[0m\n\u001b[0m\u001b[1;32m     54\u001b[0m                     )\n\u001b[1;32m     55\u001b[0m                     \u001b[0mself\u001b[0m\u001b[0;34m.\u001b[0m\u001b[0m_set_self\u001b[0m\u001b[0;34m(\u001b[0m\u001b[0mother\u001b[0m\u001b[0;34m)\u001b[0m\u001b[0;34m\u001b[0m\u001b[0;34m\u001b[0m\u001b[0m\n",
            "\u001b[0;32m~/opt/anaconda3/lib/python3.8/site-packages/scipy/sparse/_coo.py\u001b[0m in \u001b[0;36m__init__\u001b[0;34m(self, arg1, shape, dtype, copy)\u001b[0m\n\u001b[1;32m    147\u001b[0m                         raise ValueError('cannot infer dimensions from zero '\n\u001b[1;32m    148\u001b[0m                                          'sized index arrays')\n\u001b[0;32m--> 149\u001b[0;31m                     \u001b[0mM\u001b[0m \u001b[0;34m=\u001b[0m \u001b[0moperator\u001b[0m\u001b[0;34m.\u001b[0m\u001b[0mindex\u001b[0m\u001b[0;34m(\u001b[0m\u001b[0mnp\u001b[0m\u001b[0;34m.\u001b[0m\u001b[0mmax\u001b[0m\u001b[0;34m(\u001b[0m\u001b[0mrow\u001b[0m\u001b[0;34m)\u001b[0m\u001b[0;34m)\u001b[0m \u001b[0;34m+\u001b[0m \u001b[0;36m1\u001b[0m\u001b[0;34m\u001b[0m\u001b[0;34m\u001b[0m\u001b[0m\n\u001b[0m\u001b[1;32m    150\u001b[0m                     \u001b[0mN\u001b[0m \u001b[0;34m=\u001b[0m \u001b[0moperator\u001b[0m\u001b[0;34m.\u001b[0m\u001b[0mindex\u001b[0m\u001b[0;34m(\u001b[0m\u001b[0mnp\u001b[0m\u001b[0;34m.\u001b[0m\u001b[0mmax\u001b[0m\u001b[0;34m(\u001b[0m\u001b[0mcol\u001b[0m\u001b[0;34m)\u001b[0m\u001b[0;34m)\u001b[0m \u001b[0;34m+\u001b[0m \u001b[0;36m1\u001b[0m\u001b[0;34m\u001b[0m\u001b[0;34m\u001b[0m\u001b[0m\n\u001b[1;32m    151\u001b[0m                     \u001b[0mself\u001b[0m\u001b[0;34m.\u001b[0m\u001b[0m_shape\u001b[0m \u001b[0;34m=\u001b[0m \u001b[0mcheck_shape\u001b[0m\u001b[0;34m(\u001b[0m\u001b[0;34m(\u001b[0m\u001b[0mM\u001b[0m\u001b[0;34m,\u001b[0m \u001b[0mN\u001b[0m\u001b[0;34m)\u001b[0m\u001b[0;34m)\u001b[0m\u001b[0;34m\u001b[0m\u001b[0;34m\u001b[0m\u001b[0m\n",
            "\u001b[0;32m~/opt/anaconda3/lib/python3.8/site-packages/numpy/core/overrides.py\u001b[0m in \u001b[0;36mamax\u001b[0;34m(*args, **kwargs)\u001b[0m\n",
            "\u001b[0;32m~/opt/anaconda3/lib/python3.8/site-packages/numpy/core/fromnumeric.py\u001b[0m in \u001b[0;36mamax\u001b[0;34m(a, axis, out, keepdims, initial, where)\u001b[0m\n\u001b[1;32m   2789\u001b[0m     \u001b[0;36m5\u001b[0m\u001b[0;34m\u001b[0m\u001b[0;34m\u001b[0m\u001b[0m\n\u001b[1;32m   2790\u001b[0m     \"\"\"\n\u001b[0;32m-> 2791\u001b[0;31m     return _wrapreduction(a, np.maximum, 'max', axis, None, out,\n\u001b[0m\u001b[1;32m   2792\u001b[0m                           keepdims=keepdims, initial=initial, where=where)\n\u001b[1;32m   2793\u001b[0m \u001b[0;34m\u001b[0m\u001b[0m\n",
            "\u001b[0;32m~/opt/anaconda3/lib/python3.8/site-packages/numpy/core/fromnumeric.py\u001b[0m in \u001b[0;36m_wrapreduction\u001b[0;34m(obj, ufunc, method, axis, dtype, out, **kwargs)\u001b[0m\n\u001b[1;32m     82\u001b[0m                 \u001b[0;32mreturn\u001b[0m \u001b[0mreduction\u001b[0m\u001b[0;34m(\u001b[0m\u001b[0maxis\u001b[0m\u001b[0;34m=\u001b[0m\u001b[0maxis\u001b[0m\u001b[0;34m,\u001b[0m \u001b[0mdtype\u001b[0m\u001b[0;34m=\u001b[0m\u001b[0mdtype\u001b[0m\u001b[0;34m,\u001b[0m \u001b[0mout\u001b[0m\u001b[0;34m=\u001b[0m\u001b[0mout\u001b[0m\u001b[0;34m,\u001b[0m \u001b[0;34m**\u001b[0m\u001b[0mpasskwargs\u001b[0m\u001b[0;34m)\u001b[0m\u001b[0;34m\u001b[0m\u001b[0;34m\u001b[0m\u001b[0m\n\u001b[1;32m     83\u001b[0m             \u001b[0;32melse\u001b[0m\u001b[0;34m:\u001b[0m\u001b[0;34m\u001b[0m\u001b[0;34m\u001b[0m\u001b[0m\n\u001b[0;32m---> 84\u001b[0;31m                 \u001b[0;32mreturn\u001b[0m \u001b[0mreduction\u001b[0m\u001b[0;34m(\u001b[0m\u001b[0maxis\u001b[0m\u001b[0;34m=\u001b[0m\u001b[0maxis\u001b[0m\u001b[0;34m,\u001b[0m \u001b[0mout\u001b[0m\u001b[0;34m=\u001b[0m\u001b[0mout\u001b[0m\u001b[0;34m,\u001b[0m \u001b[0;34m**\u001b[0m\u001b[0mpasskwargs\u001b[0m\u001b[0;34m)\u001b[0m\u001b[0;34m\u001b[0m\u001b[0;34m\u001b[0m\u001b[0m\n\u001b[0m\u001b[1;32m     85\u001b[0m \u001b[0;34m\u001b[0m\u001b[0m\n\u001b[1;32m     86\u001b[0m     \u001b[0;32mreturn\u001b[0m \u001b[0mufunc\u001b[0m\u001b[0;34m.\u001b[0m\u001b[0mreduce\u001b[0m\u001b[0;34m(\u001b[0m\u001b[0mobj\u001b[0m\u001b[0;34m,\u001b[0m \u001b[0maxis\u001b[0m\u001b[0;34m,\u001b[0m \u001b[0mdtype\u001b[0m\u001b[0;34m,\u001b[0m \u001b[0mout\u001b[0m\u001b[0;34m,\u001b[0m \u001b[0;34m**\u001b[0m\u001b[0mpasskwargs\u001b[0m\u001b[0;34m)\u001b[0m\u001b[0;34m\u001b[0m\u001b[0;34m\u001b[0m\u001b[0m\n",
            "\u001b[0;32m~/opt/anaconda3/lib/python3.8/site-packages/pandas/core/generic.py\u001b[0m in \u001b[0;36mmax\u001b[0;34m(self, axis, skipna, level, numeric_only, **kwargs)\u001b[0m\n\u001b[1;32m  11939\u001b[0m             \u001b[0;34m**\u001b[0m\u001b[0mkwargs\u001b[0m\u001b[0;34m,\u001b[0m\u001b[0;34m\u001b[0m\u001b[0;34m\u001b[0m\u001b[0m\n\u001b[1;32m  11940\u001b[0m         ):\n\u001b[0;32m> 11941\u001b[0;31m             \u001b[0;32mreturn\u001b[0m \u001b[0mNDFrame\u001b[0m\u001b[0;34m.\u001b[0m\u001b[0mmax\u001b[0m\u001b[0;34m(\u001b[0m\u001b[0mself\u001b[0m\u001b[0;34m,\u001b[0m \u001b[0maxis\u001b[0m\u001b[0;34m,\u001b[0m \u001b[0mskipna\u001b[0m\u001b[0;34m,\u001b[0m \u001b[0mlevel\u001b[0m\u001b[0;34m,\u001b[0m \u001b[0mnumeric_only\u001b[0m\u001b[0;34m,\u001b[0m \u001b[0;34m**\u001b[0m\u001b[0mkwargs\u001b[0m\u001b[0;34m)\u001b[0m\u001b[0;34m\u001b[0m\u001b[0;34m\u001b[0m\u001b[0m\n\u001b[0m\u001b[1;32m  11942\u001b[0m \u001b[0;34m\u001b[0m\u001b[0m\n\u001b[1;32m  11943\u001b[0m         \u001b[0msetattr\u001b[0m\u001b[0;34m(\u001b[0m\u001b[0mcls\u001b[0m\u001b[0;34m,\u001b[0m \u001b[0;34m\"max\"\u001b[0m\u001b[0;34m,\u001b[0m \u001b[0mmax\u001b[0m\u001b[0;34m)\u001b[0m\u001b[0;34m\u001b[0m\u001b[0;34m\u001b[0m\u001b[0m\n",
            "\u001b[0;32m~/opt/anaconda3/lib/python3.8/site-packages/pandas/core/generic.py\u001b[0m in \u001b[0;36mmax\u001b[0;34m(self, axis, skipna, level, numeric_only, **kwargs)\u001b[0m\n\u001b[1;32m  11381\u001b[0m         \u001b[0;34m**\u001b[0m\u001b[0mkwargs\u001b[0m\u001b[0;34m,\u001b[0m\u001b[0;34m\u001b[0m\u001b[0;34m\u001b[0m\u001b[0m\n\u001b[1;32m  11382\u001b[0m     ):\n\u001b[0;32m> 11383\u001b[0;31m         return self._stat_function(\n\u001b[0m\u001b[1;32m  11384\u001b[0m             \u001b[0;34m\"max\"\u001b[0m\u001b[0;34m,\u001b[0m\u001b[0;34m\u001b[0m\u001b[0;34m\u001b[0m\u001b[0m\n\u001b[1;32m  11385\u001b[0m             \u001b[0mnanops\u001b[0m\u001b[0;34m.\u001b[0m\u001b[0mnanmax\u001b[0m\u001b[0;34m,\u001b[0m\u001b[0;34m\u001b[0m\u001b[0;34m\u001b[0m\u001b[0m\n",
            "\u001b[0;32m~/opt/anaconda3/lib/python3.8/site-packages/pandas/core/generic.py\u001b[0m in \u001b[0;36m_stat_function\u001b[0;34m(self, name, func, axis, skipna, level, numeric_only, **kwargs)\u001b[0m\n\u001b[1;32m  11351\u001b[0m                 \u001b[0mname\u001b[0m\u001b[0;34m,\u001b[0m \u001b[0maxis\u001b[0m\u001b[0;34m=\u001b[0m\u001b[0maxis\u001b[0m\u001b[0;34m,\u001b[0m \u001b[0mlevel\u001b[0m\u001b[0;34m=\u001b[0m\u001b[0mlevel\u001b[0m\u001b[0;34m,\u001b[0m \u001b[0mskipna\u001b[0m\u001b[0;34m=\u001b[0m\u001b[0mskipna\u001b[0m\u001b[0;34m,\u001b[0m \u001b[0mnumeric_only\u001b[0m\u001b[0;34m=\u001b[0m\u001b[0mnumeric_only\u001b[0m\u001b[0;34m\u001b[0m\u001b[0;34m\u001b[0m\u001b[0m\n\u001b[1;32m  11352\u001b[0m             )\n\u001b[0;32m> 11353\u001b[0;31m         return self._reduce(\n\u001b[0m\u001b[1;32m  11354\u001b[0m             \u001b[0mfunc\u001b[0m\u001b[0;34m,\u001b[0m \u001b[0mname\u001b[0m\u001b[0;34m=\u001b[0m\u001b[0mname\u001b[0m\u001b[0;34m,\u001b[0m \u001b[0maxis\u001b[0m\u001b[0;34m=\u001b[0m\u001b[0maxis\u001b[0m\u001b[0;34m,\u001b[0m \u001b[0mskipna\u001b[0m\u001b[0;34m=\u001b[0m\u001b[0mskipna\u001b[0m\u001b[0;34m,\u001b[0m \u001b[0mnumeric_only\u001b[0m\u001b[0;34m=\u001b[0m\u001b[0mnumeric_only\u001b[0m\u001b[0;34m\u001b[0m\u001b[0;34m\u001b[0m\u001b[0m\n\u001b[1;32m  11355\u001b[0m         )\n",
            "\u001b[0;32m~/opt/anaconda3/lib/python3.8/site-packages/pandas/core/series.py\u001b[0m in \u001b[0;36m_reduce\u001b[0;34m(self, op, name, axis, skipna, numeric_only, filter_type, **kwds)\u001b[0m\n\u001b[1;32m   4814\u001b[0m                 )\n\u001b[1;32m   4815\u001b[0m             \u001b[0;32mwith\u001b[0m \u001b[0mnp\u001b[0m\u001b[0;34m.\u001b[0m\u001b[0merrstate\u001b[0m\u001b[0;34m(\u001b[0m\u001b[0mall\u001b[0m\u001b[0;34m=\u001b[0m\u001b[0;34m\"ignore\"\u001b[0m\u001b[0;34m)\u001b[0m\u001b[0;34m:\u001b[0m\u001b[0;34m\u001b[0m\u001b[0;34m\u001b[0m\u001b[0m\n\u001b[0;32m-> 4816\u001b[0;31m                 \u001b[0;32mreturn\u001b[0m \u001b[0mop\u001b[0m\u001b[0;34m(\u001b[0m\u001b[0mdelegate\u001b[0m\u001b[0;34m,\u001b[0m \u001b[0mskipna\u001b[0m\u001b[0;34m=\u001b[0m\u001b[0mskipna\u001b[0m\u001b[0;34m,\u001b[0m \u001b[0;34m**\u001b[0m\u001b[0mkwds\u001b[0m\u001b[0;34m)\u001b[0m\u001b[0;34m\u001b[0m\u001b[0;34m\u001b[0m\u001b[0m\n\u001b[0m\u001b[1;32m   4817\u001b[0m \u001b[0;34m\u001b[0m\u001b[0m\n\u001b[1;32m   4818\u001b[0m     def _reindex_indexer(\n",
            "\u001b[0;32m~/opt/anaconda3/lib/python3.8/site-packages/pandas/core/nanops.py\u001b[0m in \u001b[0;36mf\u001b[0;34m(values, axis, skipna, **kwds)\u001b[0m\n\u001b[1;32m    153\u001b[0m                     \u001b[0mresult\u001b[0m \u001b[0;34m=\u001b[0m \u001b[0malt\u001b[0m\u001b[0;34m(\u001b[0m\u001b[0mvalues\u001b[0m\u001b[0;34m,\u001b[0m \u001b[0maxis\u001b[0m\u001b[0;34m=\u001b[0m\u001b[0maxis\u001b[0m\u001b[0;34m,\u001b[0m \u001b[0mskipna\u001b[0m\u001b[0;34m=\u001b[0m\u001b[0mskipna\u001b[0m\u001b[0;34m,\u001b[0m \u001b[0;34m**\u001b[0m\u001b[0mkwds\u001b[0m\u001b[0;34m)\u001b[0m\u001b[0;34m\u001b[0m\u001b[0;34m\u001b[0m\u001b[0m\n\u001b[1;32m    154\u001b[0m             \u001b[0;32melse\u001b[0m\u001b[0;34m:\u001b[0m\u001b[0;34m\u001b[0m\u001b[0;34m\u001b[0m\u001b[0m\n\u001b[0;32m--> 155\u001b[0;31m                 \u001b[0mresult\u001b[0m \u001b[0;34m=\u001b[0m \u001b[0malt\u001b[0m\u001b[0;34m(\u001b[0m\u001b[0mvalues\u001b[0m\u001b[0;34m,\u001b[0m \u001b[0maxis\u001b[0m\u001b[0;34m=\u001b[0m\u001b[0maxis\u001b[0m\u001b[0;34m,\u001b[0m \u001b[0mskipna\u001b[0m\u001b[0;34m=\u001b[0m\u001b[0mskipna\u001b[0m\u001b[0;34m,\u001b[0m \u001b[0;34m**\u001b[0m\u001b[0mkwds\u001b[0m\u001b[0;34m)\u001b[0m\u001b[0;34m\u001b[0m\u001b[0;34m\u001b[0m\u001b[0m\n\u001b[0m\u001b[1;32m    156\u001b[0m \u001b[0;34m\u001b[0m\u001b[0m\n\u001b[1;32m    157\u001b[0m             \u001b[0;32mreturn\u001b[0m \u001b[0mresult\u001b[0m\u001b[0;34m\u001b[0m\u001b[0;34m\u001b[0m\u001b[0m\n",
            "\u001b[0;32m~/opt/anaconda3/lib/python3.8/site-packages/pandas/core/nanops.py\u001b[0m in \u001b[0;36mnew_func\u001b[0;34m(values, axis, skipna, mask, **kwargs)\u001b[0m\n\u001b[1;32m    416\u001b[0m             \u001b[0mmask\u001b[0m \u001b[0;34m=\u001b[0m \u001b[0misna\u001b[0m\u001b[0;34m(\u001b[0m\u001b[0mvalues\u001b[0m\u001b[0;34m)\u001b[0m\u001b[0;34m\u001b[0m\u001b[0;34m\u001b[0m\u001b[0m\n\u001b[1;32m    417\u001b[0m \u001b[0;34m\u001b[0m\u001b[0m\n\u001b[0;32m--> 418\u001b[0;31m         \u001b[0mresult\u001b[0m \u001b[0;34m=\u001b[0m \u001b[0mfunc\u001b[0m\u001b[0;34m(\u001b[0m\u001b[0mvalues\u001b[0m\u001b[0;34m,\u001b[0m \u001b[0maxis\u001b[0m\u001b[0;34m=\u001b[0m\u001b[0maxis\u001b[0m\u001b[0;34m,\u001b[0m \u001b[0mskipna\u001b[0m\u001b[0;34m=\u001b[0m\u001b[0mskipna\u001b[0m\u001b[0;34m,\u001b[0m \u001b[0mmask\u001b[0m\u001b[0;34m=\u001b[0m\u001b[0mmask\u001b[0m\u001b[0;34m,\u001b[0m \u001b[0;34m**\u001b[0m\u001b[0mkwargs\u001b[0m\u001b[0;34m)\u001b[0m\u001b[0;34m\u001b[0m\u001b[0;34m\u001b[0m\u001b[0m\n\u001b[0m\u001b[1;32m    419\u001b[0m \u001b[0;34m\u001b[0m\u001b[0m\n\u001b[1;32m    420\u001b[0m         \u001b[0;32mif\u001b[0m \u001b[0mdatetimelike\u001b[0m\u001b[0;34m:\u001b[0m\u001b[0;34m\u001b[0m\u001b[0;34m\u001b[0m\u001b[0m\n",
            "\u001b[0;32m~/opt/anaconda3/lib/python3.8/site-packages/pandas/core/nanops.py\u001b[0m in \u001b[0;36mreduction\u001b[0;34m(values, axis, skipna, mask)\u001b[0m\n\u001b[1;32m   1049\u001b[0m                 \u001b[0mresult\u001b[0m \u001b[0;34m=\u001b[0m \u001b[0mnp\u001b[0m\u001b[0;34m.\u001b[0m\u001b[0mnan\u001b[0m\u001b[0;34m\u001b[0m\u001b[0;34m\u001b[0m\u001b[0m\n\u001b[1;32m   1050\u001b[0m         \u001b[0;32melse\u001b[0m\u001b[0;34m:\u001b[0m\u001b[0;34m\u001b[0m\u001b[0;34m\u001b[0m\u001b[0m\n\u001b[0;32m-> 1051\u001b[0;31m             \u001b[0mresult\u001b[0m \u001b[0;34m=\u001b[0m \u001b[0mgetattr\u001b[0m\u001b[0;34m(\u001b[0m\u001b[0mvalues\u001b[0m\u001b[0;34m,\u001b[0m \u001b[0mmeth\u001b[0m\u001b[0;34m)\u001b[0m\u001b[0;34m(\u001b[0m\u001b[0maxis\u001b[0m\u001b[0;34m)\u001b[0m\u001b[0;34m\u001b[0m\u001b[0;34m\u001b[0m\u001b[0m\n\u001b[0m\u001b[1;32m   1052\u001b[0m \u001b[0;34m\u001b[0m\u001b[0m\n\u001b[1;32m   1053\u001b[0m         \u001b[0mresult\u001b[0m \u001b[0;34m=\u001b[0m \u001b[0m_maybe_null_out\u001b[0m\u001b[0;34m(\u001b[0m\u001b[0mresult\u001b[0m\u001b[0;34m,\u001b[0m \u001b[0maxis\u001b[0m\u001b[0;34m,\u001b[0m \u001b[0mmask\u001b[0m\u001b[0;34m,\u001b[0m \u001b[0mvalues\u001b[0m\u001b[0;34m.\u001b[0m\u001b[0mshape\u001b[0m\u001b[0;34m)\u001b[0m\u001b[0;34m\u001b[0m\u001b[0;34m\u001b[0m\u001b[0m\n",
            "\u001b[0;32m~/opt/anaconda3/lib/python3.8/site-packages/numpy/core/_methods.py\u001b[0m in \u001b[0;36m_amax\u001b[0;34m(a, axis, out, keepdims, initial, where)\u001b[0m\n\u001b[1;32m     38\u001b[0m def _amax(a, axis=None, out=None, keepdims=False,\n\u001b[1;32m     39\u001b[0m           initial=_NoValue, where=True):\n\u001b[0;32m---> 40\u001b[0;31m     \u001b[0;32mreturn\u001b[0m \u001b[0mumr_maximum\u001b[0m\u001b[0;34m(\u001b[0m\u001b[0ma\u001b[0m\u001b[0;34m,\u001b[0m \u001b[0maxis\u001b[0m\u001b[0;34m,\u001b[0m \u001b[0;32mNone\u001b[0m\u001b[0;34m,\u001b[0m \u001b[0mout\u001b[0m\u001b[0;34m,\u001b[0m \u001b[0mkeepdims\u001b[0m\u001b[0;34m,\u001b[0m \u001b[0minitial\u001b[0m\u001b[0;34m,\u001b[0m \u001b[0mwhere\u001b[0m\u001b[0;34m)\u001b[0m\u001b[0;34m\u001b[0m\u001b[0;34m\u001b[0m\u001b[0m\n\u001b[0m\u001b[1;32m     41\u001b[0m \u001b[0;34m\u001b[0m\u001b[0m\n\u001b[1;32m     42\u001b[0m def _amin(a, axis=None, out=None, keepdims=False,\n",
            "\u001b[0;31mTypeError\u001b[0m: '>=' not supported between instances of 'str' and 'float'"
          ]
        }
      ]
    },
    {
      "cell_type": "code",
      "source": [
        "def get_average_rating(sparse_matrix, is_user):\n",
        "    ax = 1 if is_user else 0\n",
        "    sum_of_ratings = sparse_matrix.sum(axis = ax).A1  \n",
        "    no_of_ratings = (sparse_matrix != 0).sum(axis = ax).A1 \n",
        "    rows, cols = sparse_matrix.shape\n",
        "    average_ratings = {i: sum_of_ratings[i]/no_of_ratings[i] for i in range(rows if is_user else cols) if no_of_ratings[i] != 0}\n",
        "    return average_ratings"
      ],
      "metadata": {
        "id": "A_edyO_jM8xv"
      },
      "execution_count": 103,
      "outputs": []
    },
    {
      "cell_type": "code",
      "source": [
        "average_rating_user = get_average_rating(train_sparse_data, True)"
      ],
      "metadata": {
        "id": "fC3OezsiNAn8"
      },
      "execution_count": null,
      "outputs": []
    },
    {
      "cell_type": "markdown",
      "source": [
        "## Scrap Work:"
      ],
      "metadata": {
        "id": "65qhZ8My-anO"
      }
    },
    {
      "cell_type": "code",
      "execution_count": 36,
      "metadata": {
        "id": "OI44rbW5wz6e"
      },
      "outputs": [],
      "source": [
        "import pandas as pd\n",
        "\n",
        "from surprise import Reader\n",
        "from surprise import Dataset\n",
        "from surprise import SVD\n",
        "from surprise.model_selection import cross_validate, train_test_split\n",
        "from surprise.model_selection import KFold"
      ]
    },
    {
      "cell_type": "code",
      "source": [
        "categories = yelp_biz_review['categories'].dropna()\n",
        "def to_1D(series):\n",
        "    return pd.Series([x.strip() for _list in series for x in _list])\n",
        "\n",
        "biz_categories = to_1D(categories.str.split(\",\"))"
      ],
      "metadata": {
        "id": "kXpRSsPDnOp9"
      },
      "execution_count": 11,
      "outputs": []
    }
  ]
}