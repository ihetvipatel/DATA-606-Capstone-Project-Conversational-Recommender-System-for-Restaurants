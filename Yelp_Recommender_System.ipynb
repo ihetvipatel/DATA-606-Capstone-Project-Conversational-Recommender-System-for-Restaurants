{
  "nbformat": 4,
  "nbformat_minor": 0,
  "metadata": {
    "colab": {
      "provenance": [],
      "collapsed_sections": [
        "zqLtt9ZDOh2t",
        "3wjK8a-6f8Mx",
        "ao2ekhzg_5fl",
        "BWwQIjC-DoZm"
      ]
    },
    "kernelspec": {
      "name": "python3",
      "display_name": "Python 3"
    },
    "language_info": {
      "name": "python"
    }
  },
  "cells": [
    {
      "cell_type": "markdown",
      "source": [
        "#### **Collaborative Filtering Recommender Model**"
      ],
      "metadata": {
        "id": "OZ-wRkT63aUX"
      }
    },
    {
      "cell_type": "code",
      "source": [
        "import pandas as pd\n",
        "import matplotlib.pyplot as plt\n",
        "import numpy as np\n",
        "import seaborn as sns\n",
        "import pyarrow\n",
        "import fastparquet\n",
        "from scipy import sparse\n",
        "from surprise import Reader\n",
        "from surprise import Dataset\n",
        "from surprise import BaselineOnly\n",
        "from surprise import KNNBaseline\n",
        "from surprise import SVD\n",
        "from surprise import SVDpp\n",
        "from surprise.model_selection import GridSearchCV\n",
        "from surprise.model_selection import cross_validate, train_test_split\n",
        "from surprise.model_selection import KFold\n",
        "from surprise import KNNBasic\n",
        "from surprise import accuracy"
      ],
      "metadata": {
        "id": "DO1hP3DW0KZE"
      },
      "execution_count": null,
      "outputs": []
    },
    {
      "cell_type": "markdown",
      "source": [
        "## Data Pre-Processing"
      ],
      "metadata": {
        "id": "zqLtt9ZDOh2t"
      }
    },
    {
      "cell_type": "code",
      "source": [
        "yelp_ratings = pd.read_parquet('/Users/hetvipatel/Downloads/yelp_merged_food_tenth.parquet')"
      ],
      "metadata": {
        "id": "DlklbPbv7hjc"
      },
      "execution_count": null,
      "outputs": []
    },
    {
      "cell_type": "code",
      "source": [
        "yelp_ratings.head()"
      ],
      "metadata": {
        "colab": {
          "base_uri": "https://localhost:8080/",
          "height": 654
        },
        "id": "bH7HojxqI2Lh",
        "outputId": "14d4ed6d-b1cd-487a-d5c2-2a11a3a91fa7"
      },
      "execution_count": null,
      "outputs": [
        {
          "output_type": "execute_result",
          "data": {
            "text/plain": [
              "              business_id            name        address     city state  \\\n",
              "0  VME7Zez9J-FL7cy2H_eIdA  Branco's Pizza  428 Stokes Rd  Medford    NJ   \n",
              "1  VME7Zez9J-FL7cy2H_eIdA  Branco's Pizza  428 Stokes Rd  Medford    NJ   \n",
              "2  VME7Zez9J-FL7cy2H_eIdA  Branco's Pizza  428 Stokes Rd  Medford    NJ   \n",
              "3  VME7Zez9J-FL7cy2H_eIdA  Branco's Pizza  428 Stokes Rd  Medford    NJ   \n",
              "4  VME7Zez9J-FL7cy2H_eIdA  Branco's Pizza  428 Stokes Rd  Medford    NJ   \n",
              "\n",
              "  postal_code   latitude  longitude  stars_bus  review_count  ...  \\\n",
              "0       08055  39.876084 -74.816911        3.5            24  ...   \n",
              "1       08055  39.876084 -74.816911        3.5            24  ...   \n",
              "2       08055  39.876084 -74.816911        3.5            24  ...   \n",
              "3       08055  39.876084 -74.816911        3.5            24  ...   \n",
              "4       08055  39.876084 -74.816911        3.5            24  ...   \n",
              "\n",
              "                                          attributes  \\\n",
              "0  {'AcceptsInsurance': None, 'AgesAllowed': None...   \n",
              "1  {'AcceptsInsurance': None, 'AgesAllowed': None...   \n",
              "2  {'AcceptsInsurance': None, 'AgesAllowed': None...   \n",
              "3  {'AcceptsInsurance': None, 'AgesAllowed': None...   \n",
              "4  {'AcceptsInsurance': None, 'AgesAllowed': None...   \n",
              "\n",
              "                                categories               review_id  \\\n",
              "0  Italian, Sandwiches, Pizza, Restaurants  iDQ5_1nNKi8eP_Jmg-H0nQ   \n",
              "1  Italian, Sandwiches, Pizza, Restaurants  VzBUyylMGwAS06tHGQgMPg   \n",
              "2  Italian, Sandwiches, Pizza, Restaurants  7xwJOw-MlHkokFH3q14XSA   \n",
              "3  Italian, Sandwiches, Pizza, Restaurants  _HSQfjwRb0Xo0DP-_p4IEw   \n",
              "4  Italian, Sandwiches, Pizza, Restaurants  jQ6nIsngp_49lzudG4UjDA   \n",
              "\n",
              "                  user_id stars_rev  useful  funny  cool  \\\n",
              "0  eN8tvWTA0JTjHAKTDA4nJQ         5       0      0     0   \n",
              "1  8sOO-SmQjlZ6ZjIcT3na_Q         2       0      0     0   \n",
              "2  HKqyy_Lranv7_8eUFu80xQ         3       1      1     1   \n",
              "3  QVby2V284huDCDY6GOdL9Q         5       0      0     0   \n",
              "4  XUos3vImZ6uz2ByFbu2AWw         3       0      0     0   \n",
              "\n",
              "                                                text                 date  \n",
              "0  Their pizza is just like you'd get on the boar...  2015-07-17 16:28:45  \n",
              "1  Good food but get a 1 star for the price . Pai...  2014-11-01 00:40:29  \n",
              "2  Wandered in here by chance, first pizza place ...  2014-10-15 00:50:16  \n",
              "3  Best pizza in Medford!  Always consistent and ...  2018-10-02 22:31:19  \n",
              "4  I just stop in for the slices.  I prefer the s...  2011-03-02 17:43:55  \n",
              "\n",
              "[5 rows x 21 columns]"
            ],
            "text/html": [
              "<div>\n",
              "<style scoped>\n",
              "    .dataframe tbody tr th:only-of-type {\n",
              "        vertical-align: middle;\n",
              "    }\n",
              "\n",
              "    .dataframe tbody tr th {\n",
              "        vertical-align: top;\n",
              "    }\n",
              "\n",
              "    .dataframe thead th {\n",
              "        text-align: right;\n",
              "    }\n",
              "</style>\n",
              "<table border=\"1\" class=\"dataframe\">\n",
              "  <thead>\n",
              "    <tr style=\"text-align: right;\">\n",
              "      <th></th>\n",
              "      <th>business_id</th>\n",
              "      <th>name</th>\n",
              "      <th>address</th>\n",
              "      <th>city</th>\n",
              "      <th>state</th>\n",
              "      <th>postal_code</th>\n",
              "      <th>latitude</th>\n",
              "      <th>longitude</th>\n",
              "      <th>stars_bus</th>\n",
              "      <th>review_count</th>\n",
              "      <th>...</th>\n",
              "      <th>attributes</th>\n",
              "      <th>categories</th>\n",
              "      <th>review_id</th>\n",
              "      <th>user_id</th>\n",
              "      <th>stars_rev</th>\n",
              "      <th>useful</th>\n",
              "      <th>funny</th>\n",
              "      <th>cool</th>\n",
              "      <th>text</th>\n",
              "      <th>date</th>\n",
              "    </tr>\n",
              "  </thead>\n",
              "  <tbody>\n",
              "    <tr>\n",
              "      <th>0</th>\n",
              "      <td>VME7Zez9J-FL7cy2H_eIdA</td>\n",
              "      <td>Branco's Pizza</td>\n",
              "      <td>428 Stokes Rd</td>\n",
              "      <td>Medford</td>\n",
              "      <td>NJ</td>\n",
              "      <td>08055</td>\n",
              "      <td>39.876084</td>\n",
              "      <td>-74.816911</td>\n",
              "      <td>3.5</td>\n",
              "      <td>24</td>\n",
              "      <td>...</td>\n",
              "      <td>{'AcceptsInsurance': None, 'AgesAllowed': None...</td>\n",
              "      <td>Italian, Sandwiches, Pizza, Restaurants</td>\n",
              "      <td>iDQ5_1nNKi8eP_Jmg-H0nQ</td>\n",
              "      <td>eN8tvWTA0JTjHAKTDA4nJQ</td>\n",
              "      <td>5</td>\n",
              "      <td>0</td>\n",
              "      <td>0</td>\n",
              "      <td>0</td>\n",
              "      <td>Their pizza is just like you'd get on the boar...</td>\n",
              "      <td>2015-07-17 16:28:45</td>\n",
              "    </tr>\n",
              "    <tr>\n",
              "      <th>1</th>\n",
              "      <td>VME7Zez9J-FL7cy2H_eIdA</td>\n",
              "      <td>Branco's Pizza</td>\n",
              "      <td>428 Stokes Rd</td>\n",
              "      <td>Medford</td>\n",
              "      <td>NJ</td>\n",
              "      <td>08055</td>\n",
              "      <td>39.876084</td>\n",
              "      <td>-74.816911</td>\n",
              "      <td>3.5</td>\n",
              "      <td>24</td>\n",
              "      <td>...</td>\n",
              "      <td>{'AcceptsInsurance': None, 'AgesAllowed': None...</td>\n",
              "      <td>Italian, Sandwiches, Pizza, Restaurants</td>\n",
              "      <td>VzBUyylMGwAS06tHGQgMPg</td>\n",
              "      <td>8sOO-SmQjlZ6ZjIcT3na_Q</td>\n",
              "      <td>2</td>\n",
              "      <td>0</td>\n",
              "      <td>0</td>\n",
              "      <td>0</td>\n",
              "      <td>Good food but get a 1 star for the price . Pai...</td>\n",
              "      <td>2014-11-01 00:40:29</td>\n",
              "    </tr>\n",
              "    <tr>\n",
              "      <th>2</th>\n",
              "      <td>VME7Zez9J-FL7cy2H_eIdA</td>\n",
              "      <td>Branco's Pizza</td>\n",
              "      <td>428 Stokes Rd</td>\n",
              "      <td>Medford</td>\n",
              "      <td>NJ</td>\n",
              "      <td>08055</td>\n",
              "      <td>39.876084</td>\n",
              "      <td>-74.816911</td>\n",
              "      <td>3.5</td>\n",
              "      <td>24</td>\n",
              "      <td>...</td>\n",
              "      <td>{'AcceptsInsurance': None, 'AgesAllowed': None...</td>\n",
              "      <td>Italian, Sandwiches, Pizza, Restaurants</td>\n",
              "      <td>7xwJOw-MlHkokFH3q14XSA</td>\n",
              "      <td>HKqyy_Lranv7_8eUFu80xQ</td>\n",
              "      <td>3</td>\n",
              "      <td>1</td>\n",
              "      <td>1</td>\n",
              "      <td>1</td>\n",
              "      <td>Wandered in here by chance, first pizza place ...</td>\n",
              "      <td>2014-10-15 00:50:16</td>\n",
              "    </tr>\n",
              "    <tr>\n",
              "      <th>3</th>\n",
              "      <td>VME7Zez9J-FL7cy2H_eIdA</td>\n",
              "      <td>Branco's Pizza</td>\n",
              "      <td>428 Stokes Rd</td>\n",
              "      <td>Medford</td>\n",
              "      <td>NJ</td>\n",
              "      <td>08055</td>\n",
              "      <td>39.876084</td>\n",
              "      <td>-74.816911</td>\n",
              "      <td>3.5</td>\n",
              "      <td>24</td>\n",
              "      <td>...</td>\n",
              "      <td>{'AcceptsInsurance': None, 'AgesAllowed': None...</td>\n",
              "      <td>Italian, Sandwiches, Pizza, Restaurants</td>\n",
              "      <td>_HSQfjwRb0Xo0DP-_p4IEw</td>\n",
              "      <td>QVby2V284huDCDY6GOdL9Q</td>\n",
              "      <td>5</td>\n",
              "      <td>0</td>\n",
              "      <td>0</td>\n",
              "      <td>0</td>\n",
              "      <td>Best pizza in Medford!  Always consistent and ...</td>\n",
              "      <td>2018-10-02 22:31:19</td>\n",
              "    </tr>\n",
              "    <tr>\n",
              "      <th>4</th>\n",
              "      <td>VME7Zez9J-FL7cy2H_eIdA</td>\n",
              "      <td>Branco's Pizza</td>\n",
              "      <td>428 Stokes Rd</td>\n",
              "      <td>Medford</td>\n",
              "      <td>NJ</td>\n",
              "      <td>08055</td>\n",
              "      <td>39.876084</td>\n",
              "      <td>-74.816911</td>\n",
              "      <td>3.5</td>\n",
              "      <td>24</td>\n",
              "      <td>...</td>\n",
              "      <td>{'AcceptsInsurance': None, 'AgesAllowed': None...</td>\n",
              "      <td>Italian, Sandwiches, Pizza, Restaurants</td>\n",
              "      <td>jQ6nIsngp_49lzudG4UjDA</td>\n",
              "      <td>XUos3vImZ6uz2ByFbu2AWw</td>\n",
              "      <td>3</td>\n",
              "      <td>0</td>\n",
              "      <td>0</td>\n",
              "      <td>0</td>\n",
              "      <td>I just stop in for the slices.  I prefer the s...</td>\n",
              "      <td>2011-03-02 17:43:55</td>\n",
              "    </tr>\n",
              "  </tbody>\n",
              "</table>\n",
              "<p>5 rows × 21 columns</p>\n",
              "</div>"
            ]
          },
          "metadata": {},
          "execution_count": 230
        }
      ]
    },
    {
      "cell_type": "code",
      "source": [
        "# Converting to CSV for future steps\n",
        "\n",
        "yelp_ratings.to_csv('/Users/hetvipatel/Downloads/yelp_merged_food_tenth_csv.csv')"
      ],
      "metadata": {
        "id": "8vfpJnlkn9Gu"
      },
      "execution_count": null,
      "outputs": []
    },
    {
      "cell_type": "code",
      "source": [
        "# renaming columns\n",
        "\n",
        "yelp_ratings.rename(columns = {'stars_bus':'stars_x'}, inplace = True)\n",
        "yelp_ratings.rename(columns = {'stars_rev':'stars_y'}, inplace = True)"
      ],
      "metadata": {
        "id": "H80m8jEg8twT"
      },
      "execution_count": null,
      "outputs": []
    },
    {
      "cell_type": "code",
      "source": [
        "# Reading CSV file\n",
        "\n",
        "yelp_ratings = pd.read_csv('/Users/hetvipatel/Downloads/yelp_merged_food_tenth_csv.csv',\n",
        "                           usecols = ['business_id', 'user_id', \n",
        "                                      'address', 'name',\n",
        "                                      'stars_rev', 'date' ])"
      ],
      "metadata": {
        "id": "M3i59lBUHLaU"
      },
      "execution_count": null,
      "outputs": []
    },
    {
      "cell_type": "code",
      "source": [
        "# Renaming columns\n",
        "\n",
        "yelp_ratings.rename(columns = {'stars_bus':'stars_x'}, inplace = True)\n",
        "yelp_ratings.rename(columns = {'stars_rev':'stars_y'}, inplace = True)"
      ],
      "metadata": {
        "id": "GKTZXAVP9wPy"
      },
      "execution_count": null,
      "outputs": []
    },
    {
      "cell_type": "code",
      "source": [
        "yelp_ratings.head()"
      ],
      "metadata": {
        "colab": {
          "base_uri": "https://localhost:8080/",
          "height": 206
        },
        "id": "c828RPH793VC",
        "outputId": "f4af64c9-e613-47c8-b1ce-239e3e2e3a31"
      },
      "execution_count": null,
      "outputs": [
        {
          "output_type": "execute_result",
          "data": {
            "text/plain": [
              "              business_id            name        address  \\\n",
              "0  VME7Zez9J-FL7cy2H_eIdA  Branco's Pizza  428 Stokes Rd   \n",
              "1  VME7Zez9J-FL7cy2H_eIdA  Branco's Pizza  428 Stokes Rd   \n",
              "2  VME7Zez9J-FL7cy2H_eIdA  Branco's Pizza  428 Stokes Rd   \n",
              "3  VME7Zez9J-FL7cy2H_eIdA  Branco's Pizza  428 Stokes Rd   \n",
              "4  VME7Zez9J-FL7cy2H_eIdA  Branco's Pizza  428 Stokes Rd   \n",
              "\n",
              "                  user_id  stars_y                 date  \n",
              "0  eN8tvWTA0JTjHAKTDA4nJQ        5  2015-07-17 16:28:45  \n",
              "1  8sOO-SmQjlZ6ZjIcT3na_Q        2  2014-11-01 00:40:29  \n",
              "2  HKqyy_Lranv7_8eUFu80xQ        3  2014-10-15 00:50:16  \n",
              "3  QVby2V284huDCDY6GOdL9Q        5  2018-10-02 22:31:19  \n",
              "4  XUos3vImZ6uz2ByFbu2AWw        3  2011-03-02 17:43:55  "
            ],
            "text/html": [
              "<div>\n",
              "<style scoped>\n",
              "    .dataframe tbody tr th:only-of-type {\n",
              "        vertical-align: middle;\n",
              "    }\n",
              "\n",
              "    .dataframe tbody tr th {\n",
              "        vertical-align: top;\n",
              "    }\n",
              "\n",
              "    .dataframe thead th {\n",
              "        text-align: right;\n",
              "    }\n",
              "</style>\n",
              "<table border=\"1\" class=\"dataframe\">\n",
              "  <thead>\n",
              "    <tr style=\"text-align: right;\">\n",
              "      <th></th>\n",
              "      <th>business_id</th>\n",
              "      <th>name</th>\n",
              "      <th>address</th>\n",
              "      <th>user_id</th>\n",
              "      <th>stars_y</th>\n",
              "      <th>date</th>\n",
              "    </tr>\n",
              "  </thead>\n",
              "  <tbody>\n",
              "    <tr>\n",
              "      <th>0</th>\n",
              "      <td>VME7Zez9J-FL7cy2H_eIdA</td>\n",
              "      <td>Branco's Pizza</td>\n",
              "      <td>428 Stokes Rd</td>\n",
              "      <td>eN8tvWTA0JTjHAKTDA4nJQ</td>\n",
              "      <td>5</td>\n",
              "      <td>2015-07-17 16:28:45</td>\n",
              "    </tr>\n",
              "    <tr>\n",
              "      <th>1</th>\n",
              "      <td>VME7Zez9J-FL7cy2H_eIdA</td>\n",
              "      <td>Branco's Pizza</td>\n",
              "      <td>428 Stokes Rd</td>\n",
              "      <td>8sOO-SmQjlZ6ZjIcT3na_Q</td>\n",
              "      <td>2</td>\n",
              "      <td>2014-11-01 00:40:29</td>\n",
              "    </tr>\n",
              "    <tr>\n",
              "      <th>2</th>\n",
              "      <td>VME7Zez9J-FL7cy2H_eIdA</td>\n",
              "      <td>Branco's Pizza</td>\n",
              "      <td>428 Stokes Rd</td>\n",
              "      <td>HKqyy_Lranv7_8eUFu80xQ</td>\n",
              "      <td>3</td>\n",
              "      <td>2014-10-15 00:50:16</td>\n",
              "    </tr>\n",
              "    <tr>\n",
              "      <th>3</th>\n",
              "      <td>VME7Zez9J-FL7cy2H_eIdA</td>\n",
              "      <td>Branco's Pizza</td>\n",
              "      <td>428 Stokes Rd</td>\n",
              "      <td>QVby2V284huDCDY6GOdL9Q</td>\n",
              "      <td>5</td>\n",
              "      <td>2018-10-02 22:31:19</td>\n",
              "    </tr>\n",
              "    <tr>\n",
              "      <th>4</th>\n",
              "      <td>VME7Zez9J-FL7cy2H_eIdA</td>\n",
              "      <td>Branco's Pizza</td>\n",
              "      <td>428 Stokes Rd</td>\n",
              "      <td>XUos3vImZ6uz2ByFbu2AWw</td>\n",
              "      <td>3</td>\n",
              "      <td>2011-03-02 17:43:55</td>\n",
              "    </tr>\n",
              "  </tbody>\n",
              "</table>\n",
              "</div>"
            ]
          },
          "metadata": {},
          "execution_count": 235
        }
      ]
    },
    {
      "cell_type": "code",
      "source": [
        "yelp_ratings.isna().sum()"
      ],
      "metadata": {
        "colab": {
          "base_uri": "https://localhost:8080/"
        },
        "id": "5xZFQu2rOOjt",
        "outputId": "f97001d9-c456-49fa-fa7d-9df7ca5583fe"
      },
      "execution_count": null,
      "outputs": [
        {
          "output_type": "execute_result",
          "data": {
            "text/plain": [
              "business_id      0\n",
              "name             0\n",
              "address        962\n",
              "user_id          0\n",
              "stars_y          0\n",
              "date             0\n",
              "dtype: int64"
            ]
          },
          "metadata": {},
          "execution_count": 236
        }
      ]
    },
    {
      "cell_type": "code",
      "source": [
        "yelp_ratings = yelp_ratings.dropna()\n",
        "yelp_ratings.isna().sum()"
      ],
      "metadata": {
        "colab": {
          "base_uri": "https://localhost:8080/"
        },
        "id": "-YAVcM-ZOYx8",
        "outputId": "29071e4b-be28-4bf4-eba0-ccbfa57252a9"
      },
      "execution_count": null,
      "outputs": [
        {
          "output_type": "execute_result",
          "data": {
            "text/plain": [
              "business_id    0\n",
              "name           0\n",
              "address        0\n",
              "user_id        0\n",
              "stars_y        0\n",
              "date           0\n",
              "dtype: int64"
            ]
          },
          "metadata": {},
          "execution_count": 237
        }
      ]
    },
    {
      "cell_type": "code",
      "source": [
        "yelp_ratings.dtypes"
      ],
      "metadata": {
        "colab": {
          "base_uri": "https://localhost:8080/"
        },
        "id": "3rt32Sx_NGuq",
        "outputId": "175d78c0-32a1-4115-9e73-d3793eba4d82"
      },
      "execution_count": null,
      "outputs": [
        {
          "output_type": "execute_result",
          "data": {
            "text/plain": [
              "business_id    object\n",
              "name           object\n",
              "address        object\n",
              "user_id        object\n",
              "stars_y         int64\n",
              "date           object\n",
              "dtype: object"
            ]
          },
          "metadata": {},
          "execution_count": 238
        }
      ]
    },
    {
      "cell_type": "code",
      "source": [
        "yelp_ratings['stars_y'] = yelp_ratings['stars_y'].astype('int_')\n",
        "yelp_ratings['user_id'] = yelp_ratings['user_id'].astype('str')\n",
        "yelp_ratings['business_id'] = yelp_ratings['business_id'].astype('str')\n",
        "yelp_ratings['date'] = yelp_ratings['date'].astype('str')"
      ],
      "metadata": {
        "id": "AP5CsMdvNyzL"
      },
      "execution_count": null,
      "outputs": []
    },
    {
      "cell_type": "code",
      "source": [
        "yelp_ratings.dtypes"
      ],
      "metadata": {
        "colab": {
          "base_uri": "https://localhost:8080/"
        },
        "id": "kVhfWl8EO6H8",
        "outputId": "8b2774a6-2f9a-4e9f-b86b-1bd80ee06669"
      },
      "execution_count": null,
      "outputs": [
        {
          "output_type": "execute_result",
          "data": {
            "text/plain": [
              "business_id    object\n",
              "name           object\n",
              "address        object\n",
              "user_id        object\n",
              "stars_y         int64\n",
              "date           object\n",
              "dtype: object"
            ]
          },
          "metadata": {},
          "execution_count": 240
        }
      ]
    },
    {
      "cell_type": "code",
      "source": [
        "yelp_ratings.head()"
      ],
      "metadata": {
        "colab": {
          "base_uri": "https://localhost:8080/",
          "height": 206
        },
        "id": "XFOMMdannWKM",
        "outputId": "69b0d6b6-dcf1-4e48-ce64-c4d952f663b1"
      },
      "execution_count": null,
      "outputs": [
        {
          "output_type": "execute_result",
          "data": {
            "text/plain": [
              "              business_id            name        address  \\\n",
              "0  VME7Zez9J-FL7cy2H_eIdA  Branco's Pizza  428 Stokes Rd   \n",
              "1  VME7Zez9J-FL7cy2H_eIdA  Branco's Pizza  428 Stokes Rd   \n",
              "2  VME7Zez9J-FL7cy2H_eIdA  Branco's Pizza  428 Stokes Rd   \n",
              "3  VME7Zez9J-FL7cy2H_eIdA  Branco's Pizza  428 Stokes Rd   \n",
              "4  VME7Zez9J-FL7cy2H_eIdA  Branco's Pizza  428 Stokes Rd   \n",
              "\n",
              "                  user_id  stars_y                 date  \n",
              "0  eN8tvWTA0JTjHAKTDA4nJQ        5  2015-07-17 16:28:45  \n",
              "1  8sOO-SmQjlZ6ZjIcT3na_Q        2  2014-11-01 00:40:29  \n",
              "2  HKqyy_Lranv7_8eUFu80xQ        3  2014-10-15 00:50:16  \n",
              "3  QVby2V284huDCDY6GOdL9Q        5  2018-10-02 22:31:19  \n",
              "4  XUos3vImZ6uz2ByFbu2AWw        3  2011-03-02 17:43:55  "
            ],
            "text/html": [
              "<div>\n",
              "<style scoped>\n",
              "    .dataframe tbody tr th:only-of-type {\n",
              "        vertical-align: middle;\n",
              "    }\n",
              "\n",
              "    .dataframe tbody tr th {\n",
              "        vertical-align: top;\n",
              "    }\n",
              "\n",
              "    .dataframe thead th {\n",
              "        text-align: right;\n",
              "    }\n",
              "</style>\n",
              "<table border=\"1\" class=\"dataframe\">\n",
              "  <thead>\n",
              "    <tr style=\"text-align: right;\">\n",
              "      <th></th>\n",
              "      <th>business_id</th>\n",
              "      <th>name</th>\n",
              "      <th>address</th>\n",
              "      <th>user_id</th>\n",
              "      <th>stars_y</th>\n",
              "      <th>date</th>\n",
              "    </tr>\n",
              "  </thead>\n",
              "  <tbody>\n",
              "    <tr>\n",
              "      <th>0</th>\n",
              "      <td>VME7Zez9J-FL7cy2H_eIdA</td>\n",
              "      <td>Branco's Pizza</td>\n",
              "      <td>428 Stokes Rd</td>\n",
              "      <td>eN8tvWTA0JTjHAKTDA4nJQ</td>\n",
              "      <td>5</td>\n",
              "      <td>2015-07-17 16:28:45</td>\n",
              "    </tr>\n",
              "    <tr>\n",
              "      <th>1</th>\n",
              "      <td>VME7Zez9J-FL7cy2H_eIdA</td>\n",
              "      <td>Branco's Pizza</td>\n",
              "      <td>428 Stokes Rd</td>\n",
              "      <td>8sOO-SmQjlZ6ZjIcT3na_Q</td>\n",
              "      <td>2</td>\n",
              "      <td>2014-11-01 00:40:29</td>\n",
              "    </tr>\n",
              "    <tr>\n",
              "      <th>2</th>\n",
              "      <td>VME7Zez9J-FL7cy2H_eIdA</td>\n",
              "      <td>Branco's Pizza</td>\n",
              "      <td>428 Stokes Rd</td>\n",
              "      <td>HKqyy_Lranv7_8eUFu80xQ</td>\n",
              "      <td>3</td>\n",
              "      <td>2014-10-15 00:50:16</td>\n",
              "    </tr>\n",
              "    <tr>\n",
              "      <th>3</th>\n",
              "      <td>VME7Zez9J-FL7cy2H_eIdA</td>\n",
              "      <td>Branco's Pizza</td>\n",
              "      <td>428 Stokes Rd</td>\n",
              "      <td>QVby2V284huDCDY6GOdL9Q</td>\n",
              "      <td>5</td>\n",
              "      <td>2018-10-02 22:31:19</td>\n",
              "    </tr>\n",
              "    <tr>\n",
              "      <th>4</th>\n",
              "      <td>VME7Zez9J-FL7cy2H_eIdA</td>\n",
              "      <td>Branco's Pizza</td>\n",
              "      <td>428 Stokes Rd</td>\n",
              "      <td>XUos3vImZ6uz2ByFbu2AWw</td>\n",
              "      <td>3</td>\n",
              "      <td>2011-03-02 17:43:55</td>\n",
              "    </tr>\n",
              "  </tbody>\n",
              "</table>\n",
              "</div>"
            ]
          },
          "metadata": {},
          "execution_count": 241
        }
      ]
    },
    {
      "cell_type": "code",
      "source": [
        "reader = Reader()\n",
        "\n",
        "yelp_rating_data = Dataset.load_from_df(yelp_ratings[['user_id', \n",
        "                                                      'business_id',\n",
        "                                                      'stars_y']], \n",
        "                                                      reader)"
      ],
      "metadata": {
        "id": "KvllCYHPq2Je"
      },
      "execution_count": null,
      "outputs": []
    },
    {
      "cell_type": "code",
      "source": [
        "train_df, test_df = train_test_split(yelp_rating_data, \n",
        "                                     test_size=.2)\n",
        "\n",
        "#80-20 split"
      ],
      "metadata": {
        "id": "qTgqqYsArWqQ"
      },
      "execution_count": null,
      "outputs": []
    },
    {
      "cell_type": "code",
      "source": [
        "# 1.2559 RSME -- not completely accurate\n",
        "\n",
        "svd = SVD()\n",
        "\n",
        "cross_validate(svd, yelp_rating_data, measures=['RMSE', 'MAE'], cv=5)"
      ],
      "metadata": {
        "colab": {
          "base_uri": "https://localhost:8080/"
        },
        "id": "86KYais0xqYW",
        "outputId": "29960d6c-a17b-49a0-8838-5d01e2086001"
      },
      "execution_count": null,
      "outputs": [
        {
          "output_type": "execute_result",
          "data": {
            "text/plain": [
              "{'test_rmse': array([1.25597556, 1.25454089, 1.2553304 , 1.25607579, 1.25884932]),\n",
              " 'test_mae': array([1.00658321, 1.00566603, 1.00663482, 1.00793106, 1.00866624]),\n",
              " 'fit_time': (25.82894206047058,\n",
              "  26.412113189697266,\n",
              "  25.597191095352173,\n",
              "  26.270920991897583,\n",
              "  25.801610946655273),\n",
              " 'test_time': (0.5965480804443359,\n",
              "  0.5652680397033691,\n",
              "  0.5678658485412598,\n",
              "  0.5707650184631348,\n",
              "  0.5689401626586914)}"
            ]
          },
          "metadata": {},
          "execution_count": 244
        }
      ]
    },
    {
      "cell_type": "code",
      "source": [
        "svd_model_trained = svd.fit(train_df)"
      ],
      "metadata": {
        "id": "TJ7r17nruj3P"
      },
      "execution_count": null,
      "outputs": []
    },
    {
      "cell_type": "code",
      "source": [
        "# user_id, business_id that the user might rate, rating given by the user based on what other's have rated\n",
        "# we can see that this user gave 5.0 for this restaurant\n",
        "\n",
        "\n",
        "svd_model_trained.predict('9m9mkjkyo4HGFUWgugewHA', \n",
        "                          '2O2K6SXPWv56amqxCECd4w', \n",
        "                          5.0)"
      ],
      "metadata": {
        "colab": {
          "base_uri": "https://localhost:8080/"
        },
        "id": "3r2UHBW30ToR",
        "outputId": "f82bfcda-ef1e-407b-9ae4-5068421d4e6b"
      },
      "execution_count": null,
      "outputs": [
        {
          "output_type": "execute_result",
          "data": {
            "text/plain": [
              "Prediction(uid='9m9mkjkyo4HGFUWgugewHA', iid='2O2K6SXPWv56amqxCECd4w', r_ui=5.0, est=3.84598666397008, details={'was_impossible': False})"
            ]
          },
          "metadata": {},
          "execution_count": 246
        }
      ]
    },
    {
      "cell_type": "markdown",
      "source": [
        "## Utility Matrix/Collab Filtering Method"
      ],
      "metadata": {
        "id": "65qhZ8My-anO"
      }
    },
    {
      "cell_type": "code",
      "execution_count": null,
      "metadata": {
        "id": "OI44rbW5wz6e"
      },
      "outputs": [],
      "source": [
        "from surprise import SVD\n",
        "from surprise import accuracy\n",
        "from surprise import Reader\n",
        "from surprise import Dataset\n",
        "from surprise import BaselineOnly\n"
      ]
    },
    {
      "cell_type": "code",
      "source": [
        "df_review = yelp_ratings[['user_id','business_id','stars_y', 'date']]\n",
        "df_review"
      ],
      "metadata": {
        "id": "kXpRSsPDnOp9",
        "colab": {
          "base_uri": "https://localhost:8080/",
          "height": 423
        },
        "outputId": "777b59d3-cf0b-4bda-cff3-e3a2ef08c093"
      },
      "execution_count": null,
      "outputs": [
        {
          "output_type": "execute_result",
          "data": {
            "text/plain": [
              "                       user_id             business_id  stars_y  \\\n",
              "0       eN8tvWTA0JTjHAKTDA4nJQ  VME7Zez9J-FL7cy2H_eIdA        5   \n",
              "1       8sOO-SmQjlZ6ZjIcT3na_Q  VME7Zez9J-FL7cy2H_eIdA        2   \n",
              "2       HKqyy_Lranv7_8eUFu80xQ  VME7Zez9J-FL7cy2H_eIdA        3   \n",
              "3       QVby2V284huDCDY6GOdL9Q  VME7Zez9J-FL7cy2H_eIdA        5   \n",
              "4       XUos3vImZ6uz2ByFbu2AWw  VME7Zez9J-FL7cy2H_eIdA        3   \n",
              "...                        ...                     ...      ...   \n",
              "415061  iJnzniiM5pTcD0b5PneTfg  TZEfDSO2wRC6df4MIsQPsg        4   \n",
              "415062  oqgc6uPpV1g7uwrWQzcV2Q  TZEfDSO2wRC6df4MIsQPsg        4   \n",
              "415063  dbLz7YfH5Fy6AAB-5-vDyA  TZEfDSO2wRC6df4MIsQPsg        3   \n",
              "415064  S9IMF5MkJR949hZtn88X4Q  TZEfDSO2wRC6df4MIsQPsg        4   \n",
              "415065  DsBghdbpxFIAl6jApweRaQ  TZEfDSO2wRC6df4MIsQPsg        3   \n",
              "\n",
              "                       date  \n",
              "0       2015-07-17 16:28:45  \n",
              "1       2014-11-01 00:40:29  \n",
              "2       2014-10-15 00:50:16  \n",
              "3       2018-10-02 22:31:19  \n",
              "4       2011-03-02 17:43:55  \n",
              "...                     ...  \n",
              "415061  2017-07-11 00:58:19  \n",
              "415062  2019-02-10 17:40:21  \n",
              "415063  2016-03-18 14:53:46  \n",
              "415064  2016-08-28 18:03:50  \n",
              "415065  2019-01-21 15:21:16  \n",
              "\n",
              "[414104 rows x 4 columns]"
            ],
            "text/html": [
              "<div>\n",
              "<style scoped>\n",
              "    .dataframe tbody tr th:only-of-type {\n",
              "        vertical-align: middle;\n",
              "    }\n",
              "\n",
              "    .dataframe tbody tr th {\n",
              "        vertical-align: top;\n",
              "    }\n",
              "\n",
              "    .dataframe thead th {\n",
              "        text-align: right;\n",
              "    }\n",
              "</style>\n",
              "<table border=\"1\" class=\"dataframe\">\n",
              "  <thead>\n",
              "    <tr style=\"text-align: right;\">\n",
              "      <th></th>\n",
              "      <th>user_id</th>\n",
              "      <th>business_id</th>\n",
              "      <th>stars_y</th>\n",
              "      <th>date</th>\n",
              "    </tr>\n",
              "  </thead>\n",
              "  <tbody>\n",
              "    <tr>\n",
              "      <th>0</th>\n",
              "      <td>eN8tvWTA0JTjHAKTDA4nJQ</td>\n",
              "      <td>VME7Zez9J-FL7cy2H_eIdA</td>\n",
              "      <td>5</td>\n",
              "      <td>2015-07-17 16:28:45</td>\n",
              "    </tr>\n",
              "    <tr>\n",
              "      <th>1</th>\n",
              "      <td>8sOO-SmQjlZ6ZjIcT3na_Q</td>\n",
              "      <td>VME7Zez9J-FL7cy2H_eIdA</td>\n",
              "      <td>2</td>\n",
              "      <td>2014-11-01 00:40:29</td>\n",
              "    </tr>\n",
              "    <tr>\n",
              "      <th>2</th>\n",
              "      <td>HKqyy_Lranv7_8eUFu80xQ</td>\n",
              "      <td>VME7Zez9J-FL7cy2H_eIdA</td>\n",
              "      <td>3</td>\n",
              "      <td>2014-10-15 00:50:16</td>\n",
              "    </tr>\n",
              "    <tr>\n",
              "      <th>3</th>\n",
              "      <td>QVby2V284huDCDY6GOdL9Q</td>\n",
              "      <td>VME7Zez9J-FL7cy2H_eIdA</td>\n",
              "      <td>5</td>\n",
              "      <td>2018-10-02 22:31:19</td>\n",
              "    </tr>\n",
              "    <tr>\n",
              "      <th>4</th>\n",
              "      <td>XUos3vImZ6uz2ByFbu2AWw</td>\n",
              "      <td>VME7Zez9J-FL7cy2H_eIdA</td>\n",
              "      <td>3</td>\n",
              "      <td>2011-03-02 17:43:55</td>\n",
              "    </tr>\n",
              "    <tr>\n",
              "      <th>...</th>\n",
              "      <td>...</td>\n",
              "      <td>...</td>\n",
              "      <td>...</td>\n",
              "      <td>...</td>\n",
              "    </tr>\n",
              "    <tr>\n",
              "      <th>415061</th>\n",
              "      <td>iJnzniiM5pTcD0b5PneTfg</td>\n",
              "      <td>TZEfDSO2wRC6df4MIsQPsg</td>\n",
              "      <td>4</td>\n",
              "      <td>2017-07-11 00:58:19</td>\n",
              "    </tr>\n",
              "    <tr>\n",
              "      <th>415062</th>\n",
              "      <td>oqgc6uPpV1g7uwrWQzcV2Q</td>\n",
              "      <td>TZEfDSO2wRC6df4MIsQPsg</td>\n",
              "      <td>4</td>\n",
              "      <td>2019-02-10 17:40:21</td>\n",
              "    </tr>\n",
              "    <tr>\n",
              "      <th>415063</th>\n",
              "      <td>dbLz7YfH5Fy6AAB-5-vDyA</td>\n",
              "      <td>TZEfDSO2wRC6df4MIsQPsg</td>\n",
              "      <td>3</td>\n",
              "      <td>2016-03-18 14:53:46</td>\n",
              "    </tr>\n",
              "    <tr>\n",
              "      <th>415064</th>\n",
              "      <td>S9IMF5MkJR949hZtn88X4Q</td>\n",
              "      <td>TZEfDSO2wRC6df4MIsQPsg</td>\n",
              "      <td>4</td>\n",
              "      <td>2016-08-28 18:03:50</td>\n",
              "    </tr>\n",
              "    <tr>\n",
              "      <th>415065</th>\n",
              "      <td>DsBghdbpxFIAl6jApweRaQ</td>\n",
              "      <td>TZEfDSO2wRC6df4MIsQPsg</td>\n",
              "      <td>3</td>\n",
              "      <td>2019-01-21 15:21:16</td>\n",
              "    </tr>\n",
              "  </tbody>\n",
              "</table>\n",
              "<p>414104 rows × 4 columns</p>\n",
              "</div>"
            ]
          },
          "metadata": {},
          "execution_count": 248
        }
      ]
    },
    {
      "cell_type": "code",
      "source": [
        "restaurant = yelp_ratings[['business_id', 'name', 'address']]\n",
        "restaurant"
      ],
      "metadata": {
        "colab": {
          "base_uri": "https://localhost:8080/",
          "height": 423
        },
        "id": "cvc4NwRCXmy0",
        "outputId": "60a0a902-16f4-4383-b9f0-1c275ded74cb"
      },
      "execution_count": null,
      "outputs": [
        {
          "output_type": "execute_result",
          "data": {
            "text/plain": [
              "                   business_id                                     name  \\\n",
              "0       VME7Zez9J-FL7cy2H_eIdA                           Branco's Pizza   \n",
              "1       VME7Zez9J-FL7cy2H_eIdA                           Branco's Pizza   \n",
              "2       VME7Zez9J-FL7cy2H_eIdA                           Branco's Pizza   \n",
              "3       VME7Zez9J-FL7cy2H_eIdA                           Branco's Pizza   \n",
              "4       VME7Zez9J-FL7cy2H_eIdA                           Branco's Pizza   \n",
              "...                        ...                                      ...   \n",
              "415061  TZEfDSO2wRC6df4MIsQPsg  Zaxby's Chicken Fingers & Buffalo Wings   \n",
              "415062  TZEfDSO2wRC6df4MIsQPsg  Zaxby's Chicken Fingers & Buffalo Wings   \n",
              "415063  TZEfDSO2wRC6df4MIsQPsg  Zaxby's Chicken Fingers & Buffalo Wings   \n",
              "415064  TZEfDSO2wRC6df4MIsQPsg  Zaxby's Chicken Fingers & Buffalo Wings   \n",
              "415065  TZEfDSO2wRC6df4MIsQPsg  Zaxby's Chicken Fingers & Buffalo Wings   \n",
              "\n",
              "                 address  \n",
              "0          428 Stokes Rd  \n",
              "1          428 Stokes Rd  \n",
              "2          428 Stokes Rd  \n",
              "3          428 Stokes Rd  \n",
              "4          428 Stokes Rd  \n",
              "...                  ...  \n",
              "415061  8810 Wesleyan Rd  \n",
              "415062  8810 Wesleyan Rd  \n",
              "415063  8810 Wesleyan Rd  \n",
              "415064  8810 Wesleyan Rd  \n",
              "415065  8810 Wesleyan Rd  \n",
              "\n",
              "[414104 rows x 3 columns]"
            ],
            "text/html": [
              "<div>\n",
              "<style scoped>\n",
              "    .dataframe tbody tr th:only-of-type {\n",
              "        vertical-align: middle;\n",
              "    }\n",
              "\n",
              "    .dataframe tbody tr th {\n",
              "        vertical-align: top;\n",
              "    }\n",
              "\n",
              "    .dataframe thead th {\n",
              "        text-align: right;\n",
              "    }\n",
              "</style>\n",
              "<table border=\"1\" class=\"dataframe\">\n",
              "  <thead>\n",
              "    <tr style=\"text-align: right;\">\n",
              "      <th></th>\n",
              "      <th>business_id</th>\n",
              "      <th>name</th>\n",
              "      <th>address</th>\n",
              "    </tr>\n",
              "  </thead>\n",
              "  <tbody>\n",
              "    <tr>\n",
              "      <th>0</th>\n",
              "      <td>VME7Zez9J-FL7cy2H_eIdA</td>\n",
              "      <td>Branco's Pizza</td>\n",
              "      <td>428 Stokes Rd</td>\n",
              "    </tr>\n",
              "    <tr>\n",
              "      <th>1</th>\n",
              "      <td>VME7Zez9J-FL7cy2H_eIdA</td>\n",
              "      <td>Branco's Pizza</td>\n",
              "      <td>428 Stokes Rd</td>\n",
              "    </tr>\n",
              "    <tr>\n",
              "      <th>2</th>\n",
              "      <td>VME7Zez9J-FL7cy2H_eIdA</td>\n",
              "      <td>Branco's Pizza</td>\n",
              "      <td>428 Stokes Rd</td>\n",
              "    </tr>\n",
              "    <tr>\n",
              "      <th>3</th>\n",
              "      <td>VME7Zez9J-FL7cy2H_eIdA</td>\n",
              "      <td>Branco's Pizza</td>\n",
              "      <td>428 Stokes Rd</td>\n",
              "    </tr>\n",
              "    <tr>\n",
              "      <th>4</th>\n",
              "      <td>VME7Zez9J-FL7cy2H_eIdA</td>\n",
              "      <td>Branco's Pizza</td>\n",
              "      <td>428 Stokes Rd</td>\n",
              "    </tr>\n",
              "    <tr>\n",
              "      <th>...</th>\n",
              "      <td>...</td>\n",
              "      <td>...</td>\n",
              "      <td>...</td>\n",
              "    </tr>\n",
              "    <tr>\n",
              "      <th>415061</th>\n",
              "      <td>TZEfDSO2wRC6df4MIsQPsg</td>\n",
              "      <td>Zaxby's Chicken Fingers &amp; Buffalo Wings</td>\n",
              "      <td>8810 Wesleyan Rd</td>\n",
              "    </tr>\n",
              "    <tr>\n",
              "      <th>415062</th>\n",
              "      <td>TZEfDSO2wRC6df4MIsQPsg</td>\n",
              "      <td>Zaxby's Chicken Fingers &amp; Buffalo Wings</td>\n",
              "      <td>8810 Wesleyan Rd</td>\n",
              "    </tr>\n",
              "    <tr>\n",
              "      <th>415063</th>\n",
              "      <td>TZEfDSO2wRC6df4MIsQPsg</td>\n",
              "      <td>Zaxby's Chicken Fingers &amp; Buffalo Wings</td>\n",
              "      <td>8810 Wesleyan Rd</td>\n",
              "    </tr>\n",
              "    <tr>\n",
              "      <th>415064</th>\n",
              "      <td>TZEfDSO2wRC6df4MIsQPsg</td>\n",
              "      <td>Zaxby's Chicken Fingers &amp; Buffalo Wings</td>\n",
              "      <td>8810 Wesleyan Rd</td>\n",
              "    </tr>\n",
              "    <tr>\n",
              "      <th>415065</th>\n",
              "      <td>TZEfDSO2wRC6df4MIsQPsg</td>\n",
              "      <td>Zaxby's Chicken Fingers &amp; Buffalo Wings</td>\n",
              "      <td>8810 Wesleyan Rd</td>\n",
              "    </tr>\n",
              "  </tbody>\n",
              "</table>\n",
              "<p>414104 rows × 3 columns</p>\n",
              "</div>"
            ]
          },
          "metadata": {},
          "execution_count": 250
        }
      ]
    },
    {
      "cell_type": "code",
      "source": [
        "combined_business_data = pd.merge(df_review, restaurant, on='business_id')\n",
        "combined_business_data"
      ],
      "metadata": {
        "colab": {
          "base_uri": "https://localhost:8080/",
          "height": 423
        },
        "id": "5TRjOhaSXpdM",
        "outputId": "54803d30-e31f-426c-c326-2a1ae9160a93"
      },
      "execution_count": null,
      "outputs": [
        {
          "output_type": "execute_result",
          "data": {
            "text/plain": [
              "                          user_id             business_id  stars_y  \\\n",
              "0          eN8tvWTA0JTjHAKTDA4nJQ  VME7Zez9J-FL7cy2H_eIdA        5   \n",
              "1          eN8tvWTA0JTjHAKTDA4nJQ  VME7Zez9J-FL7cy2H_eIdA        5   \n",
              "2          eN8tvWTA0JTjHAKTDA4nJQ  VME7Zez9J-FL7cy2H_eIdA        5   \n",
              "3          eN8tvWTA0JTjHAKTDA4nJQ  VME7Zez9J-FL7cy2H_eIdA        5   \n",
              "4          eN8tvWTA0JTjHAKTDA4nJQ  VME7Zez9J-FL7cy2H_eIdA        5   \n",
              "...                           ...                     ...      ...   \n",
              "207022715  DsBghdbpxFIAl6jApweRaQ  TZEfDSO2wRC6df4MIsQPsg        3   \n",
              "207022716  DsBghdbpxFIAl6jApweRaQ  TZEfDSO2wRC6df4MIsQPsg        3   \n",
              "207022717  DsBghdbpxFIAl6jApweRaQ  TZEfDSO2wRC6df4MIsQPsg        3   \n",
              "207022718  DsBghdbpxFIAl6jApweRaQ  TZEfDSO2wRC6df4MIsQPsg        3   \n",
              "207022719  DsBghdbpxFIAl6jApweRaQ  TZEfDSO2wRC6df4MIsQPsg        3   \n",
              "\n",
              "                          date                                     name  \\\n",
              "0          2015-07-17 16:28:45                           Branco's Pizza   \n",
              "1          2015-07-17 16:28:45                           Branco's Pizza   \n",
              "2          2015-07-17 16:28:45                           Branco's Pizza   \n",
              "3          2015-07-17 16:28:45                           Branco's Pizza   \n",
              "4          2015-07-17 16:28:45                           Branco's Pizza   \n",
              "...                        ...                                      ...   \n",
              "207022715  2019-01-21 15:21:16  Zaxby's Chicken Fingers & Buffalo Wings   \n",
              "207022716  2019-01-21 15:21:16  Zaxby's Chicken Fingers & Buffalo Wings   \n",
              "207022717  2019-01-21 15:21:16  Zaxby's Chicken Fingers & Buffalo Wings   \n",
              "207022718  2019-01-21 15:21:16  Zaxby's Chicken Fingers & Buffalo Wings   \n",
              "207022719  2019-01-21 15:21:16  Zaxby's Chicken Fingers & Buffalo Wings   \n",
              "\n",
              "                    address  \n",
              "0             428 Stokes Rd  \n",
              "1             428 Stokes Rd  \n",
              "2             428 Stokes Rd  \n",
              "3             428 Stokes Rd  \n",
              "4             428 Stokes Rd  \n",
              "...                     ...  \n",
              "207022715  8810 Wesleyan Rd  \n",
              "207022716  8810 Wesleyan Rd  \n",
              "207022717  8810 Wesleyan Rd  \n",
              "207022718  8810 Wesleyan Rd  \n",
              "207022719  8810 Wesleyan Rd  \n",
              "\n",
              "[207022720 rows x 6 columns]"
            ],
            "text/html": [
              "<div>\n",
              "<style scoped>\n",
              "    .dataframe tbody tr th:only-of-type {\n",
              "        vertical-align: middle;\n",
              "    }\n",
              "\n",
              "    .dataframe tbody tr th {\n",
              "        vertical-align: top;\n",
              "    }\n",
              "\n",
              "    .dataframe thead th {\n",
              "        text-align: right;\n",
              "    }\n",
              "</style>\n",
              "<table border=\"1\" class=\"dataframe\">\n",
              "  <thead>\n",
              "    <tr style=\"text-align: right;\">\n",
              "      <th></th>\n",
              "      <th>user_id</th>\n",
              "      <th>business_id</th>\n",
              "      <th>stars_y</th>\n",
              "      <th>date</th>\n",
              "      <th>name</th>\n",
              "      <th>address</th>\n",
              "    </tr>\n",
              "  </thead>\n",
              "  <tbody>\n",
              "    <tr>\n",
              "      <th>0</th>\n",
              "      <td>eN8tvWTA0JTjHAKTDA4nJQ</td>\n",
              "      <td>VME7Zez9J-FL7cy2H_eIdA</td>\n",
              "      <td>5</td>\n",
              "      <td>2015-07-17 16:28:45</td>\n",
              "      <td>Branco's Pizza</td>\n",
              "      <td>428 Stokes Rd</td>\n",
              "    </tr>\n",
              "    <tr>\n",
              "      <th>1</th>\n",
              "      <td>eN8tvWTA0JTjHAKTDA4nJQ</td>\n",
              "      <td>VME7Zez9J-FL7cy2H_eIdA</td>\n",
              "      <td>5</td>\n",
              "      <td>2015-07-17 16:28:45</td>\n",
              "      <td>Branco's Pizza</td>\n",
              "      <td>428 Stokes Rd</td>\n",
              "    </tr>\n",
              "    <tr>\n",
              "      <th>2</th>\n",
              "      <td>eN8tvWTA0JTjHAKTDA4nJQ</td>\n",
              "      <td>VME7Zez9J-FL7cy2H_eIdA</td>\n",
              "      <td>5</td>\n",
              "      <td>2015-07-17 16:28:45</td>\n",
              "      <td>Branco's Pizza</td>\n",
              "      <td>428 Stokes Rd</td>\n",
              "    </tr>\n",
              "    <tr>\n",
              "      <th>3</th>\n",
              "      <td>eN8tvWTA0JTjHAKTDA4nJQ</td>\n",
              "      <td>VME7Zez9J-FL7cy2H_eIdA</td>\n",
              "      <td>5</td>\n",
              "      <td>2015-07-17 16:28:45</td>\n",
              "      <td>Branco's Pizza</td>\n",
              "      <td>428 Stokes Rd</td>\n",
              "    </tr>\n",
              "    <tr>\n",
              "      <th>4</th>\n",
              "      <td>eN8tvWTA0JTjHAKTDA4nJQ</td>\n",
              "      <td>VME7Zez9J-FL7cy2H_eIdA</td>\n",
              "      <td>5</td>\n",
              "      <td>2015-07-17 16:28:45</td>\n",
              "      <td>Branco's Pizza</td>\n",
              "      <td>428 Stokes Rd</td>\n",
              "    </tr>\n",
              "    <tr>\n",
              "      <th>...</th>\n",
              "      <td>...</td>\n",
              "      <td>...</td>\n",
              "      <td>...</td>\n",
              "      <td>...</td>\n",
              "      <td>...</td>\n",
              "      <td>...</td>\n",
              "    </tr>\n",
              "    <tr>\n",
              "      <th>207022715</th>\n",
              "      <td>DsBghdbpxFIAl6jApweRaQ</td>\n",
              "      <td>TZEfDSO2wRC6df4MIsQPsg</td>\n",
              "      <td>3</td>\n",
              "      <td>2019-01-21 15:21:16</td>\n",
              "      <td>Zaxby's Chicken Fingers &amp; Buffalo Wings</td>\n",
              "      <td>8810 Wesleyan Rd</td>\n",
              "    </tr>\n",
              "    <tr>\n",
              "      <th>207022716</th>\n",
              "      <td>DsBghdbpxFIAl6jApweRaQ</td>\n",
              "      <td>TZEfDSO2wRC6df4MIsQPsg</td>\n",
              "      <td>3</td>\n",
              "      <td>2019-01-21 15:21:16</td>\n",
              "      <td>Zaxby's Chicken Fingers &amp; Buffalo Wings</td>\n",
              "      <td>8810 Wesleyan Rd</td>\n",
              "    </tr>\n",
              "    <tr>\n",
              "      <th>207022717</th>\n",
              "      <td>DsBghdbpxFIAl6jApweRaQ</td>\n",
              "      <td>TZEfDSO2wRC6df4MIsQPsg</td>\n",
              "      <td>3</td>\n",
              "      <td>2019-01-21 15:21:16</td>\n",
              "      <td>Zaxby's Chicken Fingers &amp; Buffalo Wings</td>\n",
              "      <td>8810 Wesleyan Rd</td>\n",
              "    </tr>\n",
              "    <tr>\n",
              "      <th>207022718</th>\n",
              "      <td>DsBghdbpxFIAl6jApweRaQ</td>\n",
              "      <td>TZEfDSO2wRC6df4MIsQPsg</td>\n",
              "      <td>3</td>\n",
              "      <td>2019-01-21 15:21:16</td>\n",
              "      <td>Zaxby's Chicken Fingers &amp; Buffalo Wings</td>\n",
              "      <td>8810 Wesleyan Rd</td>\n",
              "    </tr>\n",
              "    <tr>\n",
              "      <th>207022719</th>\n",
              "      <td>DsBghdbpxFIAl6jApweRaQ</td>\n",
              "      <td>TZEfDSO2wRC6df4MIsQPsg</td>\n",
              "      <td>3</td>\n",
              "      <td>2019-01-21 15:21:16</td>\n",
              "      <td>Zaxby's Chicken Fingers &amp; Buffalo Wings</td>\n",
              "      <td>8810 Wesleyan Rd</td>\n",
              "    </tr>\n",
              "  </tbody>\n",
              "</table>\n",
              "<p>207022720 rows × 6 columns</p>\n",
              "</div>"
            ]
          },
          "metadata": {},
          "execution_count": 251
        }
      ]
    },
    {
      "cell_type": "code",
      "source": [
        "combined_business_data.groupby('business_id')['stars_y'].count().sort_values(ascending=False).head()"
      ],
      "metadata": {
        "colab": {
          "base_uri": "https://localhost:8080/"
        },
        "id": "KCMUXfd2ZZgM",
        "outputId": "0343779f-fa59-47c6-94a2-36660488408a"
      },
      "execution_count": null,
      "outputs": [
        {
          "output_type": "execute_result",
          "data": {
            "text/plain": [
              "business_id\n",
              "ytynqOUb3hjKeJfRj5Tshw    33385284\n",
              "dsfRniRgfbDjC8os848B6A     9168784\n",
              "RQAF6a0akMiot5lZZnMNNw     7425625\n",
              "SZU9c8V2GuREDN5KgyHFJw     5973136\n",
              "vN6v8m4DO45Z4pp8yxxF_w     4494400\n",
              "Name: stars_y, dtype: int64"
            ]
          },
          "metadata": {},
          "execution_count": 253
        }
      ]
    },
    {
      "cell_type": "code",
      "source": [
        "# see the NAME of the most popular restaurant\n",
        "Filter = combined_business_data['business_id'] == 'TZEfDSO2wRC6df4MIsQPsg'\n",
        "print(\"Name: \", combined_business_data[Filter]['name'].unique())\n",
        "print(\"Address:\", combined_business_data[Filter]['address'].unique())"
      ],
      "metadata": {
        "colab": {
          "base_uri": "https://localhost:8080/"
        },
        "id": "_VHDX5yAZbdC",
        "outputId": "b76963ca-4379-46ee-fe93-6212918cc1aa"
      },
      "execution_count": null,
      "outputs": [
        {
          "output_type": "stream",
          "name": "stdout",
          "text": [
            "Name:  [\"Zaxby's Chicken Fingers & Buffalo Wings\"]\n",
            "Address: ['8810 Wesleyan Rd']\n"
          ]
        }
      ]
    },
    {
      "cell_type": "markdown",
      "source": [
        "### Utility Matrix: User-Restaurant Matrix\n",
        "\n",
        "Matrix contains users, restaurants, and rating each user gave to each restaurant.\n",
        "\n",
        "If user did not rate a restaurant, it's blank."
      ],
      "metadata": {
        "id": "jyosflfDZt7K"
      }
    },
    {
      "cell_type": "code",
      "source": [
        "rating_crosstab = combined_business_data.pivot_table(values='stars_y', index='user_id', columns='name', fill_value=0)\n",
        "rating_crosstab.head()"
      ],
      "metadata": {
        "colab": {
          "base_uri": "https://localhost:8080/",
          "height": 425
        },
        "id": "iytX34X_ZrWc",
        "outputId": "558adf90-0b6c-42ba-8eb4-b542431b2e76"
      },
      "execution_count": null,
      "outputs": [
        {
          "output_type": "execute_result",
          "data": {
            "text/plain": [
              "name                    1 Night Stand  10 Barrel Brewing - Boise  \\\n",
              "user_id                                                            \n",
              "---2PmXbF47D870stH1jqA              0                        0.0   \n",
              "---UgP94gokyCDuB5zUssA              0                        0.0   \n",
              "--0FNOzZkEQlz8WzS3WttQ              0                        0.0   \n",
              "--2bpE5vyR-2hAP7sZZ4lA              0                        0.0   \n",
              "--2tyArRmSoyKx5r-FVG0A              0                        0.0   \n",
              "\n",
              "name                    10 Torr Distilling and Brewing  1010 Pizza & Grill  \\\n",
              "user_id                                                                      \n",
              "---2PmXbF47D870stH1jqA                             0.0                 0.0   \n",
              "---UgP94gokyCDuB5zUssA                             0.0                 0.0   \n",
              "--0FNOzZkEQlz8WzS3WttQ                             0.0                 0.0   \n",
              "--2bpE5vyR-2hAP7sZZ4lA                             0.0                 0.0   \n",
              "--2tyArRmSoyKx5r-FVG0A                             0.0                 0.0   \n",
              "\n",
              "name                    1860 Saloon, Game Room, & Hardshell Café  1864 Tavern  \\\n",
              "user_id                                                                         \n",
              "---2PmXbF47D870stH1jqA                                         0          0.0   \n",
              "---UgP94gokyCDuB5zUssA                                         0          0.0   \n",
              "--0FNOzZkEQlz8WzS3WttQ                                         0          0.0   \n",
              "--2bpE5vyR-2hAP7sZZ4lA                                         0          0.0   \n",
              "--2tyArRmSoyKx5r-FVG0A                                         0          0.0   \n",
              "\n",
              "name                    1st NE International Market  2 Alexs Spanish Cuisine  \\\n",
              "user_id                                                                        \n",
              "---2PmXbF47D870stH1jqA                            0                        0   \n",
              "---UgP94gokyCDuB5zUssA                            0                        0   \n",
              "--0FNOzZkEQlz8WzS3WttQ                            0                        0   \n",
              "--2bpE5vyR-2hAP7sZZ4lA                            0                        0   \n",
              "--2tyArRmSoyKx5r-FVG0A                            0                        0   \n",
              "\n",
              "name                    2 Fat Guys American Grill  \\\n",
              "user_id                                             \n",
              "---2PmXbF47D870stH1jqA                          0   \n",
              "---UgP94gokyCDuB5zUssA                          0   \n",
              "--0FNOzZkEQlz8WzS3WttQ                          0   \n",
              "--2bpE5vyR-2hAP7sZZ4lA                          0   \n",
              "--2tyArRmSoyKx5r-FVG0A                          0   \n",
              "\n",
              "name                    2 Little Piggys BBQ and Catering  ...  Zoup!  \\\n",
              "user_id                                                   ...          \n",
              "---2PmXbF47D870stH1jqA                                 0  ...    0.0   \n",
              "---UgP94gokyCDuB5zUssA                                 0  ...    0.0   \n",
              "--0FNOzZkEQlz8WzS3WttQ                                 0  ...    0.0   \n",
              "--2bpE5vyR-2hAP7sZZ4lA                                 0  ...    0.0   \n",
              "--2tyArRmSoyKx5r-FVG0A                                 0  ...    0.0   \n",
              "\n",
              "name                    Zudar's Bourbon St  Bar & Grill  Zushi Dozo  \\\n",
              "user_id                                                               \n",
              "---2PmXbF47D870stH1jqA                              0.0         0.0   \n",
              "---UgP94gokyCDuB5zUssA                              0.0         0.0   \n",
              "--0FNOzZkEQlz8WzS3WttQ                              0.0         0.0   \n",
              "--2bpE5vyR-2hAP7sZZ4lA                              0.0         0.0   \n",
              "--2tyArRmSoyKx5r-FVG0A                              0.0         0.0   \n",
              "\n",
              "name                    Zushi Sushi & Ramen  a.kitchen  eegee's  honeygrow  \\\n",
              "user_id                                                                      \n",
              "---2PmXbF47D870stH1jqA                    0        0.0      0.0        0.0   \n",
              "---UgP94gokyCDuB5zUssA                    0        0.0      0.0        0.0   \n",
              "--0FNOzZkEQlz8WzS3WttQ                    0        0.0      0.0        0.0   \n",
              "--2bpE5vyR-2hAP7sZZ4lA                    0        0.0      0.0        0.0   \n",
              "--2tyArRmSoyKx5r-FVG0A                    0        0.0      0.0        0.0   \n",
              "\n",
              "name                    il Fustino  sweetFrog Premium Frozen Yogurt  \\\n",
              "user_id                                                               \n",
              "---2PmXbF47D870stH1jqA           0                                0   \n",
              "---UgP94gokyCDuB5zUssA           0                                0   \n",
              "--0FNOzZkEQlz8WzS3WttQ           0                                0   \n",
              "--2bpE5vyR-2hAP7sZZ4lA           0                                0   \n",
              "--2tyArRmSoyKx5r-FVG0A           0                                0   \n",
              "\n",
              "name                    éclair délicieux  \n",
              "user_id                                   \n",
              "---2PmXbF47D870stH1jqA                 0  \n",
              "---UgP94gokyCDuB5zUssA                 0  \n",
              "--0FNOzZkEQlz8WzS3WttQ                 0  \n",
              "--2bpE5vyR-2hAP7sZZ4lA                 0  \n",
              "--2tyArRmSoyKx5r-FVG0A                 0  \n",
              "\n",
              "[5 rows x 3313 columns]"
            ],
            "text/html": [
              "<div>\n",
              "<style scoped>\n",
              "    .dataframe tbody tr th:only-of-type {\n",
              "        vertical-align: middle;\n",
              "    }\n",
              "\n",
              "    .dataframe tbody tr th {\n",
              "        vertical-align: top;\n",
              "    }\n",
              "\n",
              "    .dataframe thead th {\n",
              "        text-align: right;\n",
              "    }\n",
              "</style>\n",
              "<table border=\"1\" class=\"dataframe\">\n",
              "  <thead>\n",
              "    <tr style=\"text-align: right;\">\n",
              "      <th>name</th>\n",
              "      <th>1 Night Stand</th>\n",
              "      <th>10 Barrel Brewing - Boise</th>\n",
              "      <th>10 Torr Distilling and Brewing</th>\n",
              "      <th>1010 Pizza &amp; Grill</th>\n",
              "      <th>1860 Saloon, Game Room, &amp; Hardshell Café</th>\n",
              "      <th>1864 Tavern</th>\n",
              "      <th>1st NE International Market</th>\n",
              "      <th>2 Alexs Spanish Cuisine</th>\n",
              "      <th>2 Fat Guys American Grill</th>\n",
              "      <th>2 Little Piggys BBQ and Catering</th>\n",
              "      <th>...</th>\n",
              "      <th>Zoup!</th>\n",
              "      <th>Zudar's Bourbon St  Bar &amp; Grill</th>\n",
              "      <th>Zushi Dozo</th>\n",
              "      <th>Zushi Sushi &amp; Ramen</th>\n",
              "      <th>a.kitchen</th>\n",
              "      <th>eegee's</th>\n",
              "      <th>honeygrow</th>\n",
              "      <th>il Fustino</th>\n",
              "      <th>sweetFrog Premium Frozen Yogurt</th>\n",
              "      <th>éclair délicieux</th>\n",
              "    </tr>\n",
              "    <tr>\n",
              "      <th>user_id</th>\n",
              "      <th></th>\n",
              "      <th></th>\n",
              "      <th></th>\n",
              "      <th></th>\n",
              "      <th></th>\n",
              "      <th></th>\n",
              "      <th></th>\n",
              "      <th></th>\n",
              "      <th></th>\n",
              "      <th></th>\n",
              "      <th></th>\n",
              "      <th></th>\n",
              "      <th></th>\n",
              "      <th></th>\n",
              "      <th></th>\n",
              "      <th></th>\n",
              "      <th></th>\n",
              "      <th></th>\n",
              "      <th></th>\n",
              "      <th></th>\n",
              "      <th></th>\n",
              "    </tr>\n",
              "  </thead>\n",
              "  <tbody>\n",
              "    <tr>\n",
              "      <th>---2PmXbF47D870stH1jqA</th>\n",
              "      <td>0</td>\n",
              "      <td>0.0</td>\n",
              "      <td>0.0</td>\n",
              "      <td>0.0</td>\n",
              "      <td>0</td>\n",
              "      <td>0.0</td>\n",
              "      <td>0</td>\n",
              "      <td>0</td>\n",
              "      <td>0</td>\n",
              "      <td>0</td>\n",
              "      <td>...</td>\n",
              "      <td>0.0</td>\n",
              "      <td>0.0</td>\n",
              "      <td>0.0</td>\n",
              "      <td>0</td>\n",
              "      <td>0.0</td>\n",
              "      <td>0.0</td>\n",
              "      <td>0.0</td>\n",
              "      <td>0</td>\n",
              "      <td>0</td>\n",
              "      <td>0</td>\n",
              "    </tr>\n",
              "    <tr>\n",
              "      <th>---UgP94gokyCDuB5zUssA</th>\n",
              "      <td>0</td>\n",
              "      <td>0.0</td>\n",
              "      <td>0.0</td>\n",
              "      <td>0.0</td>\n",
              "      <td>0</td>\n",
              "      <td>0.0</td>\n",
              "      <td>0</td>\n",
              "      <td>0</td>\n",
              "      <td>0</td>\n",
              "      <td>0</td>\n",
              "      <td>...</td>\n",
              "      <td>0.0</td>\n",
              "      <td>0.0</td>\n",
              "      <td>0.0</td>\n",
              "      <td>0</td>\n",
              "      <td>0.0</td>\n",
              "      <td>0.0</td>\n",
              "      <td>0.0</td>\n",
              "      <td>0</td>\n",
              "      <td>0</td>\n",
              "      <td>0</td>\n",
              "    </tr>\n",
              "    <tr>\n",
              "      <th>--0FNOzZkEQlz8WzS3WttQ</th>\n",
              "      <td>0</td>\n",
              "      <td>0.0</td>\n",
              "      <td>0.0</td>\n",
              "      <td>0.0</td>\n",
              "      <td>0</td>\n",
              "      <td>0.0</td>\n",
              "      <td>0</td>\n",
              "      <td>0</td>\n",
              "      <td>0</td>\n",
              "      <td>0</td>\n",
              "      <td>...</td>\n",
              "      <td>0.0</td>\n",
              "      <td>0.0</td>\n",
              "      <td>0.0</td>\n",
              "      <td>0</td>\n",
              "      <td>0.0</td>\n",
              "      <td>0.0</td>\n",
              "      <td>0.0</td>\n",
              "      <td>0</td>\n",
              "      <td>0</td>\n",
              "      <td>0</td>\n",
              "    </tr>\n",
              "    <tr>\n",
              "      <th>--2bpE5vyR-2hAP7sZZ4lA</th>\n",
              "      <td>0</td>\n",
              "      <td>0.0</td>\n",
              "      <td>0.0</td>\n",
              "      <td>0.0</td>\n",
              "      <td>0</td>\n",
              "      <td>0.0</td>\n",
              "      <td>0</td>\n",
              "      <td>0</td>\n",
              "      <td>0</td>\n",
              "      <td>0</td>\n",
              "      <td>...</td>\n",
              "      <td>0.0</td>\n",
              "      <td>0.0</td>\n",
              "      <td>0.0</td>\n",
              "      <td>0</td>\n",
              "      <td>0.0</td>\n",
              "      <td>0.0</td>\n",
              "      <td>0.0</td>\n",
              "      <td>0</td>\n",
              "      <td>0</td>\n",
              "      <td>0</td>\n",
              "    </tr>\n",
              "    <tr>\n",
              "      <th>--2tyArRmSoyKx5r-FVG0A</th>\n",
              "      <td>0</td>\n",
              "      <td>0.0</td>\n",
              "      <td>0.0</td>\n",
              "      <td>0.0</td>\n",
              "      <td>0</td>\n",
              "      <td>0.0</td>\n",
              "      <td>0</td>\n",
              "      <td>0</td>\n",
              "      <td>0</td>\n",
              "      <td>0</td>\n",
              "      <td>...</td>\n",
              "      <td>0.0</td>\n",
              "      <td>0.0</td>\n",
              "      <td>0.0</td>\n",
              "      <td>0</td>\n",
              "      <td>0.0</td>\n",
              "      <td>0.0</td>\n",
              "      <td>0.0</td>\n",
              "      <td>0</td>\n",
              "      <td>0</td>\n",
              "      <td>0</td>\n",
              "    </tr>\n",
              "  </tbody>\n",
              "</table>\n",
              "<p>5 rows × 3313 columns</p>\n",
              "</div>"
            ]
          },
          "metadata": {},
          "execution_count": 256
        }
      ]
    },
    {
      "cell_type": "code",
      "source": [
        "# shape of the Utility matrix (original matrix) \n",
        "rating_crosstab.shape\n",
        "\n",
        "# Transpose the Utility matrix\n",
        "X = rating_crosstab.values.T\n",
        "X.shape"
      ],
      "metadata": {
        "colab": {
          "base_uri": "https://localhost:8080/"
        },
        "id": "54d1wt6FaIfO",
        "outputId": "b5d338e4-a6bb-47af-b816-3358d594c9df"
      },
      "execution_count": null,
      "outputs": [
        {
          "output_type": "execute_result",
          "data": {
            "text/plain": [
              "(3313, 267776)"
            ]
          },
          "metadata": {},
          "execution_count": 257
        }
      ]
    },
    {
      "cell_type": "code",
      "source": [
        "import sklearn\n",
        "from sklearn.decomposition import TruncatedSVD\n",
        "from sklearn.metrics import accuracy_score\n",
        "\n",
        "\n",
        "SVD = TruncatedSVD(n_components=12, random_state=17)\n",
        "result_matrix = SVD.fit_transform(X)\n",
        "result_matrix.shape"
      ],
      "metadata": {
        "colab": {
          "base_uri": "https://localhost:8080/"
        },
        "id": "0NupsLdTaNGQ",
        "outputId": "15d3cf1b-54a7-4576-a771-5bc369dfe858"
      },
      "execution_count": null,
      "outputs": [
        {
          "output_type": "execute_result",
          "data": {
            "text/plain": [
              "(3313, 12)"
            ]
          },
          "metadata": {},
          "execution_count": 258
        }
      ]
    },
    {
      "cell_type": "code",
      "source": [
        "# PearsonR coef \n",
        "corr_matrix = np.corrcoef(result_matrix)\n",
        "corr_matrix.shape"
      ],
      "metadata": {
        "colab": {
          "base_uri": "https://localhost:8080/"
        },
        "id": "ElkfuPmkaPP7",
        "outputId": "7ce102cd-4e62-4cb7-85df-5f7e25dab7d1"
      },
      "execution_count": null,
      "outputs": [
        {
          "output_type": "execute_result",
          "data": {
            "text/plain": [
              "(3313, 3313)"
            ]
          },
          "metadata": {},
          "execution_count": 259
        }
      ]
    },
    {
      "cell_type": "code",
      "source": [
        "# get the index of the popular restaurant\n",
        "restaurant_names = rating_crosstab.columns\n",
        "restaurants_list = list(restaurant_names)\n",
        "\n",
        "popular_rest = restaurants_list.index(\"Zaxby's Chicken Fingers & Buffalo Wings\")\n",
        "print(\"index of the popular restaurant: \", popular_rest) "
      ],
      "metadata": {
        "colab": {
          "base_uri": "https://localhost:8080/"
        },
        "id": "kTOBFWIraRXN",
        "outputId": "09df2b76-c63c-4f4f-9b13-734b76a7c6e3"
      },
      "execution_count": null,
      "outputs": [
        {
          "output_type": "stream",
          "name": "stdout",
          "text": [
            "index of the popular restaurant:  3292\n"
          ]
        }
      ]
    },
    {
      "cell_type": "code",
      "source": [
        "# restaurant of interest \n",
        "corr_popular_rest = corr_matrix[popular_rest]\n",
        "corr_popular_rest.shape  "
      ],
      "metadata": {
        "colab": {
          "base_uri": "https://localhost:8080/"
        },
        "id": "S1O6Sv3WaSxc",
        "outputId": "f3c747ce-6763-40b6-ff4a-1e4e22e33ca5"
      },
      "execution_count": null,
      "outputs": [
        {
          "output_type": "execute_result",
          "data": {
            "text/plain": [
              "(3313,)"
            ]
          },
          "metadata": {},
          "execution_count": 262
        }
      ]
    },
    {
      "cell_type": "code",
      "source": [
        "# list of correlated restaurants to the above \n",
        "\n",
        "list(restaurant_names[(corr_popular_rest < 1.0) & (corr_popular_rest > 0.9)]) "
      ],
      "metadata": {
        "colab": {
          "base_uri": "https://localhost:8080/"
        },
        "id": "m06OsZlmaono",
        "outputId": "13a6fd38-61f8-4302-a8bb-9ef9416f95f6"
      },
      "execution_count": null,
      "outputs": [
        {
          "output_type": "execute_result",
          "data": {
            "text/plain": [
              "['ABC Pizza International',\n",
              " 'Bagels Galore',\n",
              " 'Banh Mi Saigon Baguette',\n",
              " \"Barr's Music City Soul Food\",\n",
              " \"Billy's Seafood & Gyros\",\n",
              " 'Black Coffee & Tasty Waffles',\n",
              " 'Bunga Raya Restaurant & Sushi Bar',\n",
              " 'Burger King',\n",
              " 'Canes Cafe and Corner Store',\n",
              " 'Captain Crab-Cajun Seafood',\n",
              " 'Carmel Chocolate Cafe',\n",
              " \"Casey's\",\n",
              " 'China One',\n",
              " 'Constant Smoke BBQ',\n",
              " 'Countryside Country Club',\n",
              " \"Crabby's Bar & Grill\",\n",
              " 'Crazy Burrito - Dunedin',\n",
              " 'D&E Donuts',\n",
              " 'Deep Blue Liquors',\n",
              " 'Del Valle',\n",
              " 'Dented Keg Ale Works',\n",
              " \"Domino's Pizza\",\n",
              " \"Don Julio's Authentic Mexican Cuisine\",\n",
              " 'Edge City BBQ & Tap',\n",
              " \"Eve's Family Restaurant\",\n",
              " 'Feather Sound Liquors',\n",
              " 'Flavors Indian Cuisine',\n",
              " \"Frank's Restaurant\",\n",
              " 'Hibachi Express Tarpon Springs',\n",
              " 'Hibiscus',\n",
              " 'Hip Hop Crab',\n",
              " 'Hot Dogs on Main',\n",
              " 'Hot N Crazy Crab',\n",
              " 'Hurricanes Sports Bar',\n",
              " 'IKEA Restaurant',\n",
              " 'Ice Cream Theory',\n",
              " 'Inn On The Gulf',\n",
              " \"Jersey Mike's Subs\",\n",
              " 'Juans Mexican Grill',\n",
              " 'KFC',\n",
              " \"Kazu's Sushi\",\n",
              " 'Khan Murjan',\n",
              " 'La Fiebre Del Sabor Criollo',\n",
              " 'La Pasadita',\n",
              " 'Lady and the Mug - Tampa',\n",
              " 'Latin Corner-Tu Esquina Latina',\n",
              " 'LongHorn Steakhouse',\n",
              " 'Market Salamander Grille',\n",
              " \"McDonald's\",\n",
              " \"Moe's Southwest Grill\",\n",
              " 'Moes Southwestern Grill of Wesley Chapel',\n",
              " 'Mr.Pinchos',\n",
              " 'NY Dog House',\n",
              " 'Nutrishop South Tampa',\n",
              " 'Orbit 19',\n",
              " 'Panera Bread',\n",
              " \"Pete's Diner\",\n",
              " 'Pick-A-Deli',\n",
              " 'Pix Liquors & Lounge',\n",
              " 'Quality Meat Market',\n",
              " 'Red Robin Gourmet Burgers and Brews',\n",
              " 'Renegade Burger',\n",
              " \"Salem's Fresh Eats\",\n",
              " \"Slizzy Mcgee's\",\n",
              " 'Smoothie King',\n",
              " 'Subway',\n",
              " 'Suncoast Broadway Dinner Theatre',\n",
              " 'Sunoco',\n",
              " 'Sweet Frog Premium Frozen Yogurt',\n",
              " 'Taco Bell',\n",
              " 'Take A Break Cafe',\n",
              " 'Tfk african restaurant',\n",
              " 'The American Legion Post 111',\n",
              " 'The Hungry Greek',\n",
              " 'The Wing Experience',\n",
              " 'Tonbo',\n",
              " 'Tropical Smoothie Cafe',\n",
              " \"Victor's Kitchen\",\n",
              " 'Villa Roma Italian Restaurant & Pizza',\n",
              " 'Vista At the Top',\n",
              " 'Whiskey Business Southport',\n",
              " 'Winn-Dixie Stores',\n",
              " 'Wraps and Kabobs',\n",
              " 'Yummy café',\n",
              " \"Zein's Pizza Wings and Subs\"]"
            ]
          },
          "metadata": {},
          "execution_count": 263
        }
      ]
    },
    {
      "cell_type": "markdown",
      "source": [
        "Neural Network"
      ],
      "metadata": {
        "id": "31gzl9wPgT-8"
      }
    },
    {
      "cell_type": "code",
      "source": [],
      "metadata": {
        "id": "bAtCijoDbbPV"
      },
      "execution_count": null,
      "outputs": []
    }
  ]
}