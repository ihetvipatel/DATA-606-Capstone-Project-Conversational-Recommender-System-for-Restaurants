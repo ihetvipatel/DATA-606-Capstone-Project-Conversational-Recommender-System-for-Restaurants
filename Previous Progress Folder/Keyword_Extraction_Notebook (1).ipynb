{
  "nbformat": 4,
  "nbformat_minor": 0,
  "metadata": {
    "colab": {
      "provenance": [],
      "collapsed_sections": [
        "guv7ah9atAfy",
        "KqPwy6TNtIOw",
        "bH94o_a6tTKi"
      ]
    },
    "kernelspec": {
      "name": "python3",
      "display_name": "Python 3"
    },
    "language_info": {
      "name": "python"
    }
  },
  "cells": [
    {
      "cell_type": "markdown",
      "source": [
        "### **Connecting to Google Drive and Importing Libraries**"
      ],
      "metadata": {
        "id": "guv7ah9atAfy"
      }
    },
    {
      "cell_type": "code",
      "execution_count": null,
      "metadata": {
        "colab": {
          "base_uri": "https://localhost:8080/"
        },
        "id": "77O80xsq4k5i",
        "outputId": "9fc2430f-8e89-4b24-adfa-ed424d261171"
      },
      "outputs": [
        {
          "output_type": "stream",
          "name": "stdout",
          "text": [
            "Mounted at /content/drive\n",
            "/content\n"
          ]
        }
      ],
      "source": [
        "# Mounting drive to our 'Data_606_Capstone' folder \n",
        "\n",
        "from google.colab import drive\n",
        "drive.mount(\"/content/drive\", force_remount=True)\n",
        "!pwd"
      ]
    },
    {
      "cell_type": "code",
      "source": [
        "#Importing Libraries\n",
        "\n",
        "import pandas as pd\n",
        "import numpy as np\n",
        "import matplotlib.pyplot as plt\n",
        "import seaborn as sns\n",
        "import json\n"
      ],
      "metadata": {
        "id": "n7W2ej__4qIG"
      },
      "execution_count": null,
      "outputs": []
    },
    {
      "cell_type": "markdown",
      "source": [
        "### **Reading and Previewing Dataframe**"
      ],
      "metadata": {
        "id": "KqPwy6TNtIOw"
      }
    },
    {
      "cell_type": "markdown",
      "source": [
        "This CSV file contains merged datapoints from 'Business' and 'Review' datasets. We merged and converted file from JSON to CSV so we can modify easily using Pandas. "
      ],
      "metadata": {
        "id": "_mw2XF1j2MR9"
      }
    },
    {
      "cell_type": "code",
      "source": [
        "# Reading 'Review' dataset in CSV Format \n",
        "\n",
        "yelp_biz_review = pd.read_csv(\"drive/My Drive/Datasets/yelp_reviews_food_categories.csv\")"
      ],
      "metadata": {
        "id": "uJWxp6WN4y6z"
      },
      "execution_count": null,
      "outputs": []
    },
    {
      "cell_type": "markdown",
      "source": [
        "### **Dataframe Specs**"
      ],
      "metadata": {
        "id": "bH94o_a6tTKi"
      }
    },
    {
      "cell_type": "code",
      "source": [
        "yelp_biz_review = yelp_biz_review.drop(['user_id'], axis=1)\n",
        "yelp_biz_review = yelp_biz_review.drop(['stars_y'], axis=1)"
      ],
      "metadata": {
        "id": "-En3Zamo2yBx"
      },
      "execution_count": null,
      "outputs": []
    },
    {
      "cell_type": "code",
      "source": [
        "# Dropping null values\n",
        "\n",
        "yelp_biz_review = yelp_biz_review.dropna()\n",
        "yelp_biz_review.isna().sum()"
      ],
      "metadata": {
        "colab": {
          "base_uri": "https://localhost:8080/"
        },
        "id": "mzOlGUHfxlIc",
        "outputId": "a3dd33d3-653a-4e66-9655-548fc0cd821e"
      },
      "execution_count": null,
      "outputs": [
        {
          "output_type": "execute_result",
          "data": {
            "text/plain": [
              "business_id     0\n",
              "name            0\n",
              "address         0\n",
              "city            0\n",
              "state           0\n",
              "postal_code     0\n",
              "latitude        0\n",
              "longitude       0\n",
              "stars_x         0\n",
              "review_count    0\n",
              "is_open         0\n",
              "attributes      0\n",
              "categories      0\n",
              "review_id       0\n",
              "useful          0\n",
              "funny           0\n",
              "cool            0\n",
              "text            0\n",
              "date            0\n",
              "dtype: int64"
            ]
          },
          "metadata": {},
          "execution_count": 8
        }
      ]
    },
    {
      "cell_type": "code",
      "source": [
        "# Changing datatype for 'review_count' column to int64 from float64\n",
        "\n",
        "yelp_biz_review[\"review_count\"] = yelp_biz_review['review_count'].astype('int64')"
      ],
      "metadata": {
        "id": "T50IXX6yiiDk"
      },
      "execution_count": null,
      "outputs": []
    },
    {
      "cell_type": "markdown",
      "source": [
        "# Keywords"
      ],
      "metadata": {
        "id": "8ACoaIoOqt3r"
      }
    },
    {
      "cell_type": "markdown",
      "source": [
        "**Gensim Keyword Extraction**"
      ],
      "metadata": {
        "id": "MVRackVz1trS"
      }
    },
    {
      "cell_type": "code",
      "source": [
        "pip install gensim"
      ],
      "metadata": {
        "colab": {
          "base_uri": "https://localhost:8080/"
        },
        "id": "jeeqglDD9umu",
        "outputId": "1bba895a-fe77-4741-dc58-a9b9ffe9d294"
      },
      "execution_count": null,
      "outputs": [
        {
          "output_type": "stream",
          "name": "stdout",
          "text": [
            "Looking in indexes: https://pypi.org/simple, https://us-python.pkg.dev/colab-wheels/public/simple/\n",
            "Requirement already satisfied: gensim in /usr/local/lib/python3.9/dist-packages (3.6.0)\n",
            "Requirement already satisfied: numpy>=1.11.3 in /usr/local/lib/python3.9/dist-packages (from gensim) (1.22.4)\n",
            "Requirement already satisfied: smart-open>=1.2.1 in /usr/local/lib/python3.9/dist-packages (from gensim) (6.3.0)\n",
            "Requirement already satisfied: scipy>=0.18.1 in /usr/local/lib/python3.9/dist-packages (from gensim) (1.10.1)\n",
            "Requirement already satisfied: six>=1.5.0 in /usr/local/lib/python3.9/dist-packages (from gensim) (1.15.0)\n"
          ]
        }
      ]
    },
    {
      "cell_type": "code",
      "source": [
        "from gensim.summarization import keywords"
      ],
      "metadata": {
        "id": "HhN7DeIw9zU0"
      },
      "execution_count": null,
      "outputs": []
    },
    {
      "cell_type": "code",
      "source": [
        "j=1\n",
        "for i in yelp_biz_review.head(15)['text']:\n",
        "  print(j)\n",
        "  print(keywords(i))\n",
        "  j+=1"
      ],
      "metadata": {
        "colab": {
          "base_uri": "https://localhost:8080/"
        },
        "id": "FaJt-VeF9_wx",
        "outputId": "473404a4-f47b-494c-d30c-6cb18d8c815c"
      },
      "execution_count": null,
      "outputs": [
        {
          "output_type": "stream",
          "name": "stdout",
          "text": [
            "1\n",
            "yelp\n",
            "star\n",
            "stars\n",
            "dandy\n",
            "2\n",
            "ordered\n",
            "order\n",
            "orders\n",
            "water\n",
            "food\n",
            "waitress\n",
            "waitresses\n",
            "honey\n",
            "flavor\n",
            "flavors\n",
            "fresh\n",
            "service\n",
            "nice\n",
            "issue\n",
            "plate\n",
            "plates\n",
            "tasted\n",
            "taste\n",
            "huge\n",
            "relleno\n",
            "mushroom\n",
            "mushrooms\n",
            "experience\n",
            "bad\n",
            "table\n",
            "tables\n",
            "minutes\n",
            "minute\n",
            "like\n",
            "sub\n",
            "summary\n",
            "3\n",
            "nice\n",
            "clean\n",
            "minutes\n",
            "sauce\n",
            "del\n",
            "enchiladas\n",
            "4\n",
            "asada\n",
            "good hubby\n",
            "5\n",
            "food\n",
            "customer\n",
            "6\n",
            "craving\n",
            "fajitas\n",
            "7\n",
            "nice\n",
            "usually\n",
            "food\n",
            "8\n",
            "\n",
            "9\n",
            "place\n",
            "10\n",
            "authentic\n",
            "stomach\n",
            "anymore\n",
            "11\n",
            "mexican\n",
            "waiting\n",
            "dessert\n",
            "pretty\n",
            "food\n",
            "12\n",
            "drink\n",
            "13\n",
            "\n",
            "14\n",
            "larger\n",
            "15\n",
            "excellent\n",
            "restaurant\n"
          ]
        }
      ]
    },
    {
      "cell_type": "markdown",
      "source": [
        "**Spacy Keyword Extraction**"
      ],
      "metadata": {
        "id": "ZPU0W4dH2d3l"
      }
    },
    {
      "cell_type": "code",
      "source": [
        "import spacy\n",
        "proc=spacy.load('en_core_web_sm')\n"
      ],
      "metadata": {
        "id": "MjgQRpmfzWUw"
      },
      "execution_count": null,
      "outputs": []
    },
    {
      "cell_type": "code",
      "source": [
        "j=1\n",
        "for i in yelp_biz_review.head(15)['text']:\n",
        "  print(j)\n",
        "  review=proc(i)\n",
        "  print(review.ents)\n",
        "  j+=1"
      ],
      "metadata": {
        "colab": {
          "base_uri": "https://localhost:8080/"
        },
        "id": "HDOjhZsXzeLu",
        "outputId": "d7a770f6-f0a2-43dc-b7ec-08889d5542e6"
      },
      "execution_count": null,
      "outputs": [
        {
          "output_type": "stream",
          "name": "stdout",
          "text": [
            "1\n",
            "(Western Indiana, 5, Mexican, Mexican, 5, 3)\n",
            "2\n",
            "(Tuesday, July 3rd, 2018, close to 6pm, 10 minutes, 3, 10 minute, another 15 minutes, another 15 minutes, 3, 5 minutes, 35-40 minutes, one, Fresh, one, close to 2 hours, 1, half, 3, 2)\n",
            "3\n",
            "(today, 50 minutes, Del Mar, Friday, Mexican, 5)\n",
            "4\n",
            "(Carne Asada, Brownsburg)\n",
            "5\n",
            "(Great Mexican,)\n",
            "6\n",
            "(half,)\n",
            "7\n",
            "(Mexican, Mexican)\n",
            "8\n",
            "(mexican,)\n",
            "9\n",
            "(1,)\n",
            "10\n",
            "(a few months, Mexican, American)\n",
            "11\n",
            "(Mexican, Avon, Brownsburg, monthly, the last Sunday of each month, Mexican, Mexican, Mexican)\n",
            "12\n",
            "(MX, daily)\n",
            "13\n",
            "(3,)\n",
            "14\n",
            "(an hour, 30-40 minutes)\n",
            "15\n",
            "(Mexican, first)\n"
          ]
        }
      ]
    },
    {
      "cell_type": "markdown",
      "source": [
        "**YAKE Keyword Extraction**"
      ],
      "metadata": {
        "id": "sPCevTc22ifU"
      }
    },
    {
      "cell_type": "code",
      "source": [
        "pip install yake"
      ],
      "metadata": {
        "colab": {
          "base_uri": "https://localhost:8080/"
        },
        "id": "zqnxw7hL0FmJ",
        "outputId": "ffdfca39-baba-47dc-c223-1d600034e593"
      },
      "execution_count": null,
      "outputs": [
        {
          "output_type": "stream",
          "name": "stdout",
          "text": [
            "Looking in indexes: https://pypi.org/simple, https://us-python.pkg.dev/colab-wheels/public/simple/\n",
            "Collecting yake\n",
            "  Downloading yake-0.4.8-py2.py3-none-any.whl (60 kB)\n",
            "\u001b[?25l     \u001b[90m━━━━━━━━━━━━━━━━━━━━━━━━━━━━━━━━━━━━━━━━\u001b[0m \u001b[32m0.0/60.2 KB\u001b[0m \u001b[31m?\u001b[0m eta \u001b[36m-:--:--\u001b[0m\r\u001b[2K     \u001b[90m━━━━━━━━━━━━━━━━━━━━━━━━━━━━━━━━━━━━━━━━\u001b[0m \u001b[32m60.2/60.2 KB\u001b[0m \u001b[31m6.2 MB/s\u001b[0m eta \u001b[36m0:00:00\u001b[0m\n",
            "\u001b[?25hRequirement already satisfied: click>=6.0 in /usr/local/lib/python3.9/dist-packages (from yake) (8.1.3)\n",
            "Requirement already satisfied: tabulate in /usr/local/lib/python3.9/dist-packages (from yake) (0.8.10)\n",
            "Collecting segtok\n",
            "  Downloading segtok-1.5.11-py3-none-any.whl (24 kB)\n",
            "Collecting jellyfish\n",
            "  Downloading jellyfish-0.9.0.tar.gz (132 kB)\n",
            "\u001b[2K     \u001b[90m━━━━━━━━━━━━━━━━━━━━━━━━━━━━━━━━━━━━━━\u001b[0m \u001b[32m132.6/132.6 KB\u001b[0m \u001b[31m17.5 MB/s\u001b[0m eta \u001b[36m0:00:00\u001b[0m\n",
            "\u001b[?25h  Preparing metadata (setup.py) ... \u001b[?25l\u001b[?25hdone\n",
            "Requirement already satisfied: numpy in /usr/local/lib/python3.9/dist-packages (from yake) (1.22.4)\n",
            "Requirement already satisfied: networkx in /usr/local/lib/python3.9/dist-packages (from yake) (3.0)\n",
            "Requirement already satisfied: regex in /usr/local/lib/python3.9/dist-packages (from segtok->yake) (2022.6.2)\n",
            "Building wheels for collected packages: jellyfish\n",
            "  Building wheel for jellyfish (setup.py) ... \u001b[?25l\u001b[?25hdone\n",
            "  Created wheel for jellyfish: filename=jellyfish-0.9.0-cp39-cp39-linux_x86_64.whl size=81473 sha256=93f7db85f0a762c2cd8122d01530935b4eccb71dbe26817d40264d95e6043161\n",
            "  Stored in directory: /root/.cache/pip/wheels/a6/28/ba/284e37010e5d3aeed5e45345b58ab8683f97bdce46c9e147f9\n",
            "Successfully built jellyfish\n",
            "Installing collected packages: segtok, jellyfish, yake\n",
            "Successfully installed jellyfish-0.9.0 segtok-1.5.11 yake-0.4.8\n"
          ]
        }
      ]
    },
    {
      "cell_type": "code",
      "source": [
        "import yake\n",
        "keywd_extractor=yake.KeywordExtractor(lan='en', dedupLim=0.1, top=10)"
      ],
      "metadata": {
        "id": "0hg2vdmsz9bV"
      },
      "execution_count": null,
      "outputs": []
    },
    {
      "cell_type": "code",
      "source": [
        "keywords=keywd_extractor.extract_keywords(yelp_biz_review['text'][0])\n",
        "for kw in keywords:\n",
        " print(kw)"
      ],
      "metadata": {
        "colab": {
          "base_uri": "https://localhost:8080/"
        },
        "id": "jxxbobxN0gkI",
        "outputId": "354983bd-4002-43ab-f3e7-2e8ef4a3251b"
      },
      "execution_count": null,
      "outputs": [
        {
          "output_type": "stream",
          "name": "stdout",
          "text": [
            "('Western Indiana', 0.00441587780089389)\n",
            "('festival in Western', 0.012829574325714889)\n",
            "('playing a festival', 0.03296919743954652)\n",
            "('stop for supper', 0.03296919743954652)\n",
            "('Indiana', 0.06200662685046662)\n",
            "('Western', 0.07090312404319239)\n",
            "('hand dandy yelp', 0.11182409164858814)\n",
            "('place to stop', 0.1406834334819147)\n",
            "('home', 0.14979359948190865)\n",
            "('Mexican', 0.17053197146429622)\n"
          ]
        }
      ]
    },
    {
      "cell_type": "code",
      "source": [
        "j=1\n",
        "for i in yelp_biz_review.head(15)['text']:\n",
        "  print(j)\n",
        "  keywords=keywd_extractor.extract_keywords(i)\n",
        "  for k in keywords:\n",
        "    print(k[0])\n",
        "  j+=1"
      ],
      "metadata": {
        "colab": {
          "base_uri": "https://localhost:8080/"
        },
        "id": "hi92KYRa0-8B",
        "outputId": "b3e6a597-beb6-4f24-8213-7bff2940aec2"
      },
      "execution_count": null,
      "outputs": [
        {
          "output_type": "stream",
          "name": "stdout",
          "text": [
            "1\n",
            "Western Indiana\n",
            "festival in Western\n",
            "playing a festival\n",
            "stop for supper\n",
            "Indiana\n",
            "Western\n",
            "hand dandy yelp\n",
            "place to stop\n",
            "home\n",
            "Mexican\n",
            "2\n",
            "happened on Tuesday\n",
            "food\n",
            "tacos\n",
            "chile relleno\n",
            "July\n",
            "Tuesday\n",
            "water\n",
            "waitress\n",
            "minutes\n",
            "honey\n",
            "3\n",
            "enchiladas Del Mar\n",
            "Del Mar\n",
            "wife here today\n",
            "Nice\n",
            "clean\n",
            "good\n",
            "Del\n",
            "Mar\n",
            "appointment\n",
            "Friday for lunch\n",
            "4\n",
            "Carne Asada tacos\n",
            "tacos were good\n",
            "hubby had chicken\n",
            "spinach enchiladas\n",
            "chicken and spinach\n",
            "Asada\n",
            "Carne\n",
            "good\n",
            "hubby\n",
            "wonderfully friendly\n",
            "5\n",
            "Delicious food\n",
            "generous portions\n",
            "food\n",
            "Great Mexican\n",
            "portions\n",
            "service\n",
            "customer service\n",
            "Mexican food restaurant\n",
            "generous\n",
            "Lots\n",
            "6\n",
            "craving fajitas\n",
            "lunch\n",
            "craving\n",
            "food\n",
            "fajitas\n",
            "service\n",
            "back\n",
            "half-eaten food\n",
            "meal\n",
            "check\n",
            "7\n",
            "Mexican food\n",
            "priced for Mexican\n",
            "Food\n",
            "decent\n",
            "priced\n",
            "Nice\n",
            "Menu\n",
            "increased\n",
            "gourmet touch\n",
            "higher prices\n",
            "8\n",
            "Good mexican food\n",
            "food and prices\n",
            "Good\n",
            "mexican\n",
            "prices\n",
            "bad\n",
            "authentic\n",
            "9\n",
            "Worst place\n",
            "Worst\n",
            "place\n",
            "alcohol\n",
            "ma'am\n",
            "rate this place\n",
            "star\n",
            "margarita\n",
            "lady told\n",
            "rate\n",
            "10\n",
            "disappointed\n",
            "food\n",
            "Mexican restaurants-they\n",
            "lot has changed\n",
            "anymore\n",
            "American\n",
            "time\n",
            "changed\n",
            "authentic anymore\n",
            "food properly\n",
            "11\n",
            "Avon and Brownsburg\n",
            "favorite Mexican chains\n",
            "chains between Avon\n",
            "Avon\n",
            "Mexican\n",
            "Mexican restaurants\n",
            "favorite\n",
            "chains\n",
            "chunky style\n",
            "love\n",
            "12\n",
            "daily drink specials\n",
            "good MX restaurant\n",
            "great prices\n",
            "prices and daily\n",
            "great\n",
            "good\n",
            "prices\n",
            "daily\n",
            "drink\n",
            "specials\n",
            "13\n",
            "food was great\n",
            "time the food\n",
            "great\n",
            "pretty good\n",
            "eaten\n",
            "food\n",
            "times\n",
            "carnitas are fantastic\n",
            "chips and salsa\n",
            "salsa are pretty\n",
            "14\n",
            "Extremely poor service\n",
            "service\n",
            "Extremely\n",
            "poor\n",
            "food\n",
            "Extremely disappointed\n",
            "Larger\n",
            "hour\n",
            "seated\n",
            "Larger parties\n",
            "15\n",
            "wall restaurant\n",
            "Excellent hole\n",
            "hole\n",
            "wall\n",
            "Great wait staff\n",
            "food\n",
            "Mexican food\n",
            "suggests Mexican\n",
            "Great\n",
            "variety\n"
          ]
        }
      ]
    },
    {
      "cell_type": "markdown",
      "source": [
        "**Textrank Keyword Extraction**"
      ],
      "metadata": {
        "id": "UdVvq3Ek7EjY"
      }
    },
    {
      "cell_type": "code",
      "source": [
        "pip install pytextrank"
      ],
      "metadata": {
        "id": "SVXxb6Ze56sA"
      },
      "execution_count": null,
      "outputs": []
    },
    {
      "cell_type": "code",
      "source": [
        "import spacy\n",
        "import pytextrank"
      ],
      "metadata": {
        "id": "nwryJscW5kAe"
      },
      "execution_count": null,
      "outputs": []
    },
    {
      "cell_type": "code",
      "source": [
        "nlp=spacy.load(\"en_core_web_sm\")"
      ],
      "metadata": {
        "id": "Rkl-lX106MBq"
      },
      "execution_count": null,
      "outputs": []
    },
    {
      "cell_type": "code",
      "source": [
        "nlp.add_pipe(\"textrank\")\n",
        "doc=nlp(yelp_biz_review['text'][0])\n",
        "for phrase in doc._.phrases[:10]:\n",
        "    print(phrase.text)"
      ],
      "metadata": {
        "colab": {
          "base_uri": "https://localhost:8080/"
        },
        "id": "qw83uExA6kvj",
        "outputId": "55135c9e-e583-45d0-d0c6-368cc13cf424"
      },
      "execution_count": null,
      "outputs": [
        {
          "output_type": "stream",
          "name": "stdout",
          "text": [
            "3 stars\n",
            "Mexican\n",
            "supper\n",
            "Western Indiana\n",
            "a Mexican fusion restaurant\n",
            "certainly 5 star\n",
            "a Mexican restaurant\n",
            "drinks\n",
            "salsa\n",
            "the hand dandy yelp\n"
          ]
        }
      ]
    },
    {
      "cell_type": "code",
      "source": [
        "doc._.phrases[0].text"
      ],
      "metadata": {
        "colab": {
          "base_uri": "https://localhost:8080/",
          "height": 36
        },
        "id": "oPoXWRr_8TUI",
        "outputId": "da1bded9-ad28-4b42-f1d6-90454ca03798"
      },
      "execution_count": null,
      "outputs": [
        {
          "output_type": "execute_result",
          "data": {
            "text/plain": [
              "'excellent food'"
            ],
            "application/vnd.google.colaboratory.intrinsic+json": {
              "type": "string"
            }
          },
          "metadata": {},
          "execution_count": 110
        }
      ]
    },
    {
      "cell_type": "code",
      "source": [
        "j=1\n",
        "for i in yelp_biz_review.head(15)['text']:\n",
        "  print(j)\n",
        "  doc=nlp(i)\n",
        "  for phrase in doc._.phrases[:10]:\n",
        "    print(phrase.text)\n",
        "  j+=1"
      ],
      "metadata": {
        "colab": {
          "base_uri": "https://localhost:8080/"
        },
        "id": "kuTBlhbU7Sdy",
        "outputId": "9fbb4f21-168a-4c70-e85b-ef7adaee0ac2"
      },
      "execution_count": null,
      "outputs": [
        {
          "output_type": "stream",
          "name": "stdout",
          "text": [
            "1\n",
            "3 stars\n",
            "Mexican\n",
            "supper\n",
            "Western Indiana\n",
            "a Mexican fusion restaurant\n",
            "certainly 5 star\n",
            "a Mexican restaurant\n",
            "drinks\n",
            "salsa\n",
            "the hand dandy yelp\n",
            "2\n",
            "tap water\n",
            "water\n",
            "empty tables\n",
            "orders\n",
            "steak tacos\n",
            "mushroom tacos\n",
            "more time\n",
            "July 3rd\n",
            "Mushroom tacos\n",
            "freezer burn\n",
            "3\n",
            "green sauce\n",
            "different parts\n",
            "lunch\n",
            "Nice patio area\n",
            "Mexican food\n",
            "Del Mar\n",
            "Good margarita\n",
            "Friday\n",
            "today\n",
            "a strip mall\n",
            "4\n",
            "spinach enchiladas\n",
            "chicken\n",
            "Carne Asada tacos\n",
            "hubby\n",
            "Brownsburg\n",
            "Carne Asada\n",
            "the Brownsburg residents\n",
            "a large party\n",
            "the server\n",
            "The restaurant\n",
            "5\n",
            "Great Mexican food restaurant\n",
            "Delicious food\n",
            "Great Mexican\n",
            "choices\n",
            "Very attentive customer service\n",
            "Lots\n",
            "Very generous portions\n",
            "the menu\n",
            "6\n",
            "fajitas\n",
            "Convenient location\n",
            "lunch\n",
            "plates\n",
            "the fajitas\n",
            "a much better meal and service experience\n",
            "Queso\n",
            "the vegetables\n",
            "half-eaten food\n",
            "our check\n",
            "7\n",
            "higher prices\n",
            "Mexican food\n",
            "nice decor\n",
            "Nice clean restaurant\n",
            "prices\n",
            "Food\n",
            "dishes\n",
            "Mexican\n",
            "a gourmet touch\n",
            "Menu\n",
            "8\n",
            "Good mexican food\n",
            "prices\n",
            "mexican\n",
            "9\n",
            "alcohol\n",
            "lots\n",
            "my margarita\n",
            "no alcohol\n",
            "another one\n",
            "this place\n",
            "The lady\n",
            "1\n",
            "I\n",
            "it\n",
            "10\n",
            "American\n",
            "time\n",
            "Mexican\n",
            "The food\n",
            "our food\n",
            "stomach\n",
            "all the other Mexican restaurants\n",
            "the last time\n",
            "the chicken fajitas\n",
            "a few months\n",
            "11\n",
            "local Mexican restaurants\n",
            "Brownsburg\n",
            "Mexican\n",
            "chips\n",
            "a small waiting section\n",
            "Avon\n",
            "a Mexican food craving\n",
            "enchiladas\n",
            "my favorite Mexican chains\n",
            "wraps\n",
            "12\n",
            "daily drink specials\n",
            "great prices\n",
            "daily\n",
            "MX\n",
            "Very good MX restaurant\n",
            "13\n",
            "salsa\n",
            "the food\n",
            "the chips\n",
            "The carnitas\n",
            "3\n",
            "I\n",
            "14\n",
            "Larger parties\n",
            "the same time\n",
            "our food\n",
            "their food\n",
            "Extremely poor service\n",
            "30-40 minutes\n",
            "an hour\n",
            "I\n",
            "us\n",
            "we\n",
            "15\n",
            "excellent food\n",
            "Mexican food\n",
            "Excellent hole\n",
            "Great wait staff\n",
            "variety\n",
            "first\n",
            "the wall restaurant\n",
            "Mexican\n",
            "the first place\n",
            "anyone\n"
          ]
        }
      ]
    },
    {
      "cell_type": "code",
      "source": [
        "tr_keyword_s=[]\n",
        "for i in yelp_biz_review['text']:\n",
        "  l=[]\n",
        "  doc=nlp(i)\n",
        "  for phrase in doc._.phrases[:10]:\n",
        "    l.append(phrase.text)\n",
        "  tr_keyword_s.append(l)"
      ],
      "metadata": {
        "id": "wF7AcKRR8Gvv"
      },
      "execution_count": null,
      "outputs": []
    },
    {
      "cell_type": "code",
      "source": [
        "len(tr_keyword_s)"
      ],
      "metadata": {
        "colab": {
          "base_uri": "https://localhost:8080/"
        },
        "id": "Xmmww-6OUXx2",
        "outputId": "e023a764-78ca-45d1-dda7-3abacf181e4d"
      },
      "execution_count": null,
      "outputs": [
        {
          "output_type": "execute_result",
          "data": {
            "text/plain": [
              "163270"
            ]
          },
          "metadata": {},
          "execution_count": 114
        }
      ]
    },
    {
      "cell_type": "code",
      "source": [
        "tr_keyword_s[0:20]"
      ],
      "metadata": {
        "colab": {
          "base_uri": "https://localhost:8080/"
        },
        "id": "SgnmyYyIUhgs",
        "outputId": "ee0f5a7f-72b2-4e79-ecee-5735e8b15307"
      },
      "execution_count": null,
      "outputs": [
        {
          "output_type": "execute_result",
          "data": {
            "text/plain": [
              "[['3 stars',\n",
              "  'Mexican',\n",
              "  'supper',\n",
              "  'Western Indiana',\n",
              "  'a Mexican fusion restaurant',\n",
              "  'certainly 5 star',\n",
              "  'a Mexican restaurant',\n",
              "  'drinks',\n",
              "  'salsa',\n",
              "  'the hand dandy yelp'],\n",
              " ['tap water',\n",
              "  'water',\n",
              "  'empty tables',\n",
              "  'orders',\n",
              "  'steak tacos',\n",
              "  'mushroom tacos',\n",
              "  'more time',\n",
              "  'July 3rd',\n",
              "  'Mushroom tacos',\n",
              "  'freezer burn'],\n",
              " ['green sauce',\n",
              "  'different parts',\n",
              "  'lunch',\n",
              "  'Nice patio area',\n",
              "  'Mexican food',\n",
              "  'Del Mar',\n",
              "  'Good margarita',\n",
              "  'Friday',\n",
              "  'today',\n",
              "  'a strip mall'],\n",
              " ['spinach enchiladas',\n",
              "  'chicken',\n",
              "  'Carne Asada tacos',\n",
              "  'hubby',\n",
              "  'Brownsburg',\n",
              "  'Carne Asada',\n",
              "  'the Brownsburg residents',\n",
              "  'a large party',\n",
              "  'the server',\n",
              "  'The restaurant'],\n",
              " ['Great Mexican food restaurant',\n",
              "  'Delicious food',\n",
              "  'Great Mexican',\n",
              "  'choices',\n",
              "  'Very attentive customer service',\n",
              "  'Lots',\n",
              "  'Very generous portions',\n",
              "  'the menu'],\n",
              " ['fajitas',\n",
              "  'Convenient location',\n",
              "  'lunch',\n",
              "  'plates',\n",
              "  'the fajitas',\n",
              "  'a much better meal and service experience',\n",
              "  'Queso',\n",
              "  'the vegetables',\n",
              "  'half-eaten food',\n",
              "  'our check'],\n",
              " ['higher prices',\n",
              "  'Mexican food',\n",
              "  'nice decor',\n",
              "  'Nice clean restaurant',\n",
              "  'prices',\n",
              "  'Food',\n",
              "  'dishes',\n",
              "  'Mexican',\n",
              "  'a gourmet touch',\n",
              "  'Menu'],\n",
              " ['Good mexican food', 'prices', 'mexican'],\n",
              " ['alcohol',\n",
              "  'lots',\n",
              "  'my margarita',\n",
              "  'no alcohol',\n",
              "  'another one',\n",
              "  'this place',\n",
              "  'The lady',\n",
              "  '1',\n",
              "  'I',\n",
              "  'it'],\n",
              " ['American',\n",
              "  'time',\n",
              "  'Mexican',\n",
              "  'The food',\n",
              "  'our food',\n",
              "  'stomach',\n",
              "  'all the other Mexican restaurants',\n",
              "  'the last time',\n",
              "  'the chicken fajitas',\n",
              "  'a few months'],\n",
              " ['local Mexican restaurants',\n",
              "  'Brownsburg',\n",
              "  'Mexican',\n",
              "  'chips',\n",
              "  'a small waiting section',\n",
              "  'Avon',\n",
              "  'a Mexican food craving',\n",
              "  'enchiladas',\n",
              "  'my favorite Mexican chains',\n",
              "  'wraps'],\n",
              " ['daily drink specials',\n",
              "  'great prices',\n",
              "  'daily',\n",
              "  'MX',\n",
              "  'Very good MX restaurant'],\n",
              " ['salsa', 'the food', 'the chips', 'The carnitas', '3', 'I'],\n",
              " ['Larger parties',\n",
              "  'the same time',\n",
              "  'our food',\n",
              "  'their food',\n",
              "  'Extremely poor service',\n",
              "  '30-40 minutes',\n",
              "  'an hour',\n",
              "  'I',\n",
              "  'us',\n",
              "  'we'],\n",
              " ['excellent food',\n",
              "  'Mexican food',\n",
              "  'Excellent hole',\n",
              "  'Great wait staff',\n",
              "  'variety',\n",
              "  'first',\n",
              "  'the wall restaurant',\n",
              "  'Mexican',\n",
              "  'the first place',\n",
              "  'anyone'],\n",
              " ['good service',\n",
              "  'rice',\n",
              "  'Brownsburg',\n",
              "  'service',\n",
              "  'chips',\n",
              "  'Tequila Sunrise',\n",
              "  'dinner',\n",
              "  'the food',\n",
              "  'our table',\n",
              "  'the table'],\n",
              " ['food services',\n",
              "  'Food',\n",
              "  'employee training',\n",
              "  'poor management skills',\n",
              "  'comprehension',\n",
              "  'gnats',\n",
              "  'lack',\n",
              "  'promises',\n",
              "  'any time',\n",
              "  'a huge beer stein'],\n",
              " ['Sunday night',\n",
              "  'night',\n",
              "  'Sunday',\n",
              "  'Tequila Sunrise',\n",
              "  'salsa',\n",
              "  'free sundaes',\n",
              "  'individual bowls',\n",
              "  'first',\n",
              "  'their own salsa',\n",
              "  'my first visit'],\n",
              " ['food',\n",
              "  'Bad service',\n",
              "  'adequate staffing\\nBad experience-',\n",
              "  'people',\n",
              "  'COVID world',\n",
              "  'delivery',\n",
              "  'their small lobby area',\n",
              "  'advance',\n",
              "  'my 18 percent tip',\n",
              "  '2 stars'],\n",
              " ['wait staff',\n",
              "  'customer service',\n",
              "  'more salsa',\n",
              "  'tonight',\n",
              "  'expensive mills',\n",
              "  'the past several times',\n",
              "  'Mexican Food',\n",
              "  'three times',\n",
              "  'our cheese dip',\n",
              "  'my food']]"
            ]
          },
          "metadata": {},
          "execution_count": 115
        }
      ]
    },
    {
      "cell_type": "markdown",
      "source": [
        "**RAKE Keyword Extraction**"
      ],
      "metadata": {
        "id": "plPxO3iG3oOn"
      }
    },
    {
      "cell_type": "code",
      "source": [
        "import nltk"
      ],
      "metadata": {
        "id": "L56fuySnCrfg"
      },
      "execution_count": null,
      "outputs": []
    },
    {
      "cell_type": "code",
      "source": [
        "nltk.download(\"stopwords\")"
      ],
      "metadata": {
        "colab": {
          "base_uri": "https://localhost:8080/"
        },
        "id": "I5xs8XFeDBLv",
        "outputId": "b97f3a84-610e-4d7a-a3ec-a4e3ba240911"
      },
      "execution_count": null,
      "outputs": [
        {
          "output_type": "stream",
          "name": "stderr",
          "text": [
            "[nltk_data] Downloading package stopwords to /root/nltk_data...\n",
            "[nltk_data]   Unzipping corpora/stopwords.zip.\n"
          ]
        },
        {
          "output_type": "execute_result",
          "data": {
            "text/plain": [
              "True"
            ]
          },
          "metadata": {},
          "execution_count": 17
        }
      ]
    },
    {
      "cell_type": "code",
      "source": [
        "pip install rake-nltk"
      ],
      "metadata": {
        "colab": {
          "base_uri": "https://localhost:8080/"
        },
        "id": "cE_JFleXAb3X",
        "outputId": "f6aa5166-4a84-43f4-b411-ed572d778861"
      },
      "execution_count": null,
      "outputs": [
        {
          "output_type": "stream",
          "name": "stdout",
          "text": [
            "Looking in indexes: https://pypi.org/simple, https://us-python.pkg.dev/colab-wheels/public/simple/\n",
            "Collecting rake-nltk\n",
            "  Downloading rake_nltk-1.0.6-py3-none-any.whl (9.1 kB)\n",
            "Requirement already satisfied: nltk<4.0.0,>=3.6.2 in /usr/local/lib/python3.9/dist-packages (from rake-nltk) (3.7)\n",
            "Requirement already satisfied: tqdm in /usr/local/lib/python3.9/dist-packages (from nltk<4.0.0,>=3.6.2->rake-nltk) (4.65.0)\n",
            "Requirement already satisfied: click in /usr/local/lib/python3.9/dist-packages (from nltk<4.0.0,>=3.6.2->rake-nltk) (8.1.3)\n",
            "Requirement already satisfied: regex>=2021.8.3 in /usr/local/lib/python3.9/dist-packages (from nltk<4.0.0,>=3.6.2->rake-nltk) (2022.6.2)\n",
            "Requirement already satisfied: joblib in /usr/local/lib/python3.9/dist-packages (from nltk<4.0.0,>=3.6.2->rake-nltk) (1.1.1)\n",
            "Installing collected packages: rake-nltk\n",
            "Successfully installed rake-nltk-1.0.6\n"
          ]
        }
      ]
    },
    {
      "cell_type": "code",
      "source": [
        "nltk.download('punkt')"
      ],
      "metadata": {
        "colab": {
          "base_uri": "https://localhost:8080/"
        },
        "id": "oMs3JJV7gikn",
        "outputId": "a1bae0ae-773f-4098-dede-7384393328f5"
      },
      "execution_count": null,
      "outputs": [
        {
          "output_type": "stream",
          "name": "stderr",
          "text": [
            "[nltk_data] Downloading package punkt to /root/nltk_data...\n",
            "[nltk_data]   Unzipping tokenizers/punkt.zip.\n"
          ]
        },
        {
          "output_type": "execute_result",
          "data": {
            "text/plain": [
              "True"
            ]
          },
          "metadata": {},
          "execution_count": 19
        }
      ]
    },
    {
      "cell_type": "code",
      "source": [
        "from rake_nltk import Rake"
      ],
      "metadata": {
        "id": "gfSj0od0CF56"
      },
      "execution_count": null,
      "outputs": []
    },
    {
      "cell_type": "code",
      "source": [
        "r=Rake()\n"
      ],
      "metadata": {
        "id": "ACzZTqm_CVky"
      },
      "execution_count": null,
      "outputs": []
    },
    {
      "cell_type": "code",
      "source": [
        "j=1\n",
        "for i in yelp_biz_review.head(5)['text']:\n",
        "  print(j)\n",
        "  r.extract_keywords_from_text(i)\n",
        "  print(r.get_ranked_phrases()[0:10])\n",
        "  j+=1"
      ],
      "metadata": {
        "colab": {
          "base_uri": "https://localhost:8080/"
        },
        "id": "q05Y6OyNDLOT",
        "outputId": "d5a90ef5-5ee4-4404-cce1-b64bdac8dd5a"
      },
      "execution_count": null,
      "outputs": [
        {
          "output_type": "stream",
          "name": "stdout",
          "text": [
            "1\n",
            "['outstanding ..... certainly 5 star', '5 star review', 'quite extended wait', 'hand dandy yelp', 'mexican fusion restaurant', 'mexican restaurant', 'western indiana', 'way home', 'really enjoyed', 'pretty standard']\n",
            "2\n",
            "['table ... maybe 10 minutes', 'fresh sliced avocados made', '1 waitress serving half', 'chips within 5 minutes', 'fresh pico really made', 'freezer burned tasted nice', 'cold melt water squirted', '3 empty tables wondering', 'honey ordered steak tacos', 'another 15 minutes']\n",
            "3\n",
            "['top 5 overall places', 'live 50 minutes away', 'mexican food across', 'literally every item', 'enchiladas del mar', 'clean atmosphere inside', 'nice patio area', 'clean bathrooms', 'cheese enchiladas', 'strip mall']\n",
            "4\n",
            "['server working well', 'large party next', 'carne asada tacos', 'wonderfully friendly', 'spinach enchiladas', 'could see', 'brownsburg residents', 'us', 'spacious', 'service']\n",
            "5\n",
            "['great mexican food restaurant', 'attentive customer service', 'delicious food', 'generous portions', 'menu', 'lots', 'choices']\n"
          ]
        }
      ]
    },
    {
      "cell_type": "code",
      "source": [
        "keyword_s=[]\n",
        "for i in yelp_biz_review['text']:\n",
        "  r.extract_keywords_from_text(i)\n",
        "  keyword_s.append(r.get_ranked_phrases()[0:10])"
      ],
      "metadata": {
        "id": "THVBHb9SBVtw"
      },
      "execution_count": null,
      "outputs": []
    },
    {
      "cell_type": "code",
      "source": [
        "keyword_s[0:10]"
      ],
      "metadata": {
        "colab": {
          "base_uri": "https://localhost:8080/"
        },
        "id": "MV4PIkjLKEBl",
        "outputId": "9e0d7e80-dfb1-45c2-a8c9-f5ca8fab6a9c"
      },
      "execution_count": null,
      "outputs": [
        {
          "output_type": "execute_result",
          "data": {
            "text/plain": [
              "[['outstanding ..... certainly 5 star',\n",
              "  '5 star review',\n",
              "  'quite extended wait',\n",
              "  'hand dandy yelp',\n",
              "  'mexican fusion restaurant',\n",
              "  'mexican restaurant',\n",
              "  'western indiana',\n",
              "  'way home',\n",
              "  'really enjoyed',\n",
              "  'pretty standard'],\n",
              " ['table ... maybe 10 minutes',\n",
              "  'fresh sliced avocados made',\n",
              "  '1 waitress serving half',\n",
              "  'chips within 5 minutes',\n",
              "  'fresh pico really made',\n",
              "  'freezer burned tasted nice',\n",
              "  'cold melt water squirted',\n",
              "  '3 empty tables wondering',\n",
              "  'honey ordered steak tacos',\n",
              "  'another 15 minutes'],\n",
              " ['top 5 overall places',\n",
              "  'live 50 minutes away',\n",
              "  'mexican food across',\n",
              "  'literally every item',\n",
              "  'enchiladas del mar',\n",
              "  'clean atmosphere inside',\n",
              "  'nice patio area',\n",
              "  'clean bathrooms',\n",
              "  'cheese enchiladas',\n",
              "  'strip mall'],\n",
              " ['server working well',\n",
              "  'large party next',\n",
              "  'carne asada tacos',\n",
              "  'wonderfully friendly',\n",
              "  'spinach enchiladas',\n",
              "  'could see',\n",
              "  'brownsburg residents',\n",
              "  'us',\n",
              "  'spacious',\n",
              "  'service'],\n",
              " ['great mexican food restaurant',\n",
              "  'attentive customer service',\n",
              "  'delicious food',\n",
              "  'generous portions',\n",
              "  'menu',\n",
              "  'lots',\n",
              "  'choices'],\n",
              " ['mole con pollo',\n",
              "  'never came back',\n",
              "  'much better meal',\n",
              "  'much better',\n",
              "  'vegetables came',\n",
              "  'still dirty',\n",
              "  'little farther',\n",
              "  'husband tried',\n",
              "  'convenient location',\n",
              "  'showed us'],\n",
              " ['nice clean restaurant',\n",
              "  'usually mexican food',\n",
              "  'nice decor',\n",
              "  'mexican food',\n",
              "  'waiter sometimes',\n",
              "  'pretty inexpensive',\n",
              "  'gourmet touch',\n",
              "  'higher prices',\n",
              "  'food',\n",
              "  'prices'],\n",
              " ['good mexican food', 'bad either', 'good', 'still', 'prices', 'authentic'],\n",
              " ['never coming back !!!!',\n",
              "  'worst place ever !!!!!',\n",
              "  'place 1 star',\n",
              "  'like another one',\n",
              "  'lady told',\n",
              "  'could rate',\n",
              "  'would unfortunately',\n",
              "  'asked would',\n",
              "  'ever',\n",
              "  'would'],\n",
              " ['husbands stomach started hurting',\n",
              "  'nearly authentic anymore',\n",
              "  'good anymore',\n",
              "  'months since',\n",
              "  'mexican restaurants',\n",
              "  'even finish',\n",
              "  'chicken fajitas',\n",
              "  'better cooking',\n",
              "  'would know',\n",
              "  'last time']]"
            ]
          },
          "metadata": {},
          "execution_count": 24
        }
      ]
    },
    {
      "cell_type": "code",
      "source": [
        "yelp_df=yelp_biz_review"
      ],
      "metadata": {
        "id": "p4BCn0uqPA0L"
      },
      "execution_count": null,
      "outputs": []
    },
    {
      "cell_type": "code",
      "source": [
        "yelp_df['keywords']=keyword_s"
      ],
      "metadata": {
        "id": "7hWBSDqlPHED"
      },
      "execution_count": null,
      "outputs": []
    },
    {
      "cell_type": "code",
      "source": [
        "yelp_df.head(5)"
      ],
      "metadata": {
        "colab": {
          "base_uri": "https://localhost:8080/",
          "height": 686
        },
        "id": "T9uM1Fw0S5dE",
        "outputId": "2839792f-fba5-496a-b367-e73fd00e14e1"
      },
      "execution_count": null,
      "outputs": [
        {
          "output_type": "execute_result",
          "data": {
            "text/plain": [
              "              business_id             name          address        city state  \\\n",
              "0  2AwhlMOMsYXJvskZKKG2GA  Tequila Sunrise  1551 N Green St  Brownsburg    IN   \n",
              "1  2AwhlMOMsYXJvskZKKG2GA  Tequila Sunrise  1551 N Green St  Brownsburg    IN   \n",
              "2  2AwhlMOMsYXJvskZKKG2GA  Tequila Sunrise  1551 N Green St  Brownsburg    IN   \n",
              "3  2AwhlMOMsYXJvskZKKG2GA  Tequila Sunrise  1551 N Green St  Brownsburg    IN   \n",
              "4  2AwhlMOMsYXJvskZKKG2GA  Tequila Sunrise  1551 N Green St  Brownsburg    IN   \n",
              "\n",
              "  postal_code   latitude  longitude  stars_x  review_count  is_open  \\\n",
              "0       46112  39.867338 -86.390529      3.5           112      1.0   \n",
              "1       46112  39.867338 -86.390529      3.5           112      1.0   \n",
              "2       46112  39.867338 -86.390529      3.5           112      1.0   \n",
              "3       46112  39.867338 -86.390529      3.5           112      1.0   \n",
              "4       46112  39.867338 -86.390529      3.5           112      1.0   \n",
              "\n",
              "                                          attributes            categories  \\\n",
              "0  {'NoiseLevel': \"u'average'\", 'BusinessParking'...  Restaurants, Mexican   \n",
              "1  {'NoiseLevel': \"u'average'\", 'BusinessParking'...  Restaurants, Mexican   \n",
              "2  {'NoiseLevel': \"u'average'\", 'BusinessParking'...  Restaurants, Mexican   \n",
              "3  {'NoiseLevel': \"u'average'\", 'BusinessParking'...  Restaurants, Mexican   \n",
              "4  {'NoiseLevel': \"u'average'\", 'BusinessParking'...  Restaurants, Mexican   \n",
              "\n",
              "                review_id  useful  funny  cool  \\\n",
              "0  djujEmxqpY5bmEJ3YaXiBg     0.0    0.0   0.0   \n",
              "1  x3LyEt-uiBFCUw65oc0y5g     0.0    0.0   0.0   \n",
              "2  zZcbhKIqxcgjWO8LJUJUaQ     0.0    0.0   0.0   \n",
              "3  ZoN7GbeNGFyPwwKdMEr_Mw     0.0    0.0   0.0   \n",
              "4  NlQl6Z5UOFmAgSiMo0CbHA     0.0    0.0   0.0   \n",
              "\n",
              "                                                text                 date  \\\n",
              "0  We'd been playing a festival in Western Indian...  2017-09-18 17:29:03   \n",
              "1  The experience happened on Tuesday, July 3rd, ...  2018-07-04 01:02:30   \n",
              "2  Phe-nom-nom-nom-enal! Took my wife here today ...  2016-10-13 02:00:28   \n",
              "3  Carne Asada tacos were good, hubby had chicken...  2016-07-12 15:05:25   \n",
              "4  Delicious food.  Very generous portions.  Very...  2018-07-03 23:28:02   \n",
              "\n",
              "                                            keywords  \n",
              "0  [outstanding ..... certainly 5 star, 5 star re...  \n",
              "1  [table ... maybe 10 minutes, fresh sliced avoc...  \n",
              "2  [top 5 overall places, live 50 minutes away, m...  \n",
              "3  [server working well, large party next, carne ...  \n",
              "4  [great mexican food restaurant, attentive cust...  "
            ],
            "text/html": [
              "\n",
              "  <div id=\"df-9bf9db6a-dcaf-499b-88aa-fe9c4c11c395\">\n",
              "    <div class=\"colab-df-container\">\n",
              "      <div>\n",
              "<style scoped>\n",
              "    .dataframe tbody tr th:only-of-type {\n",
              "        vertical-align: middle;\n",
              "    }\n",
              "\n",
              "    .dataframe tbody tr th {\n",
              "        vertical-align: top;\n",
              "    }\n",
              "\n",
              "    .dataframe thead th {\n",
              "        text-align: right;\n",
              "    }\n",
              "</style>\n",
              "<table border=\"1\" class=\"dataframe\">\n",
              "  <thead>\n",
              "    <tr style=\"text-align: right;\">\n",
              "      <th></th>\n",
              "      <th>business_id</th>\n",
              "      <th>name</th>\n",
              "      <th>address</th>\n",
              "      <th>city</th>\n",
              "      <th>state</th>\n",
              "      <th>postal_code</th>\n",
              "      <th>latitude</th>\n",
              "      <th>longitude</th>\n",
              "      <th>stars_x</th>\n",
              "      <th>review_count</th>\n",
              "      <th>is_open</th>\n",
              "      <th>attributes</th>\n",
              "      <th>categories</th>\n",
              "      <th>review_id</th>\n",
              "      <th>useful</th>\n",
              "      <th>funny</th>\n",
              "      <th>cool</th>\n",
              "      <th>text</th>\n",
              "      <th>date</th>\n",
              "      <th>keywords</th>\n",
              "    </tr>\n",
              "  </thead>\n",
              "  <tbody>\n",
              "    <tr>\n",
              "      <th>0</th>\n",
              "      <td>2AwhlMOMsYXJvskZKKG2GA</td>\n",
              "      <td>Tequila Sunrise</td>\n",
              "      <td>1551 N Green St</td>\n",
              "      <td>Brownsburg</td>\n",
              "      <td>IN</td>\n",
              "      <td>46112</td>\n",
              "      <td>39.867338</td>\n",
              "      <td>-86.390529</td>\n",
              "      <td>3.5</td>\n",
              "      <td>112</td>\n",
              "      <td>1.0</td>\n",
              "      <td>{'NoiseLevel': \"u'average'\", 'BusinessParking'...</td>\n",
              "      <td>Restaurants, Mexican</td>\n",
              "      <td>djujEmxqpY5bmEJ3YaXiBg</td>\n",
              "      <td>0.0</td>\n",
              "      <td>0.0</td>\n",
              "      <td>0.0</td>\n",
              "      <td>We'd been playing a festival in Western Indian...</td>\n",
              "      <td>2017-09-18 17:29:03</td>\n",
              "      <td>[outstanding ..... certainly 5 star, 5 star re...</td>\n",
              "    </tr>\n",
              "    <tr>\n",
              "      <th>1</th>\n",
              "      <td>2AwhlMOMsYXJvskZKKG2GA</td>\n",
              "      <td>Tequila Sunrise</td>\n",
              "      <td>1551 N Green St</td>\n",
              "      <td>Brownsburg</td>\n",
              "      <td>IN</td>\n",
              "      <td>46112</td>\n",
              "      <td>39.867338</td>\n",
              "      <td>-86.390529</td>\n",
              "      <td>3.5</td>\n",
              "      <td>112</td>\n",
              "      <td>1.0</td>\n",
              "      <td>{'NoiseLevel': \"u'average'\", 'BusinessParking'...</td>\n",
              "      <td>Restaurants, Mexican</td>\n",
              "      <td>x3LyEt-uiBFCUw65oc0y5g</td>\n",
              "      <td>0.0</td>\n",
              "      <td>0.0</td>\n",
              "      <td>0.0</td>\n",
              "      <td>The experience happened on Tuesday, July 3rd, ...</td>\n",
              "      <td>2018-07-04 01:02:30</td>\n",
              "      <td>[table ... maybe 10 minutes, fresh sliced avoc...</td>\n",
              "    </tr>\n",
              "    <tr>\n",
              "      <th>2</th>\n",
              "      <td>2AwhlMOMsYXJvskZKKG2GA</td>\n",
              "      <td>Tequila Sunrise</td>\n",
              "      <td>1551 N Green St</td>\n",
              "      <td>Brownsburg</td>\n",
              "      <td>IN</td>\n",
              "      <td>46112</td>\n",
              "      <td>39.867338</td>\n",
              "      <td>-86.390529</td>\n",
              "      <td>3.5</td>\n",
              "      <td>112</td>\n",
              "      <td>1.0</td>\n",
              "      <td>{'NoiseLevel': \"u'average'\", 'BusinessParking'...</td>\n",
              "      <td>Restaurants, Mexican</td>\n",
              "      <td>zZcbhKIqxcgjWO8LJUJUaQ</td>\n",
              "      <td>0.0</td>\n",
              "      <td>0.0</td>\n",
              "      <td>0.0</td>\n",
              "      <td>Phe-nom-nom-nom-enal! Took my wife here today ...</td>\n",
              "      <td>2016-10-13 02:00:28</td>\n",
              "      <td>[top 5 overall places, live 50 minutes away, m...</td>\n",
              "    </tr>\n",
              "    <tr>\n",
              "      <th>3</th>\n",
              "      <td>2AwhlMOMsYXJvskZKKG2GA</td>\n",
              "      <td>Tequila Sunrise</td>\n",
              "      <td>1551 N Green St</td>\n",
              "      <td>Brownsburg</td>\n",
              "      <td>IN</td>\n",
              "      <td>46112</td>\n",
              "      <td>39.867338</td>\n",
              "      <td>-86.390529</td>\n",
              "      <td>3.5</td>\n",
              "      <td>112</td>\n",
              "      <td>1.0</td>\n",
              "      <td>{'NoiseLevel': \"u'average'\", 'BusinessParking'...</td>\n",
              "      <td>Restaurants, Mexican</td>\n",
              "      <td>ZoN7GbeNGFyPwwKdMEr_Mw</td>\n",
              "      <td>0.0</td>\n",
              "      <td>0.0</td>\n",
              "      <td>0.0</td>\n",
              "      <td>Carne Asada tacos were good, hubby had chicken...</td>\n",
              "      <td>2016-07-12 15:05:25</td>\n",
              "      <td>[server working well, large party next, carne ...</td>\n",
              "    </tr>\n",
              "    <tr>\n",
              "      <th>4</th>\n",
              "      <td>2AwhlMOMsYXJvskZKKG2GA</td>\n",
              "      <td>Tequila Sunrise</td>\n",
              "      <td>1551 N Green St</td>\n",
              "      <td>Brownsburg</td>\n",
              "      <td>IN</td>\n",
              "      <td>46112</td>\n",
              "      <td>39.867338</td>\n",
              "      <td>-86.390529</td>\n",
              "      <td>3.5</td>\n",
              "      <td>112</td>\n",
              "      <td>1.0</td>\n",
              "      <td>{'NoiseLevel': \"u'average'\", 'BusinessParking'...</td>\n",
              "      <td>Restaurants, Mexican</td>\n",
              "      <td>NlQl6Z5UOFmAgSiMo0CbHA</td>\n",
              "      <td>0.0</td>\n",
              "      <td>0.0</td>\n",
              "      <td>0.0</td>\n",
              "      <td>Delicious food.  Very generous portions.  Very...</td>\n",
              "      <td>2018-07-03 23:28:02</td>\n",
              "      <td>[great mexican food restaurant, attentive cust...</td>\n",
              "    </tr>\n",
              "  </tbody>\n",
              "</table>\n",
              "</div>\n",
              "      <button class=\"colab-df-convert\" onclick=\"convertToInteractive('df-9bf9db6a-dcaf-499b-88aa-fe9c4c11c395')\"\n",
              "              title=\"Convert this dataframe to an interactive table.\"\n",
              "              style=\"display:none;\">\n",
              "        \n",
              "  <svg xmlns=\"http://www.w3.org/2000/svg\" height=\"24px\"viewBox=\"0 0 24 24\"\n",
              "       width=\"24px\">\n",
              "    <path d=\"M0 0h24v24H0V0z\" fill=\"none\"/>\n",
              "    <path d=\"M18.56 5.44l.94 2.06.94-2.06 2.06-.94-2.06-.94-.94-2.06-.94 2.06-2.06.94zm-11 1L8.5 8.5l.94-2.06 2.06-.94-2.06-.94L8.5 2.5l-.94 2.06-2.06.94zm10 10l.94 2.06.94-2.06 2.06-.94-2.06-.94-.94-2.06-.94 2.06-2.06.94z\"/><path d=\"M17.41 7.96l-1.37-1.37c-.4-.4-.92-.59-1.43-.59-.52 0-1.04.2-1.43.59L10.3 9.45l-7.72 7.72c-.78.78-.78 2.05 0 2.83L4 21.41c.39.39.9.59 1.41.59.51 0 1.02-.2 1.41-.59l7.78-7.78 2.81-2.81c.8-.78.8-2.07 0-2.86zM5.41 20L4 18.59l7.72-7.72 1.47 1.35L5.41 20z\"/>\n",
              "  </svg>\n",
              "      </button>\n",
              "      \n",
              "  <style>\n",
              "    .colab-df-container {\n",
              "      display:flex;\n",
              "      flex-wrap:wrap;\n",
              "      gap: 12px;\n",
              "    }\n",
              "\n",
              "    .colab-df-convert {\n",
              "      background-color: #E8F0FE;\n",
              "      border: none;\n",
              "      border-radius: 50%;\n",
              "      cursor: pointer;\n",
              "      display: none;\n",
              "      fill: #1967D2;\n",
              "      height: 32px;\n",
              "      padding: 0 0 0 0;\n",
              "      width: 32px;\n",
              "    }\n",
              "\n",
              "    .colab-df-convert:hover {\n",
              "      background-color: #E2EBFA;\n",
              "      box-shadow: 0px 1px 2px rgba(60, 64, 67, 0.3), 0px 1px 3px 1px rgba(60, 64, 67, 0.15);\n",
              "      fill: #174EA6;\n",
              "    }\n",
              "\n",
              "    [theme=dark] .colab-df-convert {\n",
              "      background-color: #3B4455;\n",
              "      fill: #D2E3FC;\n",
              "    }\n",
              "\n",
              "    [theme=dark] .colab-df-convert:hover {\n",
              "      background-color: #434B5C;\n",
              "      box-shadow: 0px 1px 3px 1px rgba(0, 0, 0, 0.15);\n",
              "      filter: drop-shadow(0px 1px 2px rgba(0, 0, 0, 0.3));\n",
              "      fill: #FFFFFF;\n",
              "    }\n",
              "  </style>\n",
              "\n",
              "      <script>\n",
              "        const buttonEl =\n",
              "          document.querySelector('#df-9bf9db6a-dcaf-499b-88aa-fe9c4c11c395 button.colab-df-convert');\n",
              "        buttonEl.style.display =\n",
              "          google.colab.kernel.accessAllowed ? 'block' : 'none';\n",
              "\n",
              "        async function convertToInteractive(key) {\n",
              "          const element = document.querySelector('#df-9bf9db6a-dcaf-499b-88aa-fe9c4c11c395');\n",
              "          const dataTable =\n",
              "            await google.colab.kernel.invokeFunction('convertToInteractive',\n",
              "                                                     [key], {});\n",
              "          if (!dataTable) return;\n",
              "\n",
              "          const docLinkHtml = 'Like what you see? Visit the ' +\n",
              "            '<a target=\"_blank\" href=https://colab.research.google.com/notebooks/data_table.ipynb>data table notebook</a>'\n",
              "            + ' to learn more about interactive tables.';\n",
              "          element.innerHTML = '';\n",
              "          dataTable['output_type'] = 'display_data';\n",
              "          await google.colab.output.renderOutput(dataTable, element);\n",
              "          const docLink = document.createElement('div');\n",
              "          docLink.innerHTML = docLinkHtml;\n",
              "          element.appendChild(docLink);\n",
              "        }\n",
              "      </script>\n",
              "    </div>\n",
              "  </div>\n",
              "  "
            ]
          },
          "metadata": {},
          "execution_count": 27
        }
      ]
    },
    {
      "cell_type": "markdown",
      "source": [
        "**NMF**"
      ],
      "metadata": {
        "id": "mXkaRV7W32_9"
      }
    },
    {
      "cell_type": "code",
      "source": [
        "from nltk.corpus import stopwords\n",
        "from nltk.probability import FreqDist\n",
        "from sklearn.feature_extraction.text import CountVectorizer\n",
        "nltk.download('punkt')\n",
        "nltk.download('stopwords')\n",
        "from sklearn.feature_extraction.text import TfidfVectorizer\n",
        "from sklearn.decomposition import NMF\n",
        "import time\n",
        "import pickle\n",
        "from nltk.stem import WordNetLemmatizer\n",
        "from nltk.stem import PorterStemmer \n",
        "nltk.download('omw-1.4')\n",
        "import string\n",
        "nltk.download('averaged_perceptron_tagger')\n",
        "nltk.download('all')"
      ],
      "metadata": {
        "id": "OEKNQ6SvOjBF"
      },
      "execution_count": null,
      "outputs": []
    },
    {
      "cell_type": "code",
      "source": [
        "def clean_reviews(review):\n",
        "                    stop_words=set(stopwords.words('english')+['``',\"''\"])\n",
        "                    lem=WordNetLemmatizer()\n",
        "                    table=str.maketrans('','',string.punctuation)\n",
        "                    new_string=review.translate(table)\n",
        "                    tok_list=[]\n",
        "                    tok_text=nltk.word_tokenize(review)\n",
        "                    word_list=[]\n",
        "                    for tok in tok_text:\n",
        "                        if tok.lower() not in stop_words:\n",
        "                            if tok.isalpha()==True:\n",
        "                                lemword=lem.lemmatize(tok.lower())\n",
        "                                word_list.append(lemword)\n",
        "                    words=' '.join(word_list)\n",
        "            \n",
        "                    return words"
      ],
      "metadata": {
        "id": "Z56IZqVcOgqg"
      },
      "execution_count": null,
      "outputs": []
    },
    {
      "cell_type": "code",
      "source": [
        "def tokens(review):\n",
        "                    stop_words=set(stopwords.words('english')+['``',\"''\"])\n",
        "                    lem=WordNetLemmatizer()\n",
        "                    table=str.maketrans('','',string.punctuation)\n",
        "                    new_string=review.translate(table)\n",
        "                    tok_list=[]\n",
        "                    tok_text=nltk.word_tokenize(review)\n",
        "                    word_list=[]\n",
        "                    for tok in tok_text:\n",
        "                        if tok.lower() not in stop_words:\n",
        "                            if tok.isalpha()==True:\n",
        "                                lemword=lem.lemmatize(tok.lower())\n",
        "                                word_list.append(tok.lower())\n",
        "            \n",
        "                    return word_list"
      ],
      "metadata": {
        "id": "538V4vNgUHVZ"
      },
      "execution_count": null,
      "outputs": []
    },
    {
      "cell_type": "code",
      "source": [
        "clean_review_list=[]\n",
        "token_s=[]\n",
        "for review in yelp_df['text'][0:100000]:\n",
        "  c=clean_reviews(review)\n",
        "  clean_review_list.append(c)\n",
        "  token_s.append(tokens(review))"
      ],
      "metadata": {
        "id": "BKexxy8pO8Mo"
      },
      "execution_count": null,
      "outputs": []
    },
    {
      "cell_type": "code",
      "source": [
        "yelp_df"
      ],
      "metadata": {
        "colab": {
          "base_uri": "https://localhost:8080/",
          "height": 1000
        },
        "id": "9tRZQeooVNep",
        "outputId": "a613e25b-1632-4f2b-f026-cddf7cb1f795"
      },
      "execution_count": null,
      "outputs": [
        {
          "output_type": "execute_result",
          "data": {
            "text/plain": [
              "                    business_id             name          address        city  \\\n",
              "0        2AwhlMOMsYXJvskZKKG2GA  Tequila Sunrise  1551 N Green St  Brownsburg   \n",
              "1        2AwhlMOMsYXJvskZKKG2GA  Tequila Sunrise  1551 N Green St  Brownsburg   \n",
              "2        2AwhlMOMsYXJvskZKKG2GA  Tequila Sunrise  1551 N Green St  Brownsburg   \n",
              "3        2AwhlMOMsYXJvskZKKG2GA  Tequila Sunrise  1551 N Green St  Brownsburg   \n",
              "4        2AwhlMOMsYXJvskZKKG2GA  Tequila Sunrise  1551 N Green St  Brownsburg   \n",
              "...                         ...              ...              ...         ...   \n",
              "3584005  2O2K6SXPWv56amqxCECd4w     The Plum Pit  4405 Pennell Rd       Aston   \n",
              "3584006  2O2K6SXPWv56amqxCECd4w     The Plum Pit  4405 Pennell Rd       Aston   \n",
              "3584007  2O2K6SXPWv56amqxCECd4w     The Plum Pit  4405 Pennell Rd       Aston   \n",
              "3584008  2O2K6SXPWv56amqxCECd4w     The Plum Pit  4405 Pennell Rd       Aston   \n",
              "3584009  2O2K6SXPWv56amqxCECd4w     The Plum Pit  4405 Pennell Rd       Aston   \n",
              "\n",
              "        state postal_code   latitude  longitude  stars_x  review_count  \\\n",
              "0          IN       46112  39.867338 -86.390529      3.5           112   \n",
              "1          IN       46112  39.867338 -86.390529      3.5           112   \n",
              "2          IN       46112  39.867338 -86.390529      3.5           112   \n",
              "3          IN       46112  39.867338 -86.390529      3.5           112   \n",
              "4          IN       46112  39.867338 -86.390529      3.5           112   \n",
              "...       ...         ...        ...        ...      ...           ...   \n",
              "3584005    DE       19014  39.856185 -75.427725      4.5            14   \n",
              "3584006    DE       19014  39.856185 -75.427725      4.5            14   \n",
              "3584007    DE       19014  39.856185 -75.427725      4.5            14   \n",
              "3584008    DE       19014  39.856185 -75.427725      4.5            14   \n",
              "3584009    DE       19014  39.856185 -75.427725      4.5            14   \n",
              "\n",
              "         is_open                                         attributes  \\\n",
              "0            1.0  {'NoiseLevel': \"u'average'\", 'BusinessParking'...   \n",
              "1            1.0  {'NoiseLevel': \"u'average'\", 'BusinessParking'...   \n",
              "2            1.0  {'NoiseLevel': \"u'average'\", 'BusinessParking'...   \n",
              "3            1.0  {'NoiseLevel': \"u'average'\", 'BusinessParking'...   \n",
              "4            1.0  {'NoiseLevel': \"u'average'\", 'BusinessParking'...   \n",
              "...          ...                                                ...   \n",
              "3584005      1.0  {'RestaurantsDelivery': 'False', 'BusinessAcce...   \n",
              "3584006      1.0  {'RestaurantsDelivery': 'False', 'BusinessAcce...   \n",
              "3584007      1.0  {'RestaurantsDelivery': 'False', 'BusinessAcce...   \n",
              "3584008      1.0  {'RestaurantsDelivery': 'False', 'BusinessAcce...   \n",
              "3584009      1.0  {'RestaurantsDelivery': 'False', 'BusinessAcce...   \n",
              "\n",
              "                                                categories  \\\n",
              "0                                     Restaurants, Mexican   \n",
              "1                                     Restaurants, Mexican   \n",
              "2                                     Restaurants, Mexican   \n",
              "3                                     Restaurants, Mexican   \n",
              "4                                     Restaurants, Mexican   \n",
              "...                                                    ...   \n",
              "3584005  Restaurants, Comfort Food, Food, Food Trucks, ...   \n",
              "3584006  Restaurants, Comfort Food, Food, Food Trucks, ...   \n",
              "3584007  Restaurants, Comfort Food, Food, Food Trucks, ...   \n",
              "3584008  Restaurants, Comfort Food, Food, Food Trucks, ...   \n",
              "3584009  Restaurants, Comfort Food, Food, Food Trucks, ...   \n",
              "\n",
              "                      review_id  useful  funny  cool  \\\n",
              "0        djujEmxqpY5bmEJ3YaXiBg     0.0    0.0   0.0   \n",
              "1        x3LyEt-uiBFCUw65oc0y5g     0.0    0.0   0.0   \n",
              "2        zZcbhKIqxcgjWO8LJUJUaQ     0.0    0.0   0.0   \n",
              "3        ZoN7GbeNGFyPwwKdMEr_Mw     0.0    0.0   0.0   \n",
              "4        NlQl6Z5UOFmAgSiMo0CbHA     0.0    0.0   0.0   \n",
              "...                         ...     ...    ...   ...   \n",
              "3584005  Kt3gFeW1rhZz7RuiV-6Tcw     0.0    0.0   0.0   \n",
              "3584006  ruy3Ycey_gGbwkE_3TX1Fg     1.0    0.0   1.0   \n",
              "3584007  C_l8NTpvNOEUorEmEOusaA     0.0    0.0   0.0   \n",
              "3584008  q39JOIkHmIhdmYnjEhZCdQ     0.0    0.0   0.0   \n",
              "3584009  ejNwTMv26Hkaj_DHh1Ra0Q     0.0    0.0   0.0   \n",
              "\n",
              "                                                      text  \\\n",
              "0        We'd been playing a festival in Western Indian...   \n",
              "1        The experience happened on Tuesday, July 3rd, ...   \n",
              "2        Phe-nom-nom-nom-enal! Took my wife here today ...   \n",
              "3        Carne Asada tacos were good, hubby had chicken...   \n",
              "4        Delicious food.  Very generous portions.  Very...   \n",
              "...                                                    ...   \n",
              "3584005  This is my favorite food truck! I only wish I ...   \n",
              "3584006  This food truck was stupid. Stupidly delicious...   \n",
              "3584007  Bubba never disappoints i go to his fb page an...   \n",
              "3584008  The truck was invited to our office for a part...   \n",
              "3584009  Plum Pit came and did my niece's graduation pa...   \n",
              "\n",
              "                        date  \n",
              "0        2017-09-18 17:29:03  \n",
              "1        2018-07-04 01:02:30  \n",
              "2        2016-10-13 02:00:28  \n",
              "3        2016-07-12 15:05:25  \n",
              "4        2018-07-03 23:28:02  \n",
              "...                      ...  \n",
              "3584005  2019-07-14 14:25:35  \n",
              "3584006  2021-06-25 23:22:26  \n",
              "3584007  2016-12-09 21:38:05  \n",
              "3584008  2020-02-19 22:59:06  \n",
              "3584009  2021-06-07 02:55:04  \n",
              "\n",
              "[3567667 rows x 19 columns]"
            ],
            "text/html": [
              "\n",
              "  <div id=\"df-96dd0172-8da7-4009-9c83-6cfbe27d600e\">\n",
              "    <div class=\"colab-df-container\">\n",
              "      <div>\n",
              "<style scoped>\n",
              "    .dataframe tbody tr th:only-of-type {\n",
              "        vertical-align: middle;\n",
              "    }\n",
              "\n",
              "    .dataframe tbody tr th {\n",
              "        vertical-align: top;\n",
              "    }\n",
              "\n",
              "    .dataframe thead th {\n",
              "        text-align: right;\n",
              "    }\n",
              "</style>\n",
              "<table border=\"1\" class=\"dataframe\">\n",
              "  <thead>\n",
              "    <tr style=\"text-align: right;\">\n",
              "      <th></th>\n",
              "      <th>business_id</th>\n",
              "      <th>name</th>\n",
              "      <th>address</th>\n",
              "      <th>city</th>\n",
              "      <th>state</th>\n",
              "      <th>postal_code</th>\n",
              "      <th>latitude</th>\n",
              "      <th>longitude</th>\n",
              "      <th>stars_x</th>\n",
              "      <th>review_count</th>\n",
              "      <th>is_open</th>\n",
              "      <th>attributes</th>\n",
              "      <th>categories</th>\n",
              "      <th>review_id</th>\n",
              "      <th>useful</th>\n",
              "      <th>funny</th>\n",
              "      <th>cool</th>\n",
              "      <th>text</th>\n",
              "      <th>date</th>\n",
              "    </tr>\n",
              "  </thead>\n",
              "  <tbody>\n",
              "    <tr>\n",
              "      <th>0</th>\n",
              "      <td>2AwhlMOMsYXJvskZKKG2GA</td>\n",
              "      <td>Tequila Sunrise</td>\n",
              "      <td>1551 N Green St</td>\n",
              "      <td>Brownsburg</td>\n",
              "      <td>IN</td>\n",
              "      <td>46112</td>\n",
              "      <td>39.867338</td>\n",
              "      <td>-86.390529</td>\n",
              "      <td>3.5</td>\n",
              "      <td>112</td>\n",
              "      <td>1.0</td>\n",
              "      <td>{'NoiseLevel': \"u'average'\", 'BusinessParking'...</td>\n",
              "      <td>Restaurants, Mexican</td>\n",
              "      <td>djujEmxqpY5bmEJ3YaXiBg</td>\n",
              "      <td>0.0</td>\n",
              "      <td>0.0</td>\n",
              "      <td>0.0</td>\n",
              "      <td>We'd been playing a festival in Western Indian...</td>\n",
              "      <td>2017-09-18 17:29:03</td>\n",
              "    </tr>\n",
              "    <tr>\n",
              "      <th>1</th>\n",
              "      <td>2AwhlMOMsYXJvskZKKG2GA</td>\n",
              "      <td>Tequila Sunrise</td>\n",
              "      <td>1551 N Green St</td>\n",
              "      <td>Brownsburg</td>\n",
              "      <td>IN</td>\n",
              "      <td>46112</td>\n",
              "      <td>39.867338</td>\n",
              "      <td>-86.390529</td>\n",
              "      <td>3.5</td>\n",
              "      <td>112</td>\n",
              "      <td>1.0</td>\n",
              "      <td>{'NoiseLevel': \"u'average'\", 'BusinessParking'...</td>\n",
              "      <td>Restaurants, Mexican</td>\n",
              "      <td>x3LyEt-uiBFCUw65oc0y5g</td>\n",
              "      <td>0.0</td>\n",
              "      <td>0.0</td>\n",
              "      <td>0.0</td>\n",
              "      <td>The experience happened on Tuesday, July 3rd, ...</td>\n",
              "      <td>2018-07-04 01:02:30</td>\n",
              "    </tr>\n",
              "    <tr>\n",
              "      <th>2</th>\n",
              "      <td>2AwhlMOMsYXJvskZKKG2GA</td>\n",
              "      <td>Tequila Sunrise</td>\n",
              "      <td>1551 N Green St</td>\n",
              "      <td>Brownsburg</td>\n",
              "      <td>IN</td>\n",
              "      <td>46112</td>\n",
              "      <td>39.867338</td>\n",
              "      <td>-86.390529</td>\n",
              "      <td>3.5</td>\n",
              "      <td>112</td>\n",
              "      <td>1.0</td>\n",
              "      <td>{'NoiseLevel': \"u'average'\", 'BusinessParking'...</td>\n",
              "      <td>Restaurants, Mexican</td>\n",
              "      <td>zZcbhKIqxcgjWO8LJUJUaQ</td>\n",
              "      <td>0.0</td>\n",
              "      <td>0.0</td>\n",
              "      <td>0.0</td>\n",
              "      <td>Phe-nom-nom-nom-enal! Took my wife here today ...</td>\n",
              "      <td>2016-10-13 02:00:28</td>\n",
              "    </tr>\n",
              "    <tr>\n",
              "      <th>3</th>\n",
              "      <td>2AwhlMOMsYXJvskZKKG2GA</td>\n",
              "      <td>Tequila Sunrise</td>\n",
              "      <td>1551 N Green St</td>\n",
              "      <td>Brownsburg</td>\n",
              "      <td>IN</td>\n",
              "      <td>46112</td>\n",
              "      <td>39.867338</td>\n",
              "      <td>-86.390529</td>\n",
              "      <td>3.5</td>\n",
              "      <td>112</td>\n",
              "      <td>1.0</td>\n",
              "      <td>{'NoiseLevel': \"u'average'\", 'BusinessParking'...</td>\n",
              "      <td>Restaurants, Mexican</td>\n",
              "      <td>ZoN7GbeNGFyPwwKdMEr_Mw</td>\n",
              "      <td>0.0</td>\n",
              "      <td>0.0</td>\n",
              "      <td>0.0</td>\n",
              "      <td>Carne Asada tacos were good, hubby had chicken...</td>\n",
              "      <td>2016-07-12 15:05:25</td>\n",
              "    </tr>\n",
              "    <tr>\n",
              "      <th>4</th>\n",
              "      <td>2AwhlMOMsYXJvskZKKG2GA</td>\n",
              "      <td>Tequila Sunrise</td>\n",
              "      <td>1551 N Green St</td>\n",
              "      <td>Brownsburg</td>\n",
              "      <td>IN</td>\n",
              "      <td>46112</td>\n",
              "      <td>39.867338</td>\n",
              "      <td>-86.390529</td>\n",
              "      <td>3.5</td>\n",
              "      <td>112</td>\n",
              "      <td>1.0</td>\n",
              "      <td>{'NoiseLevel': \"u'average'\", 'BusinessParking'...</td>\n",
              "      <td>Restaurants, Mexican</td>\n",
              "      <td>NlQl6Z5UOFmAgSiMo0CbHA</td>\n",
              "      <td>0.0</td>\n",
              "      <td>0.0</td>\n",
              "      <td>0.0</td>\n",
              "      <td>Delicious food.  Very generous portions.  Very...</td>\n",
              "      <td>2018-07-03 23:28:02</td>\n",
              "    </tr>\n",
              "    <tr>\n",
              "      <th>...</th>\n",
              "      <td>...</td>\n",
              "      <td>...</td>\n",
              "      <td>...</td>\n",
              "      <td>...</td>\n",
              "      <td>...</td>\n",
              "      <td>...</td>\n",
              "      <td>...</td>\n",
              "      <td>...</td>\n",
              "      <td>...</td>\n",
              "      <td>...</td>\n",
              "      <td>...</td>\n",
              "      <td>...</td>\n",
              "      <td>...</td>\n",
              "      <td>...</td>\n",
              "      <td>...</td>\n",
              "      <td>...</td>\n",
              "      <td>...</td>\n",
              "      <td>...</td>\n",
              "      <td>...</td>\n",
              "    </tr>\n",
              "    <tr>\n",
              "      <th>3584005</th>\n",
              "      <td>2O2K6SXPWv56amqxCECd4w</td>\n",
              "      <td>The Plum Pit</td>\n",
              "      <td>4405 Pennell Rd</td>\n",
              "      <td>Aston</td>\n",
              "      <td>DE</td>\n",
              "      <td>19014</td>\n",
              "      <td>39.856185</td>\n",
              "      <td>-75.427725</td>\n",
              "      <td>4.5</td>\n",
              "      <td>14</td>\n",
              "      <td>1.0</td>\n",
              "      <td>{'RestaurantsDelivery': 'False', 'BusinessAcce...</td>\n",
              "      <td>Restaurants, Comfort Food, Food, Food Trucks, ...</td>\n",
              "      <td>Kt3gFeW1rhZz7RuiV-6Tcw</td>\n",
              "      <td>0.0</td>\n",
              "      <td>0.0</td>\n",
              "      <td>0.0</td>\n",
              "      <td>This is my favorite food truck! I only wish I ...</td>\n",
              "      <td>2019-07-14 14:25:35</td>\n",
              "    </tr>\n",
              "    <tr>\n",
              "      <th>3584006</th>\n",
              "      <td>2O2K6SXPWv56amqxCECd4w</td>\n",
              "      <td>The Plum Pit</td>\n",
              "      <td>4405 Pennell Rd</td>\n",
              "      <td>Aston</td>\n",
              "      <td>DE</td>\n",
              "      <td>19014</td>\n",
              "      <td>39.856185</td>\n",
              "      <td>-75.427725</td>\n",
              "      <td>4.5</td>\n",
              "      <td>14</td>\n",
              "      <td>1.0</td>\n",
              "      <td>{'RestaurantsDelivery': 'False', 'BusinessAcce...</td>\n",
              "      <td>Restaurants, Comfort Food, Food, Food Trucks, ...</td>\n",
              "      <td>ruy3Ycey_gGbwkE_3TX1Fg</td>\n",
              "      <td>1.0</td>\n",
              "      <td>0.0</td>\n",
              "      <td>1.0</td>\n",
              "      <td>This food truck was stupid. Stupidly delicious...</td>\n",
              "      <td>2021-06-25 23:22:26</td>\n",
              "    </tr>\n",
              "    <tr>\n",
              "      <th>3584007</th>\n",
              "      <td>2O2K6SXPWv56amqxCECd4w</td>\n",
              "      <td>The Plum Pit</td>\n",
              "      <td>4405 Pennell Rd</td>\n",
              "      <td>Aston</td>\n",
              "      <td>DE</td>\n",
              "      <td>19014</td>\n",
              "      <td>39.856185</td>\n",
              "      <td>-75.427725</td>\n",
              "      <td>4.5</td>\n",
              "      <td>14</td>\n",
              "      <td>1.0</td>\n",
              "      <td>{'RestaurantsDelivery': 'False', 'BusinessAcce...</td>\n",
              "      <td>Restaurants, Comfort Food, Food, Food Trucks, ...</td>\n",
              "      <td>C_l8NTpvNOEUorEmEOusaA</td>\n",
              "      <td>0.0</td>\n",
              "      <td>0.0</td>\n",
              "      <td>0.0</td>\n",
              "      <td>Bubba never disappoints i go to his fb page an...</td>\n",
              "      <td>2016-12-09 21:38:05</td>\n",
              "    </tr>\n",
              "    <tr>\n",
              "      <th>3584008</th>\n",
              "      <td>2O2K6SXPWv56amqxCECd4w</td>\n",
              "      <td>The Plum Pit</td>\n",
              "      <td>4405 Pennell Rd</td>\n",
              "      <td>Aston</td>\n",
              "      <td>DE</td>\n",
              "      <td>19014</td>\n",
              "      <td>39.856185</td>\n",
              "      <td>-75.427725</td>\n",
              "      <td>4.5</td>\n",
              "      <td>14</td>\n",
              "      <td>1.0</td>\n",
              "      <td>{'RestaurantsDelivery': 'False', 'BusinessAcce...</td>\n",
              "      <td>Restaurants, Comfort Food, Food, Food Trucks, ...</td>\n",
              "      <td>q39JOIkHmIhdmYnjEhZCdQ</td>\n",
              "      <td>0.0</td>\n",
              "      <td>0.0</td>\n",
              "      <td>0.0</td>\n",
              "      <td>The truck was invited to our office for a part...</td>\n",
              "      <td>2020-02-19 22:59:06</td>\n",
              "    </tr>\n",
              "    <tr>\n",
              "      <th>3584009</th>\n",
              "      <td>2O2K6SXPWv56amqxCECd4w</td>\n",
              "      <td>The Plum Pit</td>\n",
              "      <td>4405 Pennell Rd</td>\n",
              "      <td>Aston</td>\n",
              "      <td>DE</td>\n",
              "      <td>19014</td>\n",
              "      <td>39.856185</td>\n",
              "      <td>-75.427725</td>\n",
              "      <td>4.5</td>\n",
              "      <td>14</td>\n",
              "      <td>1.0</td>\n",
              "      <td>{'RestaurantsDelivery': 'False', 'BusinessAcce...</td>\n",
              "      <td>Restaurants, Comfort Food, Food, Food Trucks, ...</td>\n",
              "      <td>ejNwTMv26Hkaj_DHh1Ra0Q</td>\n",
              "      <td>0.0</td>\n",
              "      <td>0.0</td>\n",
              "      <td>0.0</td>\n",
              "      <td>Plum Pit came and did my niece's graduation pa...</td>\n",
              "      <td>2021-06-07 02:55:04</td>\n",
              "    </tr>\n",
              "  </tbody>\n",
              "</table>\n",
              "<p>3567667 rows × 19 columns</p>\n",
              "</div>\n",
              "      <button class=\"colab-df-convert\" onclick=\"convertToInteractive('df-96dd0172-8da7-4009-9c83-6cfbe27d600e')\"\n",
              "              title=\"Convert this dataframe to an interactive table.\"\n",
              "              style=\"display:none;\">\n",
              "        \n",
              "  <svg xmlns=\"http://www.w3.org/2000/svg\" height=\"24px\"viewBox=\"0 0 24 24\"\n",
              "       width=\"24px\">\n",
              "    <path d=\"M0 0h24v24H0V0z\" fill=\"none\"/>\n",
              "    <path d=\"M18.56 5.44l.94 2.06.94-2.06 2.06-.94-2.06-.94-.94-2.06-.94 2.06-2.06.94zm-11 1L8.5 8.5l.94-2.06 2.06-.94-2.06-.94L8.5 2.5l-.94 2.06-2.06.94zm10 10l.94 2.06.94-2.06 2.06-.94-2.06-.94-.94-2.06-.94 2.06-2.06.94z\"/><path d=\"M17.41 7.96l-1.37-1.37c-.4-.4-.92-.59-1.43-.59-.52 0-1.04.2-1.43.59L10.3 9.45l-7.72 7.72c-.78.78-.78 2.05 0 2.83L4 21.41c.39.39.9.59 1.41.59.51 0 1.02-.2 1.41-.59l7.78-7.78 2.81-2.81c.8-.78.8-2.07 0-2.86zM5.41 20L4 18.59l7.72-7.72 1.47 1.35L5.41 20z\"/>\n",
              "  </svg>\n",
              "      </button>\n",
              "      \n",
              "  <style>\n",
              "    .colab-df-container {\n",
              "      display:flex;\n",
              "      flex-wrap:wrap;\n",
              "      gap: 12px;\n",
              "    }\n",
              "\n",
              "    .colab-df-convert {\n",
              "      background-color: #E8F0FE;\n",
              "      border: none;\n",
              "      border-radius: 50%;\n",
              "      cursor: pointer;\n",
              "      display: none;\n",
              "      fill: #1967D2;\n",
              "      height: 32px;\n",
              "      padding: 0 0 0 0;\n",
              "      width: 32px;\n",
              "    }\n",
              "\n",
              "    .colab-df-convert:hover {\n",
              "      background-color: #E2EBFA;\n",
              "      box-shadow: 0px 1px 2px rgba(60, 64, 67, 0.3), 0px 1px 3px 1px rgba(60, 64, 67, 0.15);\n",
              "      fill: #174EA6;\n",
              "    }\n",
              "\n",
              "    [theme=dark] .colab-df-convert {\n",
              "      background-color: #3B4455;\n",
              "      fill: #D2E3FC;\n",
              "    }\n",
              "\n",
              "    [theme=dark] .colab-df-convert:hover {\n",
              "      background-color: #434B5C;\n",
              "      box-shadow: 0px 1px 3px 1px rgba(0, 0, 0, 0.15);\n",
              "      filter: drop-shadow(0px 1px 2px rgba(0, 0, 0, 0.3));\n",
              "      fill: #FFFFFF;\n",
              "    }\n",
              "  </style>\n",
              "\n",
              "      <script>\n",
              "        const buttonEl =\n",
              "          document.querySelector('#df-96dd0172-8da7-4009-9c83-6cfbe27d600e button.colab-df-convert');\n",
              "        buttonEl.style.display =\n",
              "          google.colab.kernel.accessAllowed ? 'block' : 'none';\n",
              "\n",
              "        async function convertToInteractive(key) {\n",
              "          const element = document.querySelector('#df-96dd0172-8da7-4009-9c83-6cfbe27d600e');\n",
              "          const dataTable =\n",
              "            await google.colab.kernel.invokeFunction('convertToInteractive',\n",
              "                                                     [key], {});\n",
              "          if (!dataTable) return;\n",
              "\n",
              "          const docLinkHtml = 'Like what you see? Visit the ' +\n",
              "            '<a target=\"_blank\" href=https://colab.research.google.com/notebooks/data_table.ipynb>data table notebook</a>'\n",
              "            + ' to learn more about interactive tables.';\n",
              "          element.innerHTML = '';\n",
              "          dataTable['output_type'] = 'display_data';\n",
              "          await google.colab.output.renderOutput(dataTable, element);\n",
              "          const docLink = document.createElement('div');\n",
              "          docLink.innerHTML = docLinkHtml;\n",
              "          element.appendChild(docLink);\n",
              "        }\n",
              "      </script>\n",
              "    </div>\n",
              "  </div>\n",
              "  "
            ]
          },
          "metadata": {},
          "execution_count": 31
        }
      ]
    },
    {
      "cell_type": "code",
      "source": [
        "vectorizer=TfidfVectorizer(max_features=2000, min_df=1, stop_words='english')\n",
        "nmf = NMF(n_components=1, solver=\"mu\")"
      ],
      "metadata": {
        "id": "omy3dmd3apW0"
      },
      "execution_count": null,
      "outputs": []
    },
    {
      "cell_type": "code",
      "source": [
        "nmf_topics=[]\n",
        "for i in clean_review_list:\n",
        "  i=[i]\n",
        "  X=vectorizer.fit_transform(i)\n",
        "  idx_to_word = np.array(vectorizer.get_feature_names_out())\n",
        "  W=nmf.fit_transform(X)\n",
        "  H=nmf.components_\n",
        "  for i, topic in enumerate(H):\n",
        "    nmf_topics.append(((\",\".join([str(x) for x in idx_to_word [topic.argsort()[-10:]]]))))"
      ],
      "metadata": {
        "colab": {
          "base_uri": "https://localhost:8080/",
          "height": 392
        },
        "id": "DfN3NQd2cLKp",
        "outputId": "11bf25c5-916e-4d4b-bf95-c50c7ef9b22b"
      },
      "execution_count": null,
      "outputs": [
        {
          "output_type": "error",
          "ename": "ValueError",
          "evalue": "ignored",
          "traceback": [
            "\u001b[0;31m---------------------------------------------------------------------------\u001b[0m",
            "\u001b[0;31mValueError\u001b[0m                                Traceback (most recent call last)",
            "\u001b[0;32m<ipython-input-62-cef8ae1f3cee>\u001b[0m in \u001b[0;36m<module>\u001b[0;34m\u001b[0m\n\u001b[1;32m      2\u001b[0m \u001b[0;32mfor\u001b[0m \u001b[0mi\u001b[0m \u001b[0;32min\u001b[0m \u001b[0mclean_review_list\u001b[0m\u001b[0;34m:\u001b[0m\u001b[0;34m\u001b[0m\u001b[0;34m\u001b[0m\u001b[0m\n\u001b[1;32m      3\u001b[0m   \u001b[0mi\u001b[0m\u001b[0;34m=\u001b[0m\u001b[0;34m[\u001b[0m\u001b[0mi\u001b[0m\u001b[0;34m]\u001b[0m\u001b[0;34m\u001b[0m\u001b[0;34m\u001b[0m\u001b[0m\n\u001b[0;32m----> 4\u001b[0;31m   \u001b[0mX\u001b[0m\u001b[0;34m=\u001b[0m\u001b[0mvectorizer\u001b[0m\u001b[0;34m.\u001b[0m\u001b[0mfit_transform\u001b[0m\u001b[0;34m(\u001b[0m\u001b[0mi\u001b[0m\u001b[0;34m)\u001b[0m\u001b[0;34m\u001b[0m\u001b[0;34m\u001b[0m\u001b[0m\n\u001b[0m\u001b[1;32m      5\u001b[0m   \u001b[0midx_to_word\u001b[0m \u001b[0;34m=\u001b[0m \u001b[0mnp\u001b[0m\u001b[0;34m.\u001b[0m\u001b[0marray\u001b[0m\u001b[0;34m(\u001b[0m\u001b[0mvectorizer\u001b[0m\u001b[0;34m.\u001b[0m\u001b[0mget_feature_names_out\u001b[0m\u001b[0;34m(\u001b[0m\u001b[0;34m)\u001b[0m\u001b[0;34m)\u001b[0m\u001b[0;34m\u001b[0m\u001b[0;34m\u001b[0m\u001b[0m\n\u001b[1;32m      6\u001b[0m   \u001b[0mW\u001b[0m\u001b[0;34m=\u001b[0m\u001b[0mnmf\u001b[0m\u001b[0;34m.\u001b[0m\u001b[0mfit_transform\u001b[0m\u001b[0;34m(\u001b[0m\u001b[0mX\u001b[0m\u001b[0;34m)\u001b[0m\u001b[0;34m\u001b[0m\u001b[0;34m\u001b[0m\u001b[0m\n",
            "\u001b[0;32m/usr/local/lib/python3.9/dist-packages/sklearn/feature_extraction/text.py\u001b[0m in \u001b[0;36mfit_transform\u001b[0;34m(self, raw_documents, y)\u001b[0m\n\u001b[1;32m   2131\u001b[0m             \u001b[0msublinear_tf\u001b[0m\u001b[0;34m=\u001b[0m\u001b[0mself\u001b[0m\u001b[0;34m.\u001b[0m\u001b[0msublinear_tf\u001b[0m\u001b[0;34m,\u001b[0m\u001b[0;34m\u001b[0m\u001b[0;34m\u001b[0m\u001b[0m\n\u001b[1;32m   2132\u001b[0m         )\n\u001b[0;32m-> 2133\u001b[0;31m         \u001b[0mX\u001b[0m \u001b[0;34m=\u001b[0m \u001b[0msuper\u001b[0m\u001b[0;34m(\u001b[0m\u001b[0;34m)\u001b[0m\u001b[0;34m.\u001b[0m\u001b[0mfit_transform\u001b[0m\u001b[0;34m(\u001b[0m\u001b[0mraw_documents\u001b[0m\u001b[0;34m)\u001b[0m\u001b[0;34m\u001b[0m\u001b[0;34m\u001b[0m\u001b[0m\n\u001b[0m\u001b[1;32m   2134\u001b[0m         \u001b[0mself\u001b[0m\u001b[0;34m.\u001b[0m\u001b[0m_tfidf\u001b[0m\u001b[0;34m.\u001b[0m\u001b[0mfit\u001b[0m\u001b[0;34m(\u001b[0m\u001b[0mX\u001b[0m\u001b[0;34m)\u001b[0m\u001b[0;34m\u001b[0m\u001b[0;34m\u001b[0m\u001b[0m\n\u001b[1;32m   2135\u001b[0m         \u001b[0;31m# X is already a transformed view of raw_documents so\u001b[0m\u001b[0;34m\u001b[0m\u001b[0;34m\u001b[0m\u001b[0m\n",
            "\u001b[0;32m/usr/local/lib/python3.9/dist-packages/sklearn/feature_extraction/text.py\u001b[0m in \u001b[0;36mfit_transform\u001b[0;34m(self, raw_documents, y)\u001b[0m\n\u001b[1;32m   1386\u001b[0m                     \u001b[0;32mbreak\u001b[0m\u001b[0;34m\u001b[0m\u001b[0;34m\u001b[0m\u001b[0m\n\u001b[1;32m   1387\u001b[0m \u001b[0;34m\u001b[0m\u001b[0m\n\u001b[0;32m-> 1388\u001b[0;31m         \u001b[0mvocabulary\u001b[0m\u001b[0;34m,\u001b[0m \u001b[0mX\u001b[0m \u001b[0;34m=\u001b[0m \u001b[0mself\u001b[0m\u001b[0;34m.\u001b[0m\u001b[0m_count_vocab\u001b[0m\u001b[0;34m(\u001b[0m\u001b[0mraw_documents\u001b[0m\u001b[0;34m,\u001b[0m \u001b[0mself\u001b[0m\u001b[0;34m.\u001b[0m\u001b[0mfixed_vocabulary_\u001b[0m\u001b[0;34m)\u001b[0m\u001b[0;34m\u001b[0m\u001b[0;34m\u001b[0m\u001b[0m\n\u001b[0m\u001b[1;32m   1389\u001b[0m \u001b[0;34m\u001b[0m\u001b[0m\n\u001b[1;32m   1390\u001b[0m         \u001b[0;32mif\u001b[0m \u001b[0mself\u001b[0m\u001b[0;34m.\u001b[0m\u001b[0mbinary\u001b[0m\u001b[0;34m:\u001b[0m\u001b[0;34m\u001b[0m\u001b[0;34m\u001b[0m\u001b[0m\n",
            "\u001b[0;32m/usr/local/lib/python3.9/dist-packages/sklearn/feature_extraction/text.py\u001b[0m in \u001b[0;36m_count_vocab\u001b[0;34m(self, raw_documents, fixed_vocab)\u001b[0m\n\u001b[1;32m   1292\u001b[0m             \u001b[0mvocabulary\u001b[0m \u001b[0;34m=\u001b[0m \u001b[0mdict\u001b[0m\u001b[0;34m(\u001b[0m\u001b[0mvocabulary\u001b[0m\u001b[0;34m)\u001b[0m\u001b[0;34m\u001b[0m\u001b[0;34m\u001b[0m\u001b[0m\n\u001b[1;32m   1293\u001b[0m             \u001b[0;32mif\u001b[0m \u001b[0;32mnot\u001b[0m \u001b[0mvocabulary\u001b[0m\u001b[0;34m:\u001b[0m\u001b[0;34m\u001b[0m\u001b[0;34m\u001b[0m\u001b[0m\n\u001b[0;32m-> 1294\u001b[0;31m                 raise ValueError(\n\u001b[0m\u001b[1;32m   1295\u001b[0m                     \u001b[0;34m\"empty vocabulary; perhaps the documents only contain stop words\"\u001b[0m\u001b[0;34m\u001b[0m\u001b[0;34m\u001b[0m\u001b[0m\n\u001b[1;32m   1296\u001b[0m                 )\n",
            "\u001b[0;31mValueError\u001b[0m: empty vocabulary; perhaps the documents only contain stop words"
          ]
        }
      ]
    },
    {
      "cell_type": "code",
      "source": [
        "nmf_topics[0:20]"
      ],
      "metadata": {
        "colab": {
          "base_uri": "https://localhost:8080/"
        },
        "id": "Ql5nFOBvrJeg",
        "outputId": "92e93128-bc58-4fb8-a90d-23a86bbae529"
      },
      "execution_count": null,
      "outputs": [
        {
          "output_type": "execute_result",
          "data": {
            "text/plain": [
              "['downside,chip,restaurant,salsa,food,place,outstanding,mexican,meal,star',\n",
              " 'chile,relleno,got,order,water,plate,minute,waitress,taco,food',\n",
              " 'easily,experience,food,friday,great,wife,clean,enchilada,good,nice',\n",
              " 'good,friendly,favorite,enchilada,clearly,chicken,carne,brownsburg,hubby,working',\n",
              " 'delicious,generous,great,lot,menu,mexican,portion,restaurant,service,food',\n",
              " 'husband,end,fajitas,food,service,meal,check,better,ask,came',\n",
              " 'dish,decor,decent,clean,increased,waiter,mexican,nice,price,food',\n",
              " 'authentic,bad,food,mexican,price,good',\n",
              " 'margarita,pay,rate,star,told,unfortunately,worst,alcohol,place,yes',\n",
              " 'disappointed,eaten,fajitas,finish,gone,cooking,time,anymore,husband,food',\n",
              " 'food,great,dipping,pretty,small,waiting,big,love,restaurant,mexican',\n",
              " 'daily,drink,good,great,mx,price,restaurant,special',\n",
              " 'carnitas,chip,eaten,fantastic,food,good,great,pretty,salsa,time',\n",
              " 'minute,party,poor,seated,service,time,took,wo,extremely,food',\n",
              " 'place,restaurant,staff,suggests,try,variety,wait,wall,excellent,food',\n",
              " 'chip,exceptionally,good,dinner,walked,promptly,service,food,table,love',\n",
              " 'great,horchata,hovering,huge,lack,location,wanted,time,place,food',\n",
              " 'chip,burrito,bowl,asking,huge,visit,great,person,salsa,sunday',\n",
              " 'delivery,covid,bring,assuming,area,advance,way,world,food,bad',\n",
              " 'lady,lot,love,meal,expensive,food,tonight,coupon,ask,time']"
            ]
          },
          "metadata": {},
          "execution_count": 65
        }
      ]
    }
  ]
}
