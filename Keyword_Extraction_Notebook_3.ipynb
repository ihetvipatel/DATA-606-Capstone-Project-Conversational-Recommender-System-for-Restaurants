{
  "cells": [
    {
      "cell_type": "markdown",
      "metadata": {
        "id": "guv7ah9atAfy"
      },
      "source": [
        "### **Connecting to Google Drive and Importing Libraries**"
      ]
    },
    {
      "cell_type": "code",
      "execution_count": 1,
      "metadata": {
        "colab": {
          "base_uri": "https://localhost:8080/"
        },
        "id": "77O80xsq4k5i",
        "outputId": "5f8d6597-2692-4fa1-a344-0d8676cf0fe7"
      },
      "outputs": [
        {
          "output_type": "stream",
          "name": "stdout",
          "text": [
            "Mounted at /content/drive\n",
            "/content\n"
          ]
        }
      ],
      "source": [
        "# Mounting drive to our 'Data_606_Capstone' folder \n",
        "\n",
        "from google.colab import drive\n",
        "drive.mount(\"/content/drive\", force_remount=True)\n",
        "!pwd"
      ]
    },
    {
      "cell_type": "code",
      "execution_count": 2,
      "metadata": {
        "id": "n7W2ej__4qIG"
      },
      "outputs": [],
      "source": [
        "#Importing Libraries\n",
        "\n",
        "import pandas as pd\n",
        "import numpy as np\n",
        "import matplotlib.pyplot as plt\n",
        "import seaborn as sns\n",
        "import json\n",
        "import numpy as np"
      ]
    },
    {
      "cell_type": "markdown",
      "metadata": {
        "id": "KqPwy6TNtIOw"
      },
      "source": [
        "### **Reading and Previewing Dataframe**"
      ]
    },
    {
      "cell_type": "markdown",
      "metadata": {
        "id": "_mw2XF1j2MR9"
      },
      "source": [
        "This CSV file contains merged datapoints from 'Business' and 'Review' datasets. We merged and converted file from JSON to CSV so we can modify easily using Pandas. "
      ]
    },
    {
      "cell_type": "code",
      "execution_count": 3,
      "metadata": {
        "id": "uJWxp6WN4y6z"
      },
      "outputs": [],
      "source": [
        "# Reading 'Review' dataset in CSV Format \n",
        "\n",
        "yelp_biz_review = pd.read_parquet(\"drive/My Drive/TEMP Merged code and files/yelp_merged_food_tenth.parquet\")"
      ]
    },
    {
      "cell_type": "code",
      "source": [
        "yelp_biz_review"
      ],
      "metadata": {
        "colab": {
          "base_uri": "https://localhost:8080/",
          "height": 1000
        },
        "id": "M9jbX2zVJGAO",
        "outputId": "87ad4134-b81c-44bd-8763-39d1f4cb96e4"
      },
      "execution_count": 4,
      "outputs": [
        {
          "output_type": "execute_result",
          "data": {
            "text/plain": [
              "                   business_id                                     name  \\\n",
              "0       VME7Zez9J-FL7cy2H_eIdA                           Branco's Pizza   \n",
              "1       VME7Zez9J-FL7cy2H_eIdA                           Branco's Pizza   \n",
              "2       VME7Zez9J-FL7cy2H_eIdA                           Branco's Pizza   \n",
              "3       VME7Zez9J-FL7cy2H_eIdA                           Branco's Pizza   \n",
              "4       VME7Zez9J-FL7cy2H_eIdA                           Branco's Pizza   \n",
              "...                        ...                                      ...   \n",
              "415061  TZEfDSO2wRC6df4MIsQPsg  Zaxby's Chicken Fingers & Buffalo Wings   \n",
              "415062  TZEfDSO2wRC6df4MIsQPsg  Zaxby's Chicken Fingers & Buffalo Wings   \n",
              "415063  TZEfDSO2wRC6df4MIsQPsg  Zaxby's Chicken Fingers & Buffalo Wings   \n",
              "415064  TZEfDSO2wRC6df4MIsQPsg  Zaxby's Chicken Fingers & Buffalo Wings   \n",
              "415065  TZEfDSO2wRC6df4MIsQPsg  Zaxby's Chicken Fingers & Buffalo Wings   \n",
              "\n",
              "                 address          city state postal_code   latitude  \\\n",
              "0          428 Stokes Rd       Medford    NJ       08055  39.876084   \n",
              "1          428 Stokes Rd       Medford    NJ       08055  39.876084   \n",
              "2          428 Stokes Rd       Medford    NJ       08055  39.876084   \n",
              "3          428 Stokes Rd       Medford    NJ       08055  39.876084   \n",
              "4          428 Stokes Rd       Medford    NJ       08055  39.876084   \n",
              "...                  ...           ...   ...         ...        ...   \n",
              "415061  8810 Wesleyan Rd  Indianapolis    IN       46268  39.913988   \n",
              "415062  8810 Wesleyan Rd  Indianapolis    IN       46268  39.913988   \n",
              "415063  8810 Wesleyan Rd  Indianapolis    IN       46268  39.913988   \n",
              "415064  8810 Wesleyan Rd  Indianapolis    IN       46268  39.913988   \n",
              "415065  8810 Wesleyan Rd  Indianapolis    IN       46268  39.913988   \n",
              "\n",
              "        longitude  stars_bus  review_count  ...  \\\n",
              "0      -74.816911        3.5            24  ...   \n",
              "1      -74.816911        3.5            24  ...   \n",
              "2      -74.816911        3.5            24  ...   \n",
              "3      -74.816911        3.5            24  ...   \n",
              "4      -74.816911        3.5            24  ...   \n",
              "...           ...        ...           ...  ...   \n",
              "415061 -86.223147        3.0            79  ...   \n",
              "415062 -86.223147        3.0            79  ...   \n",
              "415063 -86.223147        3.0            79  ...   \n",
              "415064 -86.223147        3.0            79  ...   \n",
              "415065 -86.223147        3.0            79  ...   \n",
              "\n",
              "                                               attributes  \\\n",
              "0       {'AcceptsInsurance': None, 'AgesAllowed': None...   \n",
              "1       {'AcceptsInsurance': None, 'AgesAllowed': None...   \n",
              "2       {'AcceptsInsurance': None, 'AgesAllowed': None...   \n",
              "3       {'AcceptsInsurance': None, 'AgesAllowed': None...   \n",
              "4       {'AcceptsInsurance': None, 'AgesAllowed': None...   \n",
              "...                                                   ...   \n",
              "415061  {'AcceptsInsurance': None, 'AgesAllowed': None...   \n",
              "415062  {'AcceptsInsurance': None, 'AgesAllowed': None...   \n",
              "415063  {'AcceptsInsurance': None, 'AgesAllowed': None...   \n",
              "415064  {'AcceptsInsurance': None, 'AgesAllowed': None...   \n",
              "415065  {'AcceptsInsurance': None, 'AgesAllowed': None...   \n",
              "\n",
              "                                          categories               review_id  \\\n",
              "0            Italian, Sandwiches, Pizza, Restaurants  iDQ5_1nNKi8eP_Jmg-H0nQ   \n",
              "1            Italian, Sandwiches, Pizza, Restaurants  VzBUyylMGwAS06tHGQgMPg   \n",
              "2            Italian, Sandwiches, Pizza, Restaurants  7xwJOw-MlHkokFH3q14XSA   \n",
              "3            Italian, Sandwiches, Pizza, Restaurants  _HSQfjwRb0Xo0DP-_p4IEw   \n",
              "4            Italian, Sandwiches, Pizza, Restaurants  jQ6nIsngp_49lzudG4UjDA   \n",
              "...                                              ...                     ...   \n",
              "415061  Chicken Wings, Fast Food, Restaurants, Salad  oAQOBQBlJU8m2S124kKCuw   \n",
              "415062  Chicken Wings, Fast Food, Restaurants, Salad  _rSEFp9qV6zoIK03HM_vUw   \n",
              "415063  Chicken Wings, Fast Food, Restaurants, Salad  _zaYZbsb1OwFoqJNTm1BuA   \n",
              "415064  Chicken Wings, Fast Food, Restaurants, Salad  h9FooUsFrffmHysOJGP9MA   \n",
              "415065  Chicken Wings, Fast Food, Restaurants, Salad  yO4wUTzmkmQ7AITjwZpNqA   \n",
              "\n",
              "                       user_id stars_rev  useful  funny  cool  \\\n",
              "0       eN8tvWTA0JTjHAKTDA4nJQ         5       0      0     0   \n",
              "1       8sOO-SmQjlZ6ZjIcT3na_Q         2       0      0     0   \n",
              "2       HKqyy_Lranv7_8eUFu80xQ         3       1      1     1   \n",
              "3       QVby2V284huDCDY6GOdL9Q         5       0      0     0   \n",
              "4       XUos3vImZ6uz2ByFbu2AWw         3       0      0     0   \n",
              "...                        ...       ...     ...    ...   ...   \n",
              "415061  iJnzniiM5pTcD0b5PneTfg         4       1      0     2   \n",
              "415062  oqgc6uPpV1g7uwrWQzcV2Q         4       0      1     0   \n",
              "415063  dbLz7YfH5Fy6AAB-5-vDyA         3       3      0     0   \n",
              "415064  S9IMF5MkJR949hZtn88X4Q         4       0      0     0   \n",
              "415065  DsBghdbpxFIAl6jApweRaQ         3       2      0     0   \n",
              "\n",
              "                                                     text                 date  \n",
              "0       Their pizza is just like you'd get on the boar...  2015-07-17 16:28:45  \n",
              "1       Good food but get a 1 star for the price . Pai...  2014-11-01 00:40:29  \n",
              "2       Wandered in here by chance, first pizza place ...  2014-10-15 00:50:16  \n",
              "3       Best pizza in Medford!  Always consistent and ...  2018-10-02 22:31:19  \n",
              "4       I just stop in for the slices.  I prefer the s...  2011-03-02 17:43:55  \n",
              "...                                                   ...                  ...  \n",
              "415061  I think this is my third visit to a Zaxby's (t...  2017-07-11 00:58:19  \n",
              "415062  I came here with my sister and mom. Very clean...  2019-02-10 17:40:21  \n",
              "415063  Can't complain much about my 7$ wing combo mea...  2016-03-18 14:53:46  \n",
              "415064  First time here and very impressed. Had the ch...  2016-08-28 18:03:50  \n",
              "415065  I've had Zaxby's here one other time prior to ...  2019-01-21 15:21:16  \n",
              "\n",
              "[415066 rows x 21 columns]"
            ],
            "text/html": [
              "\n",
              "  <div id=\"df-8fe17d05-e8ef-40b2-bd83-08653f589be6\">\n",
              "    <div class=\"colab-df-container\">\n",
              "      <div>\n",
              "<style scoped>\n",
              "    .dataframe tbody tr th:only-of-type {\n",
              "        vertical-align: middle;\n",
              "    }\n",
              "\n",
              "    .dataframe tbody tr th {\n",
              "        vertical-align: top;\n",
              "    }\n",
              "\n",
              "    .dataframe thead th {\n",
              "        text-align: right;\n",
              "    }\n",
              "</style>\n",
              "<table border=\"1\" class=\"dataframe\">\n",
              "  <thead>\n",
              "    <tr style=\"text-align: right;\">\n",
              "      <th></th>\n",
              "      <th>business_id</th>\n",
              "      <th>name</th>\n",
              "      <th>address</th>\n",
              "      <th>city</th>\n",
              "      <th>state</th>\n",
              "      <th>postal_code</th>\n",
              "      <th>latitude</th>\n",
              "      <th>longitude</th>\n",
              "      <th>stars_bus</th>\n",
              "      <th>review_count</th>\n",
              "      <th>...</th>\n",
              "      <th>attributes</th>\n",
              "      <th>categories</th>\n",
              "      <th>review_id</th>\n",
              "      <th>user_id</th>\n",
              "      <th>stars_rev</th>\n",
              "      <th>useful</th>\n",
              "      <th>funny</th>\n",
              "      <th>cool</th>\n",
              "      <th>text</th>\n",
              "      <th>date</th>\n",
              "    </tr>\n",
              "  </thead>\n",
              "  <tbody>\n",
              "    <tr>\n",
              "      <th>0</th>\n",
              "      <td>VME7Zez9J-FL7cy2H_eIdA</td>\n",
              "      <td>Branco's Pizza</td>\n",
              "      <td>428 Stokes Rd</td>\n",
              "      <td>Medford</td>\n",
              "      <td>NJ</td>\n",
              "      <td>08055</td>\n",
              "      <td>39.876084</td>\n",
              "      <td>-74.816911</td>\n",
              "      <td>3.5</td>\n",
              "      <td>24</td>\n",
              "      <td>...</td>\n",
              "      <td>{'AcceptsInsurance': None, 'AgesAllowed': None...</td>\n",
              "      <td>Italian, Sandwiches, Pizza, Restaurants</td>\n",
              "      <td>iDQ5_1nNKi8eP_Jmg-H0nQ</td>\n",
              "      <td>eN8tvWTA0JTjHAKTDA4nJQ</td>\n",
              "      <td>5</td>\n",
              "      <td>0</td>\n",
              "      <td>0</td>\n",
              "      <td>0</td>\n",
              "      <td>Their pizza is just like you'd get on the boar...</td>\n",
              "      <td>2015-07-17 16:28:45</td>\n",
              "    </tr>\n",
              "    <tr>\n",
              "      <th>1</th>\n",
              "      <td>VME7Zez9J-FL7cy2H_eIdA</td>\n",
              "      <td>Branco's Pizza</td>\n",
              "      <td>428 Stokes Rd</td>\n",
              "      <td>Medford</td>\n",
              "      <td>NJ</td>\n",
              "      <td>08055</td>\n",
              "      <td>39.876084</td>\n",
              "      <td>-74.816911</td>\n",
              "      <td>3.5</td>\n",
              "      <td>24</td>\n",
              "      <td>...</td>\n",
              "      <td>{'AcceptsInsurance': None, 'AgesAllowed': None...</td>\n",
              "      <td>Italian, Sandwiches, Pizza, Restaurants</td>\n",
              "      <td>VzBUyylMGwAS06tHGQgMPg</td>\n",
              "      <td>8sOO-SmQjlZ6ZjIcT3na_Q</td>\n",
              "      <td>2</td>\n",
              "      <td>0</td>\n",
              "      <td>0</td>\n",
              "      <td>0</td>\n",
              "      <td>Good food but get a 1 star for the price . Pai...</td>\n",
              "      <td>2014-11-01 00:40:29</td>\n",
              "    </tr>\n",
              "    <tr>\n",
              "      <th>2</th>\n",
              "      <td>VME7Zez9J-FL7cy2H_eIdA</td>\n",
              "      <td>Branco's Pizza</td>\n",
              "      <td>428 Stokes Rd</td>\n",
              "      <td>Medford</td>\n",
              "      <td>NJ</td>\n",
              "      <td>08055</td>\n",
              "      <td>39.876084</td>\n",
              "      <td>-74.816911</td>\n",
              "      <td>3.5</td>\n",
              "      <td>24</td>\n",
              "      <td>...</td>\n",
              "      <td>{'AcceptsInsurance': None, 'AgesAllowed': None...</td>\n",
              "      <td>Italian, Sandwiches, Pizza, Restaurants</td>\n",
              "      <td>7xwJOw-MlHkokFH3q14XSA</td>\n",
              "      <td>HKqyy_Lranv7_8eUFu80xQ</td>\n",
              "      <td>3</td>\n",
              "      <td>1</td>\n",
              "      <td>1</td>\n",
              "      <td>1</td>\n",
              "      <td>Wandered in here by chance, first pizza place ...</td>\n",
              "      <td>2014-10-15 00:50:16</td>\n",
              "    </tr>\n",
              "    <tr>\n",
              "      <th>3</th>\n",
              "      <td>VME7Zez9J-FL7cy2H_eIdA</td>\n",
              "      <td>Branco's Pizza</td>\n",
              "      <td>428 Stokes Rd</td>\n",
              "      <td>Medford</td>\n",
              "      <td>NJ</td>\n",
              "      <td>08055</td>\n",
              "      <td>39.876084</td>\n",
              "      <td>-74.816911</td>\n",
              "      <td>3.5</td>\n",
              "      <td>24</td>\n",
              "      <td>...</td>\n",
              "      <td>{'AcceptsInsurance': None, 'AgesAllowed': None...</td>\n",
              "      <td>Italian, Sandwiches, Pizza, Restaurants</td>\n",
              "      <td>_HSQfjwRb0Xo0DP-_p4IEw</td>\n",
              "      <td>QVby2V284huDCDY6GOdL9Q</td>\n",
              "      <td>5</td>\n",
              "      <td>0</td>\n",
              "      <td>0</td>\n",
              "      <td>0</td>\n",
              "      <td>Best pizza in Medford!  Always consistent and ...</td>\n",
              "      <td>2018-10-02 22:31:19</td>\n",
              "    </tr>\n",
              "    <tr>\n",
              "      <th>4</th>\n",
              "      <td>VME7Zez9J-FL7cy2H_eIdA</td>\n",
              "      <td>Branco's Pizza</td>\n",
              "      <td>428 Stokes Rd</td>\n",
              "      <td>Medford</td>\n",
              "      <td>NJ</td>\n",
              "      <td>08055</td>\n",
              "      <td>39.876084</td>\n",
              "      <td>-74.816911</td>\n",
              "      <td>3.5</td>\n",
              "      <td>24</td>\n",
              "      <td>...</td>\n",
              "      <td>{'AcceptsInsurance': None, 'AgesAllowed': None...</td>\n",
              "      <td>Italian, Sandwiches, Pizza, Restaurants</td>\n",
              "      <td>jQ6nIsngp_49lzudG4UjDA</td>\n",
              "      <td>XUos3vImZ6uz2ByFbu2AWw</td>\n",
              "      <td>3</td>\n",
              "      <td>0</td>\n",
              "      <td>0</td>\n",
              "      <td>0</td>\n",
              "      <td>I just stop in for the slices.  I prefer the s...</td>\n",
              "      <td>2011-03-02 17:43:55</td>\n",
              "    </tr>\n",
              "    <tr>\n",
              "      <th>...</th>\n",
              "      <td>...</td>\n",
              "      <td>...</td>\n",
              "      <td>...</td>\n",
              "      <td>...</td>\n",
              "      <td>...</td>\n",
              "      <td>...</td>\n",
              "      <td>...</td>\n",
              "      <td>...</td>\n",
              "      <td>...</td>\n",
              "      <td>...</td>\n",
              "      <td>...</td>\n",
              "      <td>...</td>\n",
              "      <td>...</td>\n",
              "      <td>...</td>\n",
              "      <td>...</td>\n",
              "      <td>...</td>\n",
              "      <td>...</td>\n",
              "      <td>...</td>\n",
              "      <td>...</td>\n",
              "      <td>...</td>\n",
              "      <td>...</td>\n",
              "    </tr>\n",
              "    <tr>\n",
              "      <th>415061</th>\n",
              "      <td>TZEfDSO2wRC6df4MIsQPsg</td>\n",
              "      <td>Zaxby's Chicken Fingers &amp; Buffalo Wings</td>\n",
              "      <td>8810 Wesleyan Rd</td>\n",
              "      <td>Indianapolis</td>\n",
              "      <td>IN</td>\n",
              "      <td>46268</td>\n",
              "      <td>39.913988</td>\n",
              "      <td>-86.223147</td>\n",
              "      <td>3.0</td>\n",
              "      <td>79</td>\n",
              "      <td>...</td>\n",
              "      <td>{'AcceptsInsurance': None, 'AgesAllowed': None...</td>\n",
              "      <td>Chicken Wings, Fast Food, Restaurants, Salad</td>\n",
              "      <td>oAQOBQBlJU8m2S124kKCuw</td>\n",
              "      <td>iJnzniiM5pTcD0b5PneTfg</td>\n",
              "      <td>4</td>\n",
              "      <td>1</td>\n",
              "      <td>0</td>\n",
              "      <td>2</td>\n",
              "      <td>I think this is my third visit to a Zaxby's (t...</td>\n",
              "      <td>2017-07-11 00:58:19</td>\n",
              "    </tr>\n",
              "    <tr>\n",
              "      <th>415062</th>\n",
              "      <td>TZEfDSO2wRC6df4MIsQPsg</td>\n",
              "      <td>Zaxby's Chicken Fingers &amp; Buffalo Wings</td>\n",
              "      <td>8810 Wesleyan Rd</td>\n",
              "      <td>Indianapolis</td>\n",
              "      <td>IN</td>\n",
              "      <td>46268</td>\n",
              "      <td>39.913988</td>\n",
              "      <td>-86.223147</td>\n",
              "      <td>3.0</td>\n",
              "      <td>79</td>\n",
              "      <td>...</td>\n",
              "      <td>{'AcceptsInsurance': None, 'AgesAllowed': None...</td>\n",
              "      <td>Chicken Wings, Fast Food, Restaurants, Salad</td>\n",
              "      <td>_rSEFp9qV6zoIK03HM_vUw</td>\n",
              "      <td>oqgc6uPpV1g7uwrWQzcV2Q</td>\n",
              "      <td>4</td>\n",
              "      <td>0</td>\n",
              "      <td>1</td>\n",
              "      <td>0</td>\n",
              "      <td>I came here with my sister and mom. Very clean...</td>\n",
              "      <td>2019-02-10 17:40:21</td>\n",
              "    </tr>\n",
              "    <tr>\n",
              "      <th>415063</th>\n",
              "      <td>TZEfDSO2wRC6df4MIsQPsg</td>\n",
              "      <td>Zaxby's Chicken Fingers &amp; Buffalo Wings</td>\n",
              "      <td>8810 Wesleyan Rd</td>\n",
              "      <td>Indianapolis</td>\n",
              "      <td>IN</td>\n",
              "      <td>46268</td>\n",
              "      <td>39.913988</td>\n",
              "      <td>-86.223147</td>\n",
              "      <td>3.0</td>\n",
              "      <td>79</td>\n",
              "      <td>...</td>\n",
              "      <td>{'AcceptsInsurance': None, 'AgesAllowed': None...</td>\n",
              "      <td>Chicken Wings, Fast Food, Restaurants, Salad</td>\n",
              "      <td>_zaYZbsb1OwFoqJNTm1BuA</td>\n",
              "      <td>dbLz7YfH5Fy6AAB-5-vDyA</td>\n",
              "      <td>3</td>\n",
              "      <td>3</td>\n",
              "      <td>0</td>\n",
              "      <td>0</td>\n",
              "      <td>Can't complain much about my 7$ wing combo mea...</td>\n",
              "      <td>2016-03-18 14:53:46</td>\n",
              "    </tr>\n",
              "    <tr>\n",
              "      <th>415064</th>\n",
              "      <td>TZEfDSO2wRC6df4MIsQPsg</td>\n",
              "      <td>Zaxby's Chicken Fingers &amp; Buffalo Wings</td>\n",
              "      <td>8810 Wesleyan Rd</td>\n",
              "      <td>Indianapolis</td>\n",
              "      <td>IN</td>\n",
              "      <td>46268</td>\n",
              "      <td>39.913988</td>\n",
              "      <td>-86.223147</td>\n",
              "      <td>3.0</td>\n",
              "      <td>79</td>\n",
              "      <td>...</td>\n",
              "      <td>{'AcceptsInsurance': None, 'AgesAllowed': None...</td>\n",
              "      <td>Chicken Wings, Fast Food, Restaurants, Salad</td>\n",
              "      <td>h9FooUsFrffmHysOJGP9MA</td>\n",
              "      <td>S9IMF5MkJR949hZtn88X4Q</td>\n",
              "      <td>4</td>\n",
              "      <td>0</td>\n",
              "      <td>0</td>\n",
              "      <td>0</td>\n",
              "      <td>First time here and very impressed. Had the ch...</td>\n",
              "      <td>2016-08-28 18:03:50</td>\n",
              "    </tr>\n",
              "    <tr>\n",
              "      <th>415065</th>\n",
              "      <td>TZEfDSO2wRC6df4MIsQPsg</td>\n",
              "      <td>Zaxby's Chicken Fingers &amp; Buffalo Wings</td>\n",
              "      <td>8810 Wesleyan Rd</td>\n",
              "      <td>Indianapolis</td>\n",
              "      <td>IN</td>\n",
              "      <td>46268</td>\n",
              "      <td>39.913988</td>\n",
              "      <td>-86.223147</td>\n",
              "      <td>3.0</td>\n",
              "      <td>79</td>\n",
              "      <td>...</td>\n",
              "      <td>{'AcceptsInsurance': None, 'AgesAllowed': None...</td>\n",
              "      <td>Chicken Wings, Fast Food, Restaurants, Salad</td>\n",
              "      <td>yO4wUTzmkmQ7AITjwZpNqA</td>\n",
              "      <td>DsBghdbpxFIAl6jApweRaQ</td>\n",
              "      <td>3</td>\n",
              "      <td>2</td>\n",
              "      <td>0</td>\n",
              "      <td>0</td>\n",
              "      <td>I've had Zaxby's here one other time prior to ...</td>\n",
              "      <td>2019-01-21 15:21:16</td>\n",
              "    </tr>\n",
              "  </tbody>\n",
              "</table>\n",
              "<p>415066 rows × 21 columns</p>\n",
              "</div>\n",
              "      <button class=\"colab-df-convert\" onclick=\"convertToInteractive('df-8fe17d05-e8ef-40b2-bd83-08653f589be6')\"\n",
              "              title=\"Convert this dataframe to an interactive table.\"\n",
              "              style=\"display:none;\">\n",
              "        \n",
              "  <svg xmlns=\"http://www.w3.org/2000/svg\" height=\"24px\"viewBox=\"0 0 24 24\"\n",
              "       width=\"24px\">\n",
              "    <path d=\"M0 0h24v24H0V0z\" fill=\"none\"/>\n",
              "    <path d=\"M18.56 5.44l.94 2.06.94-2.06 2.06-.94-2.06-.94-.94-2.06-.94 2.06-2.06.94zm-11 1L8.5 8.5l.94-2.06 2.06-.94-2.06-.94L8.5 2.5l-.94 2.06-2.06.94zm10 10l.94 2.06.94-2.06 2.06-.94-2.06-.94-.94-2.06-.94 2.06-2.06.94z\"/><path d=\"M17.41 7.96l-1.37-1.37c-.4-.4-.92-.59-1.43-.59-.52 0-1.04.2-1.43.59L10.3 9.45l-7.72 7.72c-.78.78-.78 2.05 0 2.83L4 21.41c.39.39.9.59 1.41.59.51 0 1.02-.2 1.41-.59l7.78-7.78 2.81-2.81c.8-.78.8-2.07 0-2.86zM5.41 20L4 18.59l7.72-7.72 1.47 1.35L5.41 20z\"/>\n",
              "  </svg>\n",
              "      </button>\n",
              "      \n",
              "  <style>\n",
              "    .colab-df-container {\n",
              "      display:flex;\n",
              "      flex-wrap:wrap;\n",
              "      gap: 12px;\n",
              "    }\n",
              "\n",
              "    .colab-df-convert {\n",
              "      background-color: #E8F0FE;\n",
              "      border: none;\n",
              "      border-radius: 50%;\n",
              "      cursor: pointer;\n",
              "      display: none;\n",
              "      fill: #1967D2;\n",
              "      height: 32px;\n",
              "      padding: 0 0 0 0;\n",
              "      width: 32px;\n",
              "    }\n",
              "\n",
              "    .colab-df-convert:hover {\n",
              "      background-color: #E2EBFA;\n",
              "      box-shadow: 0px 1px 2px rgba(60, 64, 67, 0.3), 0px 1px 3px 1px rgba(60, 64, 67, 0.15);\n",
              "      fill: #174EA6;\n",
              "    }\n",
              "\n",
              "    [theme=dark] .colab-df-convert {\n",
              "      background-color: #3B4455;\n",
              "      fill: #D2E3FC;\n",
              "    }\n",
              "\n",
              "    [theme=dark] .colab-df-convert:hover {\n",
              "      background-color: #434B5C;\n",
              "      box-shadow: 0px 1px 3px 1px rgba(0, 0, 0, 0.15);\n",
              "      filter: drop-shadow(0px 1px 2px rgba(0, 0, 0, 0.3));\n",
              "      fill: #FFFFFF;\n",
              "    }\n",
              "  </style>\n",
              "\n",
              "      <script>\n",
              "        const buttonEl =\n",
              "          document.querySelector('#df-8fe17d05-e8ef-40b2-bd83-08653f589be6 button.colab-df-convert');\n",
              "        buttonEl.style.display =\n",
              "          google.colab.kernel.accessAllowed ? 'block' : 'none';\n",
              "\n",
              "        async function convertToInteractive(key) {\n",
              "          const element = document.querySelector('#df-8fe17d05-e8ef-40b2-bd83-08653f589be6');\n",
              "          const dataTable =\n",
              "            await google.colab.kernel.invokeFunction('convertToInteractive',\n",
              "                                                     [key], {});\n",
              "          if (!dataTable) return;\n",
              "\n",
              "          const docLinkHtml = 'Like what you see? Visit the ' +\n",
              "            '<a target=\"_blank\" href=https://colab.research.google.com/notebooks/data_table.ipynb>data table notebook</a>'\n",
              "            + ' to learn more about interactive tables.';\n",
              "          element.innerHTML = '';\n",
              "          dataTable['output_type'] = 'display_data';\n",
              "          await google.colab.output.renderOutput(dataTable, element);\n",
              "          const docLink = document.createElement('div');\n",
              "          docLink.innerHTML = docLinkHtml;\n",
              "          element.appendChild(docLink);\n",
              "        }\n",
              "      </script>\n",
              "    </div>\n",
              "  </div>\n",
              "  "
            ]
          },
          "metadata": {},
          "execution_count": 4
        }
      ]
    },
    {
      "cell_type": "code",
      "execution_count": 5,
      "metadata": {
        "id": "-En3Zamo2yBx",
        "colab": {
          "base_uri": "https://localhost:8080/"
        },
        "outputId": "4dba3c1f-ee89-4557-e7b8-d4103be31b0b"
      },
      "outputs": [
        {
          "output_type": "stream",
          "name": "stderr",
          "text": [
            "<ipython-input-5-2f03b69af916>:4: SettingWithCopyWarning: \n",
            "A value is trying to be set on a copy of a slice from a DataFrame.\n",
            "Try using .loc[row_indexer,col_indexer] = value instead\n",
            "\n",
            "See the caveats in the documentation: https://pandas.pydata.org/pandas-docs/stable/user_guide/indexing.html#returning-a-view-versus-a-copy\n",
            "  yelp_biz_review[\"review_count\"] = yelp_biz_review['review_count'].astype('int64')\n"
          ]
        }
      ],
      "source": [
        "#Dropping Null Values\n",
        "yelp_biz_review = yelp_biz_review.dropna() \n",
        "# Changing datatype for 'review_count' column to int64 from float64\n",
        "yelp_biz_review[\"review_count\"] = yelp_biz_review['review_count'].astype('int64')"
      ]
    },
    {
      "cell_type": "code",
      "execution_count": 6,
      "metadata": {
        "colab": {
          "base_uri": "https://localhost:8080/"
        },
        "id": "xnoJL0WxnY_m",
        "outputId": "a4ad186a-4764-4337-a70c-9ad2e69611b0"
      },
      "outputs": [
        {
          "output_type": "execute_result",
          "data": {
            "text/plain": [
              "414248"
            ]
          },
          "metadata": {},
          "execution_count": 6
        }
      ],
      "source": [
        "len(yelp_biz_review) #checking length of dataset"
      ]
    },
    {
      "cell_type": "markdown",
      "metadata": {
        "id": "8ACoaIoOqt3r"
      },
      "source": [
        "# Keywords"
      ]
    },
    {
      "cell_type": "code",
      "source": [
        "import nltk"
      ],
      "metadata": {
        "id": "ci2ghGqfSAoq"
      },
      "execution_count": 7,
      "outputs": []
    },
    {
      "cell_type": "code",
      "source": [
        "import string"
      ],
      "metadata": {
        "id": "FLHguak4ZKMy"
      },
      "execution_count": 21,
      "outputs": []
    },
    {
      "cell_type": "code",
      "source": [
        "nltk.download(\"stopwords\")"
      ],
      "metadata": {
        "colab": {
          "base_uri": "https://localhost:8080/"
        },
        "id": "yhB2OHkkSNTf",
        "outputId": "64235e9a-4b4a-45a8-b060-b6ab7c80d310"
      },
      "execution_count": 8,
      "outputs": [
        {
          "output_type": "stream",
          "name": "stderr",
          "text": [
            "[nltk_data] Downloading package stopwords to /root/nltk_data...\n",
            "[nltk_data]   Unzipping corpora/stopwords.zip.\n"
          ]
        },
        {
          "output_type": "execute_result",
          "data": {
            "text/plain": [
              "True"
            ]
          },
          "metadata": {},
          "execution_count": 8
        }
      ]
    },
    {
      "cell_type": "code",
      "source": [
        "pip install rake-nltk"
      ],
      "metadata": {
        "colab": {
          "base_uri": "https://localhost:8080/"
        },
        "id": "zhZ2r2xnSOlG",
        "outputId": "e5a4e7da-6c0c-4c36-84da-d848e678c858"
      },
      "execution_count": 9,
      "outputs": [
        {
          "output_type": "stream",
          "name": "stdout",
          "text": [
            "Looking in indexes: https://pypi.org/simple, https://us-python.pkg.dev/colab-wheels/public/simple/\n",
            "Collecting rake-nltk\n",
            "  Downloading rake_nltk-1.0.6-py3-none-any.whl (9.1 kB)\n",
            "Requirement already satisfied: nltk<4.0.0,>=3.6.2 in /usr/local/lib/python3.9/dist-packages (from rake-nltk) (3.8.1)\n",
            "Requirement already satisfied: tqdm in /usr/local/lib/python3.9/dist-packages (from nltk<4.0.0,>=3.6.2->rake-nltk) (4.65.0)\n",
            "Requirement already satisfied: regex>=2021.8.3 in /usr/local/lib/python3.9/dist-packages (from nltk<4.0.0,>=3.6.2->rake-nltk) (2022.10.31)\n",
            "Requirement already satisfied: joblib in /usr/local/lib/python3.9/dist-packages (from nltk<4.0.0,>=3.6.2->rake-nltk) (1.1.1)\n",
            "Requirement already satisfied: click in /usr/local/lib/python3.9/dist-packages (from nltk<4.0.0,>=3.6.2->rake-nltk) (8.1.3)\n",
            "Installing collected packages: rake-nltk\n",
            "Successfully installed rake-nltk-1.0.6\n"
          ]
        }
      ]
    },
    {
      "cell_type": "code",
      "source": [
        "nltk.download('punkt')"
      ],
      "metadata": {
        "colab": {
          "base_uri": "https://localhost:8080/"
        },
        "id": "DwTVW511SQ4O",
        "outputId": "7b9688e8-4d98-45ef-e2df-dbe3ada6bdba"
      },
      "execution_count": 10,
      "outputs": [
        {
          "output_type": "stream",
          "name": "stderr",
          "text": [
            "[nltk_data] Downloading package punkt to /root/nltk_data...\n",
            "[nltk_data]   Unzipping tokenizers/punkt.zip.\n"
          ]
        },
        {
          "output_type": "execute_result",
          "data": {
            "text/plain": [
              "True"
            ]
          },
          "metadata": {},
          "execution_count": 10
        }
      ]
    },
    {
      "cell_type": "code",
      "source": [
        "pip install num2words"
      ],
      "metadata": {
        "colab": {
          "base_uri": "https://localhost:8080/"
        },
        "id": "52Vfvbpibx3P",
        "outputId": "7376d368-265a-44ba-a2e8-3d6cb41c723c"
      },
      "execution_count": 25,
      "outputs": [
        {
          "output_type": "stream",
          "name": "stdout",
          "text": [
            "Looking in indexes: https://pypi.org/simple, https://us-python.pkg.dev/colab-wheels/public/simple/\n",
            "Collecting num2words\n",
            "  Downloading num2words-0.5.12-py3-none-any.whl (125 kB)\n",
            "\u001b[2K     \u001b[90m━━━━━━━━━━━━━━━━━━━━━━━━━━━━━━━━━━━━━━━\u001b[0m \u001b[32m125.2/125.2 kB\u001b[0m \u001b[31m3.2 MB/s\u001b[0m eta \u001b[36m0:00:00\u001b[0m\n",
            "\u001b[?25hCollecting docopt>=0.6.2\n",
            "  Downloading docopt-0.6.2.tar.gz (25 kB)\n",
            "  Preparing metadata (setup.py) ... \u001b[?25l\u001b[?25hdone\n",
            "Building wheels for collected packages: docopt\n",
            "  Building wheel for docopt (setup.py) ... \u001b[?25l\u001b[?25hdone\n",
            "  Created wheel for docopt: filename=docopt-0.6.2-py2.py3-none-any.whl size=13721 sha256=72d7b5baefb35c065f14ee7833973388629d5d94ed7136fc9f310d4907909aed\n",
            "  Stored in directory: /root/.cache/pip/wheels/70/4a/46/1309fc853b8d395e60bafaf1b6df7845bdd82c95fd59dd8d2b\n",
            "Successfully built docopt\n",
            "Installing collected packages: docopt, num2words\n",
            "Successfully installed docopt-0.6.2 num2words-0.5.12\n"
          ]
        }
      ]
    },
    {
      "cell_type": "code",
      "source": [
        "from num2words import num2words"
      ],
      "metadata": {
        "id": "xDYE50Wyb1Ym"
      },
      "execution_count": 26,
      "outputs": []
    },
    {
      "cell_type": "code",
      "source": [
        "from rake_nltk import Rake"
      ],
      "metadata": {
        "id": "nwLelOa8SQuh"
      },
      "execution_count": 11,
      "outputs": []
    },
    {
      "cell_type": "code",
      "source": [
        "r=Rake()"
      ],
      "metadata": {
        "id": "HZ-D4HHtSW-_"
      },
      "execution_count": 106,
      "outputs": []
    },
    {
      "cell_type": "code",
      "source": [
        "keyword_s=[]\n",
        "for i in yelp_biz_review['text']:\n",
        "  r.extract_keywords_from_text(i)\n",
        "  keyword_s.append(r.get_ranked_phrases()[0:10])"
      ],
      "metadata": {
        "id": "D-uMNAtxSer5"
      },
      "execution_count": 182,
      "outputs": []
    },
    {
      "cell_type": "code",
      "source": [
        "l=[]\n",
        "count=0\n",
        "for i in keyword_s:\n",
        "  if len(i)==0:\n",
        "    l.append(count)\n",
        "  count+=1"
      ],
      "metadata": {
        "id": "kVU1V6nsT6Er"
      },
      "execution_count": 183,
      "outputs": []
    },
    {
      "cell_type": "code",
      "source": [
        "l"
      ],
      "metadata": {
        "colab": {
          "base_uri": "https://localhost:8080/"
        },
        "id": "csp5suCVUDQj",
        "outputId": "3dde4b05-63af-4aca-9c4c-4873188afeb8"
      },
      "execution_count": 184,
      "outputs": [
        {
          "output_type": "execute_result",
          "data": {
            "text/plain": [
              "[107526, 390752]"
            ]
          },
          "metadata": {},
          "execution_count": 184
        }
      ]
    },
    {
      "cell_type": "code",
      "source": [
        "for i in l:\n",
        "  r.extract_keywords_from_text(yelp_biz_review['text'][i])\n",
        "  keyword_s[i]=r.get_ranked_phrases()[0:10]"
      ],
      "metadata": {
        "id": "jWKPUxH4Wybc"
      },
      "execution_count": 185,
      "outputs": []
    },
    {
      "cell_type": "code",
      "source": [
        "l=[]\n",
        "count=0\n",
        "for i in keyword_s:\n",
        "  if len(i)==0:\n",
        "    l.append(count)\n",
        "  count+=1"
      ],
      "metadata": {
        "id": "UBFxizNXXOX-"
      },
      "execution_count": 186,
      "outputs": []
    },
    {
      "cell_type": "code",
      "source": [
        "l"
      ],
      "metadata": {
        "colab": {
          "base_uri": "https://localhost:8080/"
        },
        "id": "gJXPBYxXXRXT",
        "outputId": "816c8e8c-ce35-45dd-a2db-4e93702028f9"
      },
      "execution_count": 187,
      "outputs": [
        {
          "output_type": "execute_result",
          "data": {
            "text/plain": [
              "[]"
            ]
          },
          "metadata": {},
          "execution_count": 187
        }
      ]
    },
    {
      "cell_type": "code",
      "source": [
        "for i in range(len(keyword_s)):\n",
        "  kw=[]\n",
        "  for j in keyword_s[i]:\n",
        "    j.split(' ')\n",
        "    jlist=[]\n",
        "    for tok in j:\n",
        "      if tok in string.punctuation:\n",
        "        pass\n",
        "      else:\n",
        "        jlist.append(tok)\n",
        "    kw.append(''.join(jlist))\n",
        "  keyword_s[i]=kw"
      ],
      "metadata": {
        "id": "R1ar17ZvYxQA"
      },
      "execution_count": 188,
      "outputs": []
    },
    {
      "cell_type": "code",
      "source": [
        "yelp_df['text'][len(yelp_df)]"
      ],
      "metadata": {
        "colab": {
          "base_uri": "https://localhost:8080/",
          "height": 36
        },
        "id": "jKq9ItqbIrhU",
        "outputId": "43948807-83c3-4675-d9b5-272a82f116b9"
      },
      "execution_count": 189,
      "outputs": [
        {
          "output_type": "execute_result",
          "data": {
            "text/plain": [
              "\"My favorite sushi place to eat. Staff is always consistent and food is always amazing.. If you're not a sushi person this place is sure to turn you into one regardless!\""
            ],
            "application/vnd.google.colaboratory.intrinsic+json": {
              "type": "string"
            }
          },
          "metadata": {},
          "execution_count": 189
        }
      ]
    },
    {
      "cell_type": "code",
      "source": [
        "kw"
      ],
      "metadata": {
        "colab": {
          "base_uri": "https://localhost:8080/"
        },
        "id": "0LOmlIO5HwWC",
        "outputId": "41593587-556f-4a51-aa96-c6c387685e01"
      },
      "execution_count": 190,
      "outputs": [
        {
          "output_type": "execute_result",
          "data": {
            "text/plain": [
              "['eat inside due',\n",
              " 'walking inside',\n",
              " 'time prior',\n",
              " 'taste fresh',\n",
              " 'second time',\n",
              " 'pretty bummed',\n",
              " 'get passed',\n",
              " 'get checked',\n",
              " 'food cold',\n",
              " 'always receive']"
            ]
          },
          "metadata": {},
          "execution_count": 190
        }
      ]
    },
    {
      "cell_type": "code",
      "source": [
        "h='2'"
      ],
      "metadata": {
        "id": "5wz0p4bCKUgz"
      },
      "execution_count": 191,
      "outputs": []
    },
    {
      "cell_type": "code",
      "source": [
        "h.isalpha()"
      ],
      "metadata": {
        "colab": {
          "base_uri": "https://localhost:8080/"
        },
        "id": "RpVcJwqKI-YF",
        "outputId": "8f532a5c-6ce9-4dce-b920-306468ff8dc4"
      },
      "execution_count": 192,
      "outputs": [
        {
          "output_type": "execute_result",
          "data": {
            "text/plain": [
              "False"
            ]
          },
          "metadata": {},
          "execution_count": 192
        }
      ]
    },
    {
      "cell_type": "code",
      "source": [
        "yelp_df=yelp_biz_review"
      ],
      "metadata": {
        "id": "VpyGFSKvmwPi"
      },
      "execution_count": 193,
      "outputs": []
    },
    {
      "cell_type": "code",
      "source": [
        "yelp_df['keywords']=keyword_s"
      ],
      "metadata": {
        "colab": {
          "base_uri": "https://localhost:8080/"
        },
        "id": "hPb2iCu4mp2J",
        "outputId": "f3837889-1a5f-45d0-ea3e-745e0a0ca020"
      },
      "execution_count": 194,
      "outputs": [
        {
          "output_type": "stream",
          "name": "stderr",
          "text": [
            "<ipython-input-194-5196a4915083>:1: SettingWithCopyWarning: \n",
            "A value is trying to be set on a copy of a slice from a DataFrame.\n",
            "Try using .loc[row_indexer,col_indexer] = value instead\n",
            "\n",
            "See the caveats in the documentation: https://pandas.pydata.org/pandas-docs/stable/user_guide/indexing.html#returning-a-view-versus-a-copy\n",
            "  yelp_df['keywords']=keyword_s\n"
          ]
        }
      ]
    },
    {
      "cell_type": "code",
      "source": [
        "yelp_df"
      ],
      "metadata": {
        "colab": {
          "base_uri": "https://localhost:8080/",
          "height": 1000
        },
        "id": "XqzGvBwlnJD3",
        "outputId": "6681655a-7ee3-4e4f-f26f-147cf003d0bb"
      },
      "execution_count": 195,
      "outputs": [
        {
          "output_type": "execute_result",
          "data": {
            "text/plain": [
              "                   business_id                                     name  \\\n",
              "0       VME7Zez9J-FL7cy2H_eIdA                           Branco's Pizza   \n",
              "1       VME7Zez9J-FL7cy2H_eIdA                           Branco's Pizza   \n",
              "2       VME7Zez9J-FL7cy2H_eIdA                           Branco's Pizza   \n",
              "3       VME7Zez9J-FL7cy2H_eIdA                           Branco's Pizza   \n",
              "4       VME7Zez9J-FL7cy2H_eIdA                           Branco's Pizza   \n",
              "...                        ...                                      ...   \n",
              "415061  TZEfDSO2wRC6df4MIsQPsg  Zaxby's Chicken Fingers & Buffalo Wings   \n",
              "415062  TZEfDSO2wRC6df4MIsQPsg  Zaxby's Chicken Fingers & Buffalo Wings   \n",
              "415063  TZEfDSO2wRC6df4MIsQPsg  Zaxby's Chicken Fingers & Buffalo Wings   \n",
              "415064  TZEfDSO2wRC6df4MIsQPsg  Zaxby's Chicken Fingers & Buffalo Wings   \n",
              "415065  TZEfDSO2wRC6df4MIsQPsg  Zaxby's Chicken Fingers & Buffalo Wings   \n",
              "\n",
              "                 address          city state postal_code   latitude  \\\n",
              "0          428 Stokes Rd       Medford    NJ       08055  39.876084   \n",
              "1          428 Stokes Rd       Medford    NJ       08055  39.876084   \n",
              "2          428 Stokes Rd       Medford    NJ       08055  39.876084   \n",
              "3          428 Stokes Rd       Medford    NJ       08055  39.876084   \n",
              "4          428 Stokes Rd       Medford    NJ       08055  39.876084   \n",
              "...                  ...           ...   ...         ...        ...   \n",
              "415061  8810 Wesleyan Rd  Indianapolis    IN       46268  39.913988   \n",
              "415062  8810 Wesleyan Rd  Indianapolis    IN       46268  39.913988   \n",
              "415063  8810 Wesleyan Rd  Indianapolis    IN       46268  39.913988   \n",
              "415064  8810 Wesleyan Rd  Indianapolis    IN       46268  39.913988   \n",
              "415065  8810 Wesleyan Rd  Indianapolis    IN       46268  39.913988   \n",
              "\n",
              "        longitude  stars_bus  review_count  ...               review_id  \\\n",
              "0      -74.816911        3.5            24  ...  iDQ5_1nNKi8eP_Jmg-H0nQ   \n",
              "1      -74.816911        3.5            24  ...  VzBUyylMGwAS06tHGQgMPg   \n",
              "2      -74.816911        3.5            24  ...  7xwJOw-MlHkokFH3q14XSA   \n",
              "3      -74.816911        3.5            24  ...  _HSQfjwRb0Xo0DP-_p4IEw   \n",
              "4      -74.816911        3.5            24  ...  jQ6nIsngp_49lzudG4UjDA   \n",
              "...           ...        ...           ...  ...                     ...   \n",
              "415061 -86.223147        3.0            79  ...  oAQOBQBlJU8m2S124kKCuw   \n",
              "415062 -86.223147        3.0            79  ...  _rSEFp9qV6zoIK03HM_vUw   \n",
              "415063 -86.223147        3.0            79  ...  _zaYZbsb1OwFoqJNTm1BuA   \n",
              "415064 -86.223147        3.0            79  ...  h9FooUsFrffmHysOJGP9MA   \n",
              "415065 -86.223147        3.0            79  ...  yO4wUTzmkmQ7AITjwZpNqA   \n",
              "\n",
              "                       user_id stars_rev useful funny  cool  \\\n",
              "0       eN8tvWTA0JTjHAKTDA4nJQ         5      0     0     0   \n",
              "1       8sOO-SmQjlZ6ZjIcT3na_Q         2      0     0     0   \n",
              "2       HKqyy_Lranv7_8eUFu80xQ         3      1     1     1   \n",
              "3       QVby2V284huDCDY6GOdL9Q         5      0     0     0   \n",
              "4       XUos3vImZ6uz2ByFbu2AWw         3      0     0     0   \n",
              "...                        ...       ...    ...   ...   ...   \n",
              "415061  iJnzniiM5pTcD0b5PneTfg         4      1     0     2   \n",
              "415062  oqgc6uPpV1g7uwrWQzcV2Q         4      0     1     0   \n",
              "415063  dbLz7YfH5Fy6AAB-5-vDyA         3      3     0     0   \n",
              "415064  S9IMF5MkJR949hZtn88X4Q         4      0     0     0   \n",
              "415065  DsBghdbpxFIAl6jApweRaQ         3      2     0     0   \n",
              "\n",
              "                                                     text  \\\n",
              "0       Their pizza is just like you'd get on the boar...   \n",
              "1       Good food but get a 1 star for the price . Pai...   \n",
              "2       Wandered in here by chance, first pizza place ...   \n",
              "3       Best pizza in Medford!  Always consistent and ...   \n",
              "4       I just stop in for the slices.  I prefer the s...   \n",
              "...                                                   ...   \n",
              "415061  I think this is my third visit to a Zaxby's (t...   \n",
              "415062  I came here with my sister and mom. Very clean...   \n",
              "415063  Can't complain much about my 7$ wing combo mea...   \n",
              "415064  First time here and very impressed. Had the ch...   \n",
              "415065  I've had Zaxby's here one other time prior to ...   \n",
              "\n",
              "                       date  \\\n",
              "0       2015-07-17 16:28:45   \n",
              "1       2014-11-01 00:40:29   \n",
              "2       2014-10-15 00:50:16   \n",
              "3       2018-10-02 22:31:19   \n",
              "4       2011-03-02 17:43:55   \n",
              "...                     ...   \n",
              "415061  2017-07-11 00:58:19   \n",
              "415062  2019-02-10 17:40:21   \n",
              "415063  2016-03-18 14:53:46   \n",
              "415064  2016-08-28 18:03:50   \n",
              "415065  2019-01-21 15:21:16   \n",
              "\n",
              "                                                 keywords  \\\n",
              "0       [perfectly melted cheese, nice sweet sauce, me...   \n",
              "1       [brother owns 2 pizza shops, large cheese fry ...   \n",
              "2       [paper menu clearly stated refills, place many...   \n",
              "3       [always consistent, also sell, best pizza, piz...   \n",
              "4       [typical pizza joint pie, gourmet pizza, quick...   \n",
              "...                                                   ...   \n",
              "415061  [even go ask someone else, looks well organize...   \n",
              "415062  [nuclear boneless wings, great customer servic...   \n",
              "415063  [would definitely come back, wing combo meal, ...   \n",
              "415064  [yummy light breadjng, iltra clean environment...   \n",
              "415065  [eat inside due, walking inside, time prior, t...   \n",
              "\n",
              "                                            keywordstring  \n",
              "0       perfectly melted cheese nice sweet sauce meatb...  \n",
              "1       brother owns 2 pizza shops large cheese fry de...  \n",
              "2       paper menu clearly stated refills place many p...  \n",
              "3       always consistent also sell best pizza pizza m...  \n",
              "4       typical pizza joint pie gourmet pizza quick sl...  \n",
              "...                                                   ...  \n",
              "415061  even go ask someone else looks well organized ...  \n",
              "415062  nuclear boneless wings great customer service ...  \n",
              "415063  would definitely come back wing combo meal dif...  \n",
              "415064  yummy light breadjng iltra clean environment u...  \n",
              "415065  eat inside due walking inside time prior taste...  \n",
              "\n",
              "[414248 rows x 23 columns]"
            ],
            "text/html": [
              "\n",
              "  <div id=\"df-2561714f-87d9-4311-8ed2-eeb7f6401221\">\n",
              "    <div class=\"colab-df-container\">\n",
              "      <div>\n",
              "<style scoped>\n",
              "    .dataframe tbody tr th:only-of-type {\n",
              "        vertical-align: middle;\n",
              "    }\n",
              "\n",
              "    .dataframe tbody tr th {\n",
              "        vertical-align: top;\n",
              "    }\n",
              "\n",
              "    .dataframe thead th {\n",
              "        text-align: right;\n",
              "    }\n",
              "</style>\n",
              "<table border=\"1\" class=\"dataframe\">\n",
              "  <thead>\n",
              "    <tr style=\"text-align: right;\">\n",
              "      <th></th>\n",
              "      <th>business_id</th>\n",
              "      <th>name</th>\n",
              "      <th>address</th>\n",
              "      <th>city</th>\n",
              "      <th>state</th>\n",
              "      <th>postal_code</th>\n",
              "      <th>latitude</th>\n",
              "      <th>longitude</th>\n",
              "      <th>stars_bus</th>\n",
              "      <th>review_count</th>\n",
              "      <th>...</th>\n",
              "      <th>review_id</th>\n",
              "      <th>user_id</th>\n",
              "      <th>stars_rev</th>\n",
              "      <th>useful</th>\n",
              "      <th>funny</th>\n",
              "      <th>cool</th>\n",
              "      <th>text</th>\n",
              "      <th>date</th>\n",
              "      <th>keywords</th>\n",
              "      <th>keywordstring</th>\n",
              "    </tr>\n",
              "  </thead>\n",
              "  <tbody>\n",
              "    <tr>\n",
              "      <th>0</th>\n",
              "      <td>VME7Zez9J-FL7cy2H_eIdA</td>\n",
              "      <td>Branco's Pizza</td>\n",
              "      <td>428 Stokes Rd</td>\n",
              "      <td>Medford</td>\n",
              "      <td>NJ</td>\n",
              "      <td>08055</td>\n",
              "      <td>39.876084</td>\n",
              "      <td>-74.816911</td>\n",
              "      <td>3.5</td>\n",
              "      <td>24</td>\n",
              "      <td>...</td>\n",
              "      <td>iDQ5_1nNKi8eP_Jmg-H0nQ</td>\n",
              "      <td>eN8tvWTA0JTjHAKTDA4nJQ</td>\n",
              "      <td>5</td>\n",
              "      <td>0</td>\n",
              "      <td>0</td>\n",
              "      <td>0</td>\n",
              "      <td>Their pizza is just like you'd get on the boar...</td>\n",
              "      <td>2015-07-17 16:28:45</td>\n",
              "      <td>[perfectly melted cheese, nice sweet sauce, me...</td>\n",
              "      <td>perfectly melted cheese nice sweet sauce meatb...</td>\n",
              "    </tr>\n",
              "    <tr>\n",
              "      <th>1</th>\n",
              "      <td>VME7Zez9J-FL7cy2H_eIdA</td>\n",
              "      <td>Branco's Pizza</td>\n",
              "      <td>428 Stokes Rd</td>\n",
              "      <td>Medford</td>\n",
              "      <td>NJ</td>\n",
              "      <td>08055</td>\n",
              "      <td>39.876084</td>\n",
              "      <td>-74.816911</td>\n",
              "      <td>3.5</td>\n",
              "      <td>24</td>\n",
              "      <td>...</td>\n",
              "      <td>VzBUyylMGwAS06tHGQgMPg</td>\n",
              "      <td>8sOO-SmQjlZ6ZjIcT3na_Q</td>\n",
              "      <td>2</td>\n",
              "      <td>0</td>\n",
              "      <td>0</td>\n",
              "      <td>0</td>\n",
              "      <td>Good food but get a 1 star for the price . Pai...</td>\n",
              "      <td>2014-11-01 00:40:29</td>\n",
              "      <td>[brother owns 2 pizza shops, large cheese fry ...</td>\n",
              "      <td>brother owns 2 pizza shops large cheese fry de...</td>\n",
              "    </tr>\n",
              "    <tr>\n",
              "      <th>2</th>\n",
              "      <td>VME7Zez9J-FL7cy2H_eIdA</td>\n",
              "      <td>Branco's Pizza</td>\n",
              "      <td>428 Stokes Rd</td>\n",
              "      <td>Medford</td>\n",
              "      <td>NJ</td>\n",
              "      <td>08055</td>\n",
              "      <td>39.876084</td>\n",
              "      <td>-74.816911</td>\n",
              "      <td>3.5</td>\n",
              "      <td>24</td>\n",
              "      <td>...</td>\n",
              "      <td>7xwJOw-MlHkokFH3q14XSA</td>\n",
              "      <td>HKqyy_Lranv7_8eUFu80xQ</td>\n",
              "      <td>3</td>\n",
              "      <td>1</td>\n",
              "      <td>1</td>\n",
              "      <td>1</td>\n",
              "      <td>Wandered in here by chance, first pizza place ...</td>\n",
              "      <td>2014-10-15 00:50:16</td>\n",
              "      <td>[paper menu clearly stated refills, place many...</td>\n",
              "      <td>paper menu clearly stated refills place many p...</td>\n",
              "    </tr>\n",
              "    <tr>\n",
              "      <th>3</th>\n",
              "      <td>VME7Zez9J-FL7cy2H_eIdA</td>\n",
              "      <td>Branco's Pizza</td>\n",
              "      <td>428 Stokes Rd</td>\n",
              "      <td>Medford</td>\n",
              "      <td>NJ</td>\n",
              "      <td>08055</td>\n",
              "      <td>39.876084</td>\n",
              "      <td>-74.816911</td>\n",
              "      <td>3.5</td>\n",
              "      <td>24</td>\n",
              "      <td>...</td>\n",
              "      <td>_HSQfjwRb0Xo0DP-_p4IEw</td>\n",
              "      <td>QVby2V284huDCDY6GOdL9Q</td>\n",
              "      <td>5</td>\n",
              "      <td>0</td>\n",
              "      <td>0</td>\n",
              "      <td>0</td>\n",
              "      <td>Best pizza in Medford!  Always consistent and ...</td>\n",
              "      <td>2018-10-02 22:31:19</td>\n",
              "      <td>[always consistent, also sell, best pizza, piz...</td>\n",
              "      <td>always consistent also sell best pizza pizza m...</td>\n",
              "    </tr>\n",
              "    <tr>\n",
              "      <th>4</th>\n",
              "      <td>VME7Zez9J-FL7cy2H_eIdA</td>\n",
              "      <td>Branco's Pizza</td>\n",
              "      <td>428 Stokes Rd</td>\n",
              "      <td>Medford</td>\n",
              "      <td>NJ</td>\n",
              "      <td>08055</td>\n",
              "      <td>39.876084</td>\n",
              "      <td>-74.816911</td>\n",
              "      <td>3.5</td>\n",
              "      <td>24</td>\n",
              "      <td>...</td>\n",
              "      <td>jQ6nIsngp_49lzudG4UjDA</td>\n",
              "      <td>XUos3vImZ6uz2ByFbu2AWw</td>\n",
              "      <td>3</td>\n",
              "      <td>0</td>\n",
              "      <td>0</td>\n",
              "      <td>0</td>\n",
              "      <td>I just stop in for the slices.  I prefer the s...</td>\n",
              "      <td>2011-03-02 17:43:55</td>\n",
              "      <td>[typical pizza joint pie, gourmet pizza, quick...</td>\n",
              "      <td>typical pizza joint pie gourmet pizza quick sl...</td>\n",
              "    </tr>\n",
              "    <tr>\n",
              "      <th>...</th>\n",
              "      <td>...</td>\n",
              "      <td>...</td>\n",
              "      <td>...</td>\n",
              "      <td>...</td>\n",
              "      <td>...</td>\n",
              "      <td>...</td>\n",
              "      <td>...</td>\n",
              "      <td>...</td>\n",
              "      <td>...</td>\n",
              "      <td>...</td>\n",
              "      <td>...</td>\n",
              "      <td>...</td>\n",
              "      <td>...</td>\n",
              "      <td>...</td>\n",
              "      <td>...</td>\n",
              "      <td>...</td>\n",
              "      <td>...</td>\n",
              "      <td>...</td>\n",
              "      <td>...</td>\n",
              "      <td>...</td>\n",
              "      <td>...</td>\n",
              "    </tr>\n",
              "    <tr>\n",
              "      <th>415061</th>\n",
              "      <td>TZEfDSO2wRC6df4MIsQPsg</td>\n",
              "      <td>Zaxby's Chicken Fingers &amp; Buffalo Wings</td>\n",
              "      <td>8810 Wesleyan Rd</td>\n",
              "      <td>Indianapolis</td>\n",
              "      <td>IN</td>\n",
              "      <td>46268</td>\n",
              "      <td>39.913988</td>\n",
              "      <td>-86.223147</td>\n",
              "      <td>3.0</td>\n",
              "      <td>79</td>\n",
              "      <td>...</td>\n",
              "      <td>oAQOBQBlJU8m2S124kKCuw</td>\n",
              "      <td>iJnzniiM5pTcD0b5PneTfg</td>\n",
              "      <td>4</td>\n",
              "      <td>1</td>\n",
              "      <td>0</td>\n",
              "      <td>2</td>\n",
              "      <td>I think this is my third visit to a Zaxby's (t...</td>\n",
              "      <td>2017-07-11 00:58:19</td>\n",
              "      <td>[even go ask someone else, looks well organize...</td>\n",
              "      <td>even go ask someone else looks well organized ...</td>\n",
              "    </tr>\n",
              "    <tr>\n",
              "      <th>415062</th>\n",
              "      <td>TZEfDSO2wRC6df4MIsQPsg</td>\n",
              "      <td>Zaxby's Chicken Fingers &amp; Buffalo Wings</td>\n",
              "      <td>8810 Wesleyan Rd</td>\n",
              "      <td>Indianapolis</td>\n",
              "      <td>IN</td>\n",
              "      <td>46268</td>\n",
              "      <td>39.913988</td>\n",
              "      <td>-86.223147</td>\n",
              "      <td>3.0</td>\n",
              "      <td>79</td>\n",
              "      <td>...</td>\n",
              "      <td>_rSEFp9qV6zoIK03HM_vUw</td>\n",
              "      <td>oqgc6uPpV1g7uwrWQzcV2Q</td>\n",
              "      <td>4</td>\n",
              "      <td>0</td>\n",
              "      <td>1</td>\n",
              "      <td>0</td>\n",
              "      <td>I came here with my sister and mom. Very clean...</td>\n",
              "      <td>2019-02-10 17:40:21</td>\n",
              "      <td>[nuclear boneless wings, great customer servic...</td>\n",
              "      <td>nuclear boneless wings great customer service ...</td>\n",
              "    </tr>\n",
              "    <tr>\n",
              "      <th>415063</th>\n",
              "      <td>TZEfDSO2wRC6df4MIsQPsg</td>\n",
              "      <td>Zaxby's Chicken Fingers &amp; Buffalo Wings</td>\n",
              "      <td>8810 Wesleyan Rd</td>\n",
              "      <td>Indianapolis</td>\n",
              "      <td>IN</td>\n",
              "      <td>46268</td>\n",
              "      <td>39.913988</td>\n",
              "      <td>-86.223147</td>\n",
              "      <td>3.0</td>\n",
              "      <td>79</td>\n",
              "      <td>...</td>\n",
              "      <td>_zaYZbsb1OwFoqJNTm1BuA</td>\n",
              "      <td>dbLz7YfH5Fy6AAB-5-vDyA</td>\n",
              "      <td>3</td>\n",
              "      <td>3</td>\n",
              "      <td>0</td>\n",
              "      <td>0</td>\n",
              "      <td>Can't complain much about my 7$ wing combo mea...</td>\n",
              "      <td>2016-03-18 14:53:46</td>\n",
              "      <td>[would definitely come back, wing combo meal, ...</td>\n",
              "      <td>would definitely come back wing combo meal dif...</td>\n",
              "    </tr>\n",
              "    <tr>\n",
              "      <th>415064</th>\n",
              "      <td>TZEfDSO2wRC6df4MIsQPsg</td>\n",
              "      <td>Zaxby's Chicken Fingers &amp; Buffalo Wings</td>\n",
              "      <td>8810 Wesleyan Rd</td>\n",
              "      <td>Indianapolis</td>\n",
              "      <td>IN</td>\n",
              "      <td>46268</td>\n",
              "      <td>39.913988</td>\n",
              "      <td>-86.223147</td>\n",
              "      <td>3.0</td>\n",
              "      <td>79</td>\n",
              "      <td>...</td>\n",
              "      <td>h9FooUsFrffmHysOJGP9MA</td>\n",
              "      <td>S9IMF5MkJR949hZtn88X4Q</td>\n",
              "      <td>4</td>\n",
              "      <td>0</td>\n",
              "      <td>0</td>\n",
              "      <td>0</td>\n",
              "      <td>First time here and very impressed. Had the ch...</td>\n",
              "      <td>2016-08-28 18:03:50</td>\n",
              "      <td>[yummy light breadjng, iltra clean environment...</td>\n",
              "      <td>yummy light breadjng iltra clean environment u...</td>\n",
              "    </tr>\n",
              "    <tr>\n",
              "      <th>415065</th>\n",
              "      <td>TZEfDSO2wRC6df4MIsQPsg</td>\n",
              "      <td>Zaxby's Chicken Fingers &amp; Buffalo Wings</td>\n",
              "      <td>8810 Wesleyan Rd</td>\n",
              "      <td>Indianapolis</td>\n",
              "      <td>IN</td>\n",
              "      <td>46268</td>\n",
              "      <td>39.913988</td>\n",
              "      <td>-86.223147</td>\n",
              "      <td>3.0</td>\n",
              "      <td>79</td>\n",
              "      <td>...</td>\n",
              "      <td>yO4wUTzmkmQ7AITjwZpNqA</td>\n",
              "      <td>DsBghdbpxFIAl6jApweRaQ</td>\n",
              "      <td>3</td>\n",
              "      <td>2</td>\n",
              "      <td>0</td>\n",
              "      <td>0</td>\n",
              "      <td>I've had Zaxby's here one other time prior to ...</td>\n",
              "      <td>2019-01-21 15:21:16</td>\n",
              "      <td>[eat inside due, walking inside, time prior, t...</td>\n",
              "      <td>eat inside due walking inside time prior taste...</td>\n",
              "    </tr>\n",
              "  </tbody>\n",
              "</table>\n",
              "<p>414248 rows × 23 columns</p>\n",
              "</div>\n",
              "      <button class=\"colab-df-convert\" onclick=\"convertToInteractive('df-2561714f-87d9-4311-8ed2-eeb7f6401221')\"\n",
              "              title=\"Convert this dataframe to an interactive table.\"\n",
              "              style=\"display:none;\">\n",
              "        \n",
              "  <svg xmlns=\"http://www.w3.org/2000/svg\" height=\"24px\"viewBox=\"0 0 24 24\"\n",
              "       width=\"24px\">\n",
              "    <path d=\"M0 0h24v24H0V0z\" fill=\"none\"/>\n",
              "    <path d=\"M18.56 5.44l.94 2.06.94-2.06 2.06-.94-2.06-.94-.94-2.06-.94 2.06-2.06.94zm-11 1L8.5 8.5l.94-2.06 2.06-.94-2.06-.94L8.5 2.5l-.94 2.06-2.06.94zm10 10l.94 2.06.94-2.06 2.06-.94-2.06-.94-.94-2.06-.94 2.06-2.06.94z\"/><path d=\"M17.41 7.96l-1.37-1.37c-.4-.4-.92-.59-1.43-.59-.52 0-1.04.2-1.43.59L10.3 9.45l-7.72 7.72c-.78.78-.78 2.05 0 2.83L4 21.41c.39.39.9.59 1.41.59.51 0 1.02-.2 1.41-.59l7.78-7.78 2.81-2.81c.8-.78.8-2.07 0-2.86zM5.41 20L4 18.59l7.72-7.72 1.47 1.35L5.41 20z\"/>\n",
              "  </svg>\n",
              "      </button>\n",
              "      \n",
              "  <style>\n",
              "    .colab-df-container {\n",
              "      display:flex;\n",
              "      flex-wrap:wrap;\n",
              "      gap: 12px;\n",
              "    }\n",
              "\n",
              "    .colab-df-convert {\n",
              "      background-color: #E8F0FE;\n",
              "      border: none;\n",
              "      border-radius: 50%;\n",
              "      cursor: pointer;\n",
              "      display: none;\n",
              "      fill: #1967D2;\n",
              "      height: 32px;\n",
              "      padding: 0 0 0 0;\n",
              "      width: 32px;\n",
              "    }\n",
              "\n",
              "    .colab-df-convert:hover {\n",
              "      background-color: #E2EBFA;\n",
              "      box-shadow: 0px 1px 2px rgba(60, 64, 67, 0.3), 0px 1px 3px 1px rgba(60, 64, 67, 0.15);\n",
              "      fill: #174EA6;\n",
              "    }\n",
              "\n",
              "    [theme=dark] .colab-df-convert {\n",
              "      background-color: #3B4455;\n",
              "      fill: #D2E3FC;\n",
              "    }\n",
              "\n",
              "    [theme=dark] .colab-df-convert:hover {\n",
              "      background-color: #434B5C;\n",
              "      box-shadow: 0px 1px 3px 1px rgba(0, 0, 0, 0.15);\n",
              "      filter: drop-shadow(0px 1px 2px rgba(0, 0, 0, 0.3));\n",
              "      fill: #FFFFFF;\n",
              "    }\n",
              "  </style>\n",
              "\n",
              "      <script>\n",
              "        const buttonEl =\n",
              "          document.querySelector('#df-2561714f-87d9-4311-8ed2-eeb7f6401221 button.colab-df-convert');\n",
              "        buttonEl.style.display =\n",
              "          google.colab.kernel.accessAllowed ? 'block' : 'none';\n",
              "\n",
              "        async function convertToInteractive(key) {\n",
              "          const element = document.querySelector('#df-2561714f-87d9-4311-8ed2-eeb7f6401221');\n",
              "          const dataTable =\n",
              "            await google.colab.kernel.invokeFunction('convertToInteractive',\n",
              "                                                     [key], {});\n",
              "          if (!dataTable) return;\n",
              "\n",
              "          const docLinkHtml = 'Like what you see? Visit the ' +\n",
              "            '<a target=\"_blank\" href=https://colab.research.google.com/notebooks/data_table.ipynb>data table notebook</a>'\n",
              "            + ' to learn more about interactive tables.';\n",
              "          element.innerHTML = '';\n",
              "          dataTable['output_type'] = 'display_data';\n",
              "          await google.colab.output.renderOutput(dataTable, element);\n",
              "          const docLink = document.createElement('div');\n",
              "          docLink.innerHTML = docLinkHtml;\n",
              "          element.appendChild(docLink);\n",
              "        }\n",
              "      </script>\n",
              "    </div>\n",
              "  </div>\n",
              "  "
            ]
          },
          "metadata": {},
          "execution_count": 195
        }
      ]
    },
    {
      "cell_type": "code",
      "source": [
        "csv_name = \"drive/My Drive/Datasets/yelp_keywords_rake.csv\"\n",
        "yelp_df.to_csv(csv_name, index=False)"
      ],
      "metadata": {
        "id": "hDRC1WkHm0r5"
      },
      "execution_count": 86,
      "outputs": []
    },
    {
      "cell_type": "code",
      "source": [
        "keyw=[]\n",
        "for i in yelp_df['keywords']:\n",
        "  if len(i)>1:\n",
        "    k=' '.join(i)\n",
        "    keyw.append(k.lower())\n",
        "  elif len(i)==1:\n",
        "    keyw.append(i[0].lower())\n",
        "  else:\n",
        "    keyw.append('null')"
      ],
      "metadata": {
        "id": "tU0xmr3x7oN_"
      },
      "execution_count": 90,
      "outputs": []
    },
    {
      "cell_type": "code",
      "source": [
        "yelp_df['keywordstring']=keyw"
      ],
      "metadata": {
        "colab": {
          "base_uri": "https://localhost:8080/"
        },
        "id": "FC8xNu3g70QX",
        "outputId": "4adc24f3-4066-4343-ee27-79249f378a14"
      },
      "execution_count": 91,
      "outputs": [
        {
          "output_type": "stream",
          "name": "stderr",
          "text": [
            "<ipython-input-91-056132f8c21a>:1: SettingWithCopyWarning: \n",
            "A value is trying to be set on a copy of a slice from a DataFrame.\n",
            "Try using .loc[row_indexer,col_indexer] = value instead\n",
            "\n",
            "See the caveats in the documentation: https://pandas.pydata.org/pandas-docs/stable/user_guide/indexing.html#returning-a-view-versus-a-copy\n",
            "  yelp_df['keywordstring']=keyw\n"
          ]
        }
      ]
    },
    {
      "cell_type": "code",
      "source": [
        "from sklearn.feature_extraction.text import CountVectorizer\n",
        "from sklearn.model_selection import train_test_split\n",
        "vect = CountVectorizer(max_features=300)\n",
        "vect.fit(yelp_df['keywordstring'])\n",
        "X = vect.transform(yelp_df['keywordstring'])\n",
        "X_df = pd.DataFrame(X.toarray(), columns=vect.get_feature_names_out())"
      ],
      "metadata": {
        "id": "Blu-lxB67dC9"
      },
      "execution_count": 93,
      "outputs": []
    },
    {
      "cell_type": "code",
      "source": [
        "yelp_df.head(1)"
      ],
      "metadata": {
        "colab": {
          "base_uri": "https://localhost:8080/",
          "height": 295
        },
        "id": "T_VT-0ll9MoL",
        "outputId": "d64402b8-8e3e-43e9-8736-3bc9b3906b00"
      },
      "execution_count": 94,
      "outputs": [
        {
          "output_type": "execute_result",
          "data": {
            "text/plain": [
              "              business_id            name        address     city state  \\\n",
              "0  VME7Zez9J-FL7cy2H_eIdA  Branco's Pizza  428 Stokes Rd  Medford    NJ   \n",
              "\n",
              "  postal_code   latitude  longitude  stars_bus  review_count  ...  \\\n",
              "0       08055  39.876084 -74.816911        3.5            24  ...   \n",
              "\n",
              "                review_id                 user_id stars_rev useful funny  \\\n",
              "0  iDQ5_1nNKi8eP_Jmg-H0nQ  eN8tvWTA0JTjHAKTDA4nJQ         5      0     0   \n",
              "\n",
              "   cool                                               text  \\\n",
              "0     0  Their pizza is just like you'd get on the boar...   \n",
              "\n",
              "                  date                                           keywords  \\\n",
              "0  2015-07-17 16:28:45  [perfectly melted cheese, nice sweet sauce, me...   \n",
              "\n",
              "                                       keywordstring  \n",
              "0  perfectly melted cheese nice sweet sauce meatb...  \n",
              "\n",
              "[1 rows x 23 columns]"
            ],
            "text/html": [
              "\n",
              "  <div id=\"df-6414ec9f-23fd-41de-92e2-5f64c7876971\">\n",
              "    <div class=\"colab-df-container\">\n",
              "      <div>\n",
              "<style scoped>\n",
              "    .dataframe tbody tr th:only-of-type {\n",
              "        vertical-align: middle;\n",
              "    }\n",
              "\n",
              "    .dataframe tbody tr th {\n",
              "        vertical-align: top;\n",
              "    }\n",
              "\n",
              "    .dataframe thead th {\n",
              "        text-align: right;\n",
              "    }\n",
              "</style>\n",
              "<table border=\"1\" class=\"dataframe\">\n",
              "  <thead>\n",
              "    <tr style=\"text-align: right;\">\n",
              "      <th></th>\n",
              "      <th>business_id</th>\n",
              "      <th>name</th>\n",
              "      <th>address</th>\n",
              "      <th>city</th>\n",
              "      <th>state</th>\n",
              "      <th>postal_code</th>\n",
              "      <th>latitude</th>\n",
              "      <th>longitude</th>\n",
              "      <th>stars_bus</th>\n",
              "      <th>review_count</th>\n",
              "      <th>...</th>\n",
              "      <th>review_id</th>\n",
              "      <th>user_id</th>\n",
              "      <th>stars_rev</th>\n",
              "      <th>useful</th>\n",
              "      <th>funny</th>\n",
              "      <th>cool</th>\n",
              "      <th>text</th>\n",
              "      <th>date</th>\n",
              "      <th>keywords</th>\n",
              "      <th>keywordstring</th>\n",
              "    </tr>\n",
              "  </thead>\n",
              "  <tbody>\n",
              "    <tr>\n",
              "      <th>0</th>\n",
              "      <td>VME7Zez9J-FL7cy2H_eIdA</td>\n",
              "      <td>Branco's Pizza</td>\n",
              "      <td>428 Stokes Rd</td>\n",
              "      <td>Medford</td>\n",
              "      <td>NJ</td>\n",
              "      <td>08055</td>\n",
              "      <td>39.876084</td>\n",
              "      <td>-74.816911</td>\n",
              "      <td>3.5</td>\n",
              "      <td>24</td>\n",
              "      <td>...</td>\n",
              "      <td>iDQ5_1nNKi8eP_Jmg-H0nQ</td>\n",
              "      <td>eN8tvWTA0JTjHAKTDA4nJQ</td>\n",
              "      <td>5</td>\n",
              "      <td>0</td>\n",
              "      <td>0</td>\n",
              "      <td>0</td>\n",
              "      <td>Their pizza is just like you'd get on the boar...</td>\n",
              "      <td>2015-07-17 16:28:45</td>\n",
              "      <td>[perfectly melted cheese, nice sweet sauce, me...</td>\n",
              "      <td>perfectly melted cheese nice sweet sauce meatb...</td>\n",
              "    </tr>\n",
              "  </tbody>\n",
              "</table>\n",
              "<p>1 rows × 23 columns</p>\n",
              "</div>\n",
              "      <button class=\"colab-df-convert\" onclick=\"convertToInteractive('df-6414ec9f-23fd-41de-92e2-5f64c7876971')\"\n",
              "              title=\"Convert this dataframe to an interactive table.\"\n",
              "              style=\"display:none;\">\n",
              "        \n",
              "  <svg xmlns=\"http://www.w3.org/2000/svg\" height=\"24px\"viewBox=\"0 0 24 24\"\n",
              "       width=\"24px\">\n",
              "    <path d=\"M0 0h24v24H0V0z\" fill=\"none\"/>\n",
              "    <path d=\"M18.56 5.44l.94 2.06.94-2.06 2.06-.94-2.06-.94-.94-2.06-.94 2.06-2.06.94zm-11 1L8.5 8.5l.94-2.06 2.06-.94-2.06-.94L8.5 2.5l-.94 2.06-2.06.94zm10 10l.94 2.06.94-2.06 2.06-.94-2.06-.94-.94-2.06-.94 2.06-2.06.94z\"/><path d=\"M17.41 7.96l-1.37-1.37c-.4-.4-.92-.59-1.43-.59-.52 0-1.04.2-1.43.59L10.3 9.45l-7.72 7.72c-.78.78-.78 2.05 0 2.83L4 21.41c.39.39.9.59 1.41.59.51 0 1.02-.2 1.41-.59l7.78-7.78 2.81-2.81c.8-.78.8-2.07 0-2.86zM5.41 20L4 18.59l7.72-7.72 1.47 1.35L5.41 20z\"/>\n",
              "  </svg>\n",
              "      </button>\n",
              "      \n",
              "  <style>\n",
              "    .colab-df-container {\n",
              "      display:flex;\n",
              "      flex-wrap:wrap;\n",
              "      gap: 12px;\n",
              "    }\n",
              "\n",
              "    .colab-df-convert {\n",
              "      background-color: #E8F0FE;\n",
              "      border: none;\n",
              "      border-radius: 50%;\n",
              "      cursor: pointer;\n",
              "      display: none;\n",
              "      fill: #1967D2;\n",
              "      height: 32px;\n",
              "      padding: 0 0 0 0;\n",
              "      width: 32px;\n",
              "    }\n",
              "\n",
              "    .colab-df-convert:hover {\n",
              "      background-color: #E2EBFA;\n",
              "      box-shadow: 0px 1px 2px rgba(60, 64, 67, 0.3), 0px 1px 3px 1px rgba(60, 64, 67, 0.15);\n",
              "      fill: #174EA6;\n",
              "    }\n",
              "\n",
              "    [theme=dark] .colab-df-convert {\n",
              "      background-color: #3B4455;\n",
              "      fill: #D2E3FC;\n",
              "    }\n",
              "\n",
              "    [theme=dark] .colab-df-convert:hover {\n",
              "      background-color: #434B5C;\n",
              "      box-shadow: 0px 1px 3px 1px rgba(0, 0, 0, 0.15);\n",
              "      filter: drop-shadow(0px 1px 2px rgba(0, 0, 0, 0.3));\n",
              "      fill: #FFFFFF;\n",
              "    }\n",
              "  </style>\n",
              "\n",
              "      <script>\n",
              "        const buttonEl =\n",
              "          document.querySelector('#df-6414ec9f-23fd-41de-92e2-5f64c7876971 button.colab-df-convert');\n",
              "        buttonEl.style.display =\n",
              "          google.colab.kernel.accessAllowed ? 'block' : 'none';\n",
              "\n",
              "        async function convertToInteractive(key) {\n",
              "          const element = document.querySelector('#df-6414ec9f-23fd-41de-92e2-5f64c7876971');\n",
              "          const dataTable =\n",
              "            await google.colab.kernel.invokeFunction('convertToInteractive',\n",
              "                                                     [key], {});\n",
              "          if (!dataTable) return;\n",
              "\n",
              "          const docLinkHtml = 'Like what you see? Visit the ' +\n",
              "            '<a target=\"_blank\" href=https://colab.research.google.com/notebooks/data_table.ipynb>data table notebook</a>'\n",
              "            + ' to learn more about interactive tables.';\n",
              "          element.innerHTML = '';\n",
              "          dataTable['output_type'] = 'display_data';\n",
              "          await google.colab.output.renderOutput(dataTable, element);\n",
              "          const docLink = document.createElement('div');\n",
              "          docLink.innerHTML = docLinkHtml;\n",
              "          element.appendChild(docLink);\n",
              "        }\n",
              "      </script>\n",
              "    </div>\n",
              "  </div>\n",
              "  "
            ]
          },
          "metadata": {},
          "execution_count": 94
        }
      ]
    },
    {
      "cell_type": "code",
      "source": [
        "print(yelp_df['text'][2], yelp_df['keywords'][2])"
      ],
      "metadata": {
        "colab": {
          "base_uri": "https://localhost:8080/"
        },
        "id": "eG4PCpTq9Skx",
        "outputId": "7abd29fb-fc3f-47ca-f797-26c622297e27"
      },
      "execution_count": 196,
      "outputs": [
        {
          "output_type": "stream",
          "name": "stdout",
          "text": [
            "Wandered in here by chance, first pizza place we found after my kid's weeknight travel game. I could tell soon after we walked in the spot wasn't exactly a place many people dined in, which is ok for a take-out heavy restaurant.\n",
            "\n",
            "Drinks came out in small paper cups, of course the paper menu clearly stated refills were extra. The young girl working didn't seem to know much about the pizza toppings, maybe she was new, or never watched a pie being made. \n",
            "\n",
            "Our plain pizza was good, not great. Crust was tasty, though could've been cooked few minutes more; but well done crust is a matter of preference. The chicken cheesesteak we also ordered was nothing special either, kinda on the tasteless side. \n",
            "\n",
            "Overall, not a bad place, no major issues, but not enough to encourage a return trip. No diamond in the rough here. ['paper menu clearly stated refills', 'place many people dined', 'small paper cups', 'young girl working', 'weeknight travel game', 'nothing special either', 'could tell soon', 'first pizza place', 'well done crust', 'bad place']\n"
          ]
        }
      ]
    },
    {
      "cell_type": "code",
      "source": [
        "yelp_df['text'][3]"
      ],
      "metadata": {
        "colab": {
          "base_uri": "https://localhost:8080/",
          "height": 36
        },
        "id": "-Klj8O63-OJv",
        "outputId": "697bf059-5bcb-4858-b485-fab7cb2f22cd"
      },
      "execution_count": 199,
      "outputs": [
        {
          "output_type": "execute_result",
          "data": {
            "text/plain": [
              "'Best pizza in Medford!  Always consistent and delicious.  They also sell their dough if you decide to make your own pizza at home.'"
            ],
            "application/vnd.google.colaboratory.intrinsic+json": {
              "type": "string"
            }
          },
          "metadata": {},
          "execution_count": 199
        }
      ]
    },
    {
      "cell_type": "code",
      "source": [
        "yelp_df['keywords'][3]"
      ],
      "metadata": {
        "colab": {
          "base_uri": "https://localhost:8080/"
        },
        "id": "L0bVb9pF-Sy0",
        "outputId": "19f0f6d5-9155-4ff5-ba29-e790d7537a80"
      },
      "execution_count": 200,
      "outputs": [
        {
          "output_type": "execute_result",
          "data": {
            "text/plain": [
              "['always consistent',\n",
              " 'also sell',\n",
              " 'best pizza',\n",
              " 'pizza',\n",
              " 'medford',\n",
              " 'make',\n",
              " 'home',\n",
              " 'dough',\n",
              " 'delicious',\n",
              " 'decide']"
            ]
          },
          "metadata": {},
          "execution_count": 200
        }
      ]
    }
  ],
  "metadata": {
    "colab": {
      "collapsed_sections": [
        "guv7ah9atAfy",
        "KqPwy6TNtIOw",
        "bH94o_a6tTKi"
      ],
      "provenance": []
    },
    "kernelspec": {
      "display_name": "Python 3",
      "name": "python3"
    },
    "language_info": {
      "name": "python"
    }
  },
  "nbformat": 4,
  "nbformat_minor": 0
}